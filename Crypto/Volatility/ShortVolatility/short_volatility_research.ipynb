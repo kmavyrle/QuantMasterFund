{
 "cells": [
  {
   "cell_type": "code",
   "execution_count": 38,
   "metadata": {},
   "outputs": [
    {
     "name": "stdout",
     "output_type": "stream",
     "text": [
      "The autoreload extension is already loaded. To reload it, use:\n",
      "  %reload_ext autoreload\n"
     ]
    }
   ],
   "source": [
    "import asyncio\n",
    "import websockets\n",
    "import json\n",
    "import pandas as pd\n",
    "import datetime as dt\n",
    "import nest_asyncio\n",
    "from concurrent.futures import ThreadPoolExecutor\n",
    "nest_asyncio.apply()\n",
    "from scipy import stats\n",
    "\n",
    "import datetime\n",
    "from pandas.io.json import json_normalize\n",
    "import numpy as np\n",
    "from scipy import interpolate\n",
    "import statsmodels.api as sm\n",
    "from scipy.stats import norm\n",
    "from scipy.stats import skewnorm\n",
    "\n",
    "from market_data import HistData\n",
    "from market_data import Options\n",
    "\n",
    "import warnings\n",
    "warnings.filterwarnings(\"ignore\")\n",
    "\n",
    "%load_ext autoreload\n",
    "%autoreload 2"
   ]
  },
  {
   "cell_type": "markdown",
   "metadata": {},
   "source": [
    "# Strategy Outline\n",
    "1. Short (lower strike) puts and (higher strike) calls\n",
    "2. Strategy assumes vol will stay muted and we harvest theta yield over time\n",
    "3. Find risk-neutral implied probabiltiies of option expiring in the money for the puts and calls\n",
    "4. Short calls where the probability of the option expiring with price > chosen strike is less than 10% -15%\n",
    "5. Short puts where the probability of the option expiring with price < chosen strike is less than 10%-15%\n",
    "6. Stop-loss when floating loss on spread is 2 times more than premium to be earned at expiry\n",
    "6. In essence, probability of stopping out per trade will be 20%-30% at initiation since could be 60% at the highest (at which point we will stop out)"
   ]
  },
  {
   "cell_type": "code",
   "execution_count": 39,
   "metadata": {},
   "outputs": [],
   "source": [
    "hdata = HistData('ETH')"
   ]
  },
  {
   "cell_type": "markdown",
   "metadata": {},
   "source": [
    "## Options"
   ]
  },
  {
   "cell_type": "markdown",
   "metadata": {},
   "source": [
    "## Get all active Eth options"
   ]
  },
  {
   "cell_type": "markdown",
   "metadata": {},
   "source": [
    "### Get actively traded option chains"
   ]
  },
  {
   "cell_type": "code",
   "execution_count": 41,
   "metadata": {},
   "outputs": [
    {
     "name": "stdout",
     "output_type": "stream",
     "text": [
      "876 active options.\n",
      "1710898187867\n",
      "Expiration Date:  2024-03-22 16:00:00\n",
      "878 active options.\n",
      "1710898207560\n",
      "Expiration Date:  2024-03-22 16:00:00\n"
     ]
    }
   ],
   "source": [
    "adjustment = 15\n",
    "option_chain_call= opt.get_option_chain(pd.datetime.today(),option_type='call',date_adjustment=adjustment)\n",
    "option_chain_put= opt.get_option_chain(pd.datetime.today(),option_type='put',date_adjustment =adjustment)\n",
    "option_chain_call['scaled_iv'] = option_chain_call['mark_iv']*np.sqrt(option_chain_call['dte']/360)\n",
    "option_chain_put['scaled_iv'] = option_chain_put['mark_iv']*np.sqrt(option_chain_put['dte']/360)"
   ]
  },
  {
   "cell_type": "markdown",
   "metadata": {},
   "source": [
    "### Get Implied Probabilities\n",
    "1. First method is to use the IV's themselves as the vol to calculate the implied probabilities\n",
    "2. Second method is to use the atm strike's IV to calcualte the implied probabilities (Assumes a true normal distribution)"
   ]
  },
  {
   "cell_type": "markdown",
   "metadata": {},
   "source": [
    "## Method 1"
   ]
  },
  {
   "cell_type": "code",
   "execution_count": 42,
   "metadata": {},
   "outputs": [
    {
     "data": {
      "text/plain": [
       "3668.5950128154454"
      ]
     },
     "execution_count": 42,
     "metadata": {},
     "output_type": "execute_result"
    }
   ],
   "source": [
    "mu = 0.3\n",
    "t = (option_chain_call['expiration_date'].iloc[0]-pd.datetime.today()).days/360\n",
    "curr_price = curr_price * np.exp(mu*t)\n",
    "curr_price"
   ]
  },
  {
   "cell_type": "code",
   "execution_count": 43,
   "metadata": {},
   "outputs": [],
   "source": [
    "option_chain_call_adj=option_chain_call[option_chain_call['strike'].astype(float)>=curr_price]\n",
    "option_chain_put_adj=option_chain_put[option_chain_put['strike'].astype(float)<=curr_price]\n",
    "option_chain_full = pd.concat([option_chain_put_adj,option_chain_call_adj])"
   ]
  },
  {
   "cell_type": "code",
   "execution_count": 44,
   "metadata": {},
   "outputs": [
    {
     "name": "stdout",
     "output_type": "stream",
     "text": [
      "0.44947302848297\n"
     ]
    },
    {
     "data": {
      "image/png": "[encoded data removed]",
      "text/plain": [
       "<Figure size 640x480 with 1 Axes>"
      ]
     },
     "metadata": {},
     "output_type": "display_data"
    }
   ],
   "source": [
    "option_chain_full[['strike','mark_price']].set_index('strike').plot()\n",
    "skewness = stats.skew(option_chain_full[['strike','mark_price']].set_index('strike'))[0]\n",
    "print(skewness)"
   ]
  },
  {
   "cell_type": "code",
   "execution_count": 45,
   "metadata": {},
   "outputs": [
    {
     "data": {
      "text/html": [
       "<div>\n",
       "<style scoped>\n",
       "    .dataframe tbody tr th:only-of-type {\n",
       "        vertical-align: middle;\n",
       "    }\n",
       "\n",
       "    .dataframe tbody tr th {\n",
       "        vertical-align: top;\n",
       "    }\n",
       "\n",
       "    .dataframe thead th {\n",
       "        text-align: right;\n",
       "    }\n",
       "</style>\n",
       "<table border=\"1\" class=\"dataframe\">\n",
       "  <thead>\n",
       "    <tr style=\"text-align: right;\">\n",
       "      <th></th>\n",
       "      <th>strike</th>\n",
       "      <th>mark_price</th>\n",
       "    </tr>\n",
       "  </thead>\n",
       "  <tbody>\n",
       "    <tr>\n",
       "      <th>0</th>\n",
       "      <td>2400.0</td>\n",
       "      <td>0.0014</td>\n",
       "    </tr>\n",
       "    <tr>\n",
       "      <th>0</th>\n",
       "      <td>2600.0</td>\n",
       "      <td>0.0026</td>\n",
       "    </tr>\n",
       "    <tr>\n",
       "      <th>0</th>\n",
       "      <td>2800.0</td>\n",
       "      <td>0.0051</td>\n",
       "    </tr>\n",
       "    <tr>\n",
       "      <th>0</th>\n",
       "      <td>2900.0</td>\n",
       "      <td>0.0072</td>\n",
       "    </tr>\n",
       "    <tr>\n",
       "      <th>0</th>\n",
       "      <td>3000.0</td>\n",
       "      <td>0.0103</td>\n",
       "    </tr>\n",
       "    <tr>\n",
       "      <th>0</th>\n",
       "      <td>3100.0</td>\n",
       "      <td>0.0145</td>\n",
       "    </tr>\n",
       "    <tr>\n",
       "      <th>0</th>\n",
       "      <td>3150.0</td>\n",
       "      <td>0.0172</td>\n",
       "    </tr>\n",
       "    <tr>\n",
       "      <th>0</th>\n",
       "      <td>3200.0</td>\n",
       "      <td>0.0203</td>\n",
       "    </tr>\n",
       "    <tr>\n",
       "      <th>0</th>\n",
       "      <td>3250.0</td>\n",
       "      <td>0.0239</td>\n",
       "    </tr>\n",
       "    <tr>\n",
       "      <th>0</th>\n",
       "      <td>3300.0</td>\n",
       "      <td>0.0280</td>\n",
       "    </tr>\n",
       "    <tr>\n",
       "      <th>0</th>\n",
       "      <td>3350.0</td>\n",
       "      <td>0.0326</td>\n",
       "    </tr>\n",
       "    <tr>\n",
       "      <th>0</th>\n",
       "      <td>3400.0</td>\n",
       "      <td>0.0376</td>\n",
       "    </tr>\n",
       "    <tr>\n",
       "      <th>0</th>\n",
       "      <td>3450.0</td>\n",
       "      <td>0.0431</td>\n",
       "    </tr>\n",
       "    <tr>\n",
       "      <th>0</th>\n",
       "      <td>3500.0</td>\n",
       "      <td>0.0492</td>\n",
       "    </tr>\n",
       "    <tr>\n",
       "      <th>0</th>\n",
       "      <td>3550.0</td>\n",
       "      <td>0.0559</td>\n",
       "    </tr>\n",
       "    <tr>\n",
       "      <th>0</th>\n",
       "      <td>3600.0</td>\n",
       "      <td>0.0634</td>\n",
       "    </tr>\n",
       "    <tr>\n",
       "      <th>0</th>\n",
       "      <td>3650.0</td>\n",
       "      <td>0.0711</td>\n",
       "    </tr>\n",
       "    <tr>\n",
       "      <th>0</th>\n",
       "      <td>3700.0</td>\n",
       "      <td>0.0575</td>\n",
       "    </tr>\n",
       "    <tr>\n",
       "      <th>0</th>\n",
       "      <td>3800.0</td>\n",
       "      <td>0.0474</td>\n",
       "    </tr>\n",
       "    <tr>\n",
       "      <th>0</th>\n",
       "      <td>3900.0</td>\n",
       "      <td>0.0390</td>\n",
       "    </tr>\n",
       "    <tr>\n",
       "      <th>0</th>\n",
       "      <td>4000.0</td>\n",
       "      <td>0.0318</td>\n",
       "    </tr>\n",
       "    <tr>\n",
       "      <th>0</th>\n",
       "      <td>4100.0</td>\n",
       "      <td>0.0260</td>\n",
       "    </tr>\n",
       "    <tr>\n",
       "      <th>0</th>\n",
       "      <td>4200.0</td>\n",
       "      <td>0.0213</td>\n",
       "    </tr>\n",
       "    <tr>\n",
       "      <th>0</th>\n",
       "      <td>4400.0</td>\n",
       "      <td>0.0144</td>\n",
       "    </tr>\n",
       "    <tr>\n",
       "      <th>0</th>\n",
       "      <td>4600.0</td>\n",
       "      <td>0.0099</td>\n",
       "    </tr>\n",
       "  </tbody>\n",
       "</table>\n",
       "</div>"
      ],
      "text/plain": [
       "   strike  mark_price\n",
       "0  2400.0      0.0014\n",
       "0  2600.0      0.0026\n",
       "0  2800.0      0.0051\n",
       "0  2900.0      0.0072\n",
       "0  3000.0      0.0103\n",
       "0  3100.0      0.0145\n",
       "0  3150.0      0.0172\n",
       "0  3200.0      0.0203\n",
       "0  3250.0      0.0239\n",
       "0  3300.0      0.0280\n",
       "0  3350.0      0.0326\n",
       "0  3400.0      0.0376\n",
       "0  3450.0      0.0431\n",
       "0  3500.0      0.0492\n",
       "0  3550.0      0.0559\n",
       "0  3600.0      0.0634\n",
       "0  3650.0      0.0711\n",
       "0  3700.0      0.0575\n",
       "0  3800.0      0.0474\n",
       "0  3900.0      0.0390\n",
       "0  4000.0      0.0318\n",
       "0  4100.0      0.0260\n",
       "0  4200.0      0.0213\n",
       "0  4400.0      0.0144\n",
       "0  4600.0      0.0099"
      ]
     },
     "execution_count": 45,
     "metadata": {},
     "output_type": "execute_result"
    }
   ],
   "source": [
    "option_chain_full[['strike','mark_price']]"
   ]
  },
  {
   "cell_type": "code",
   "execution_count": 46,
   "metadata": {},
   "outputs": [
    {
     "data": {
      "text/plain": [
       "<Axes: title={'center': 'Spread Steepness'}, xlabel='strike'>"
      ]
     },
     "execution_count": 46,
     "metadata": {},
     "output_type": "execute_result"
    },
    {
     "data": {
      "image/png": "[encoded data removed]",
      "text/plain": [
       "<Figure size 640x480 with 1 Axes>"
      ]
     },
     "metadata": {},
     "output_type": "display_data"
    }
   ],
   "source": [
    "px_steepness=abs(option_chain_full['mark_price'].diff()*curr_price/option_chain_full['strike'].diff())\n",
    "px_steepness.columns = ['spread_steepness']\n",
    "px_steepness.index = option_chain_full['strike']\n",
    "px_steepness.plot(kind='bar',title = 'Spread Steepness')\n",
    "#We can use the put/call spread steepness to identify which legs command the highest premium to short"
   ]
  },
  {
   "cell_type": "code",
   "execution_count": 47,
   "metadata": {},
   "outputs": [],
   "source": [
    "option_chain_call['implied_probability'] = 1-norm.cdf(option_chain_call['strike'].astype(float),loc = curr_price,scale=curr_price*option_chain_call['scaled_iv']/100)\n",
    "option_chain_put['implied_probability'] = norm.cdf(option_chain_call['strike'].astype(float),loc = curr_price,scale=curr_price*option_chain_put['scaled_iv']/100)\n",
    "\n",
    "\n",
    "option_chain_call=option_chain_call[option_chain_call['strike'].astype(float)>=curr_price]\n",
    "option_chain_put=option_chain_put[option_chain_put['strike'].astype(float)<=curr_price]\n",
    "option_chain_full = pd.concat([option_chain_put,option_chain_call])\n",
    "option_chain_full['implied_probability'] = option_chain_full['implied_probability']*(0.5/option_chain_full['implied_probability'].max())"
   ]
  },
  {
   "cell_type": "code",
   "execution_count": 48,
   "metadata": {},
   "outputs": [
    {
     "data": {
      "text/plain": [
       "<Axes: title={'center': 'Option Implied Probabilities of ETH Expiration Price'}, xlabel='strike'>"
      ]
     },
     "execution_count": 48,
     "metadata": {},
     "output_type": "execute_result"
    },
    {
     "data": {
      "image/png": "[encoded data removed]",
      "text/plain": [
       "<Figure size 640x480 with 1 Axes>"
      ]
     },
     "metadata": {},
     "output_type": "display_data"
    }
   ],
   "source": [
    "option_chain_full[['strike','implied_probability']].set_index('strike').plot(title='Option Implied Probabilities of ETH Expiration Price')"
   ]
  },
  {
   "cell_type": "code",
   "execution_count": 49,
   "metadata": {},
   "outputs": [
    {
     "data": {
      "text/html": [
       "<div>\n",
       "<style scoped>\n",
       "    .dataframe tbody tr th:only-of-type {\n",
       "        vertical-align: middle;\n",
       "    }\n",
       "\n",
       "    .dataframe tbody tr th {\n",
       "        vertical-align: top;\n",
       "    }\n",
       "\n",
       "    .dataframe thead th {\n",
       "        text-align: right;\n",
       "    }\n",
       "</style>\n",
       "<table border=\"1\" class=\"dataframe\">\n",
       "  <thead>\n",
       "    <tr style=\"text-align: right;\">\n",
       "      <th></th>\n",
       "      <th>strike</th>\n",
       "      <th>implied_probability</th>\n",
       "    </tr>\n",
       "  </thead>\n",
       "  <tbody>\n",
       "    <tr>\n",
       "      <th>0</th>\n",
       "      <td>2400.0</td>\n",
       "      <td>0.044505</td>\n",
       "    </tr>\n",
       "    <tr>\n",
       "      <th>0</th>\n",
       "      <td>2600.0</td>\n",
       "      <td>0.060949</td>\n",
       "    </tr>\n",
       "    <tr>\n",
       "      <th>0</th>\n",
       "      <td>2800.0</td>\n",
       "      <td>0.090682</td>\n",
       "    </tr>\n",
       "    <tr>\n",
       "      <th>0</th>\n",
       "      <td>2900.0</td>\n",
       "      <td>0.112205</td>\n",
       "    </tr>\n",
       "    <tr>\n",
       "      <th>0</th>\n",
       "      <td>3000.0</td>\n",
       "      <td>0.140861</td>\n",
       "    </tr>\n",
       "    <tr>\n",
       "      <th>0</th>\n",
       "      <td>3100.0</td>\n",
       "      <td>0.177098</td>\n",
       "    </tr>\n",
       "    <tr>\n",
       "      <th>0</th>\n",
       "      <td>3150.0</td>\n",
       "      <td>0.198298</td>\n",
       "    </tr>\n",
       "    <tr>\n",
       "      <th>0</th>\n",
       "      <td>3200.0</td>\n",
       "      <td>0.221532</td>\n",
       "    </tr>\n",
       "    <tr>\n",
       "      <th>0</th>\n",
       "      <td>3250.0</td>\n",
       "      <td>0.247224</td>\n",
       "    </tr>\n",
       "    <tr>\n",
       "      <th>0</th>\n",
       "      <td>3300.0</td>\n",
       "      <td>0.274698</td>\n",
       "    </tr>\n",
       "    <tr>\n",
       "      <th>0</th>\n",
       "      <td>3350.0</td>\n",
       "      <td>0.303688</td>\n",
       "    </tr>\n",
       "    <tr>\n",
       "      <th>0</th>\n",
       "      <td>3400.0</td>\n",
       "      <td>0.334075</td>\n",
       "    </tr>\n",
       "    <tr>\n",
       "      <th>0</th>\n",
       "      <td>3450.0</td>\n",
       "      <td>0.365605</td>\n",
       "    </tr>\n",
       "    <tr>\n",
       "      <th>0</th>\n",
       "      <td>3500.0</td>\n",
       "      <td>0.398297</td>\n",
       "    </tr>\n",
       "    <tr>\n",
       "      <th>0</th>\n",
       "      <td>3550.0</td>\n",
       "      <td>0.431927</td>\n",
       "    </tr>\n",
       "    <tr>\n",
       "      <th>0</th>\n",
       "      <td>3600.0</td>\n",
       "      <td>0.466138</td>\n",
       "    </tr>\n",
       "    <tr>\n",
       "      <th>0</th>\n",
       "      <td>3650.0</td>\n",
       "      <td>0.500000</td>\n",
       "    </tr>\n",
       "    <tr>\n",
       "      <th>0</th>\n",
       "      <td>3700.0</td>\n",
       "      <td>0.491441</td>\n",
       "    </tr>\n",
       "    <tr>\n",
       "      <th>0</th>\n",
       "      <td>3800.0</td>\n",
       "      <td>0.425700</td>\n",
       "    </tr>\n",
       "    <tr>\n",
       "      <th>0</th>\n",
       "      <td>3900.0</td>\n",
       "      <td>0.363398</td>\n",
       "    </tr>\n",
       "    <tr>\n",
       "      <th>0</th>\n",
       "      <td>4000.0</td>\n",
       "      <td>0.305978</td>\n",
       "    </tr>\n",
       "    <tr>\n",
       "      <th>0</th>\n",
       "      <td>4100.0</td>\n",
       "      <td>0.254287</td>\n",
       "    </tr>\n",
       "    <tr>\n",
       "      <th>0</th>\n",
       "      <td>4200.0</td>\n",
       "      <td>0.208875</td>\n",
       "    </tr>\n",
       "    <tr>\n",
       "      <th>0</th>\n",
       "      <td>4400.0</td>\n",
       "      <td>0.136838</td>\n",
       "    </tr>\n",
       "    <tr>\n",
       "      <th>0</th>\n",
       "      <td>4600.0</td>\n",
       "      <td>0.086715</td>\n",
       "    </tr>\n",
       "  </tbody>\n",
       "</table>\n",
       "</div>"
      ],
      "text/plain": [
       "   strike  implied_probability\n",
       "0  2400.0             0.044505\n",
       "0  2600.0             0.060949\n",
       "0  2800.0             0.090682\n",
       "0  2900.0             0.112205\n",
       "0  3000.0             0.140861\n",
       "0  3100.0             0.177098\n",
       "0  3150.0             0.198298\n",
       "0  3200.0             0.221532\n",
       "0  3250.0             0.247224\n",
       "0  3300.0             0.274698\n",
       "0  3350.0             0.303688\n",
       "0  3400.0             0.334075\n",
       "0  3450.0             0.365605\n",
       "0  3500.0             0.398297\n",
       "0  3550.0             0.431927\n",
       "0  3600.0             0.466138\n",
       "0  3650.0             0.500000\n",
       "0  3700.0             0.491441\n",
       "0  3800.0             0.425700\n",
       "0  3900.0             0.363398\n",
       "0  4000.0             0.305978\n",
       "0  4100.0             0.254287\n",
       "0  4200.0             0.208875\n",
       "0  4400.0             0.136838\n",
       "0  4600.0             0.086715"
      ]
     },
     "execution_count": 49,
     "metadata": {},
     "output_type": "execute_result"
    }
   ],
   "source": [
    "option_chain_full[['strike','implied_probability']]"
   ]
  },
  {
   "cell_type": "markdown",
   "metadata": {},
   "source": [
    "## Method 2"
   ]
  },
  {
   "cell_type": "code",
   "execution_count": 17,
   "metadata": {},
   "outputs": [
    {
     "name": "stdout",
     "output_type": "stream",
     "text": [
      "864 active options.\n",
      "1711205408915\n",
      "Expiration Date:  2024-03-29 16:00:00\n",
      "864 active options.\n",
      "1711205434830\n",
      "Expiration Date:  2024-03-29 16:00:00\n"
     ]
    }
   ],
   "source": [
    "option_chain_call= opt.get_option_chain(pd.datetime.today(),option_type='call')\n",
    "option_chain_put= opt.get_option_chain(pd.datetime.today(),option_type='put')\n",
    "option_chain_call['scaled_iv'] = option_chain_call['mark_iv']*np.sqrt(option_chain_call['dte']/360)\n",
    "option_chain_put['scaled_iv'] = option_chain_put['mark_iv']*np.sqrt(option_chain_put['dte']/360)"
   ]
  },
  {
   "cell_type": "code",
   "execution_count": 18,
   "metadata": {},
   "outputs": [],
   "source": [
    "call_iv = option_chain_call[option_chain_call['strike']==curr_price- curr_price%100]['scaled_iv'][0]\n",
    "put_iv = option_chain_put[option_chain_put['strike']==curr_price- curr_price%100]['scaled_iv'][0]"
   ]
  },
  {
   "cell_type": "code",
   "execution_count": 19,
   "metadata": {},
   "outputs": [],
   "source": [
    "option_chain_call['implied_probability'] = 1-norm.cdf(option_chain_call['strike'].astype(float),loc = curr_price,scale=curr_price*call_iv/100)\n",
    "option_chain_put['implied_probability'] = norm.cdf(option_chain_call['strike'].astype(float),loc = curr_price,scale=curr_price*put_iv/100)"
   ]
  },
  {
   "cell_type": "code",
   "execution_count": 20,
   "metadata": {},
   "outputs": [],
   "source": [
    "option_chain_call=option_chain_call[option_chain_call['strike'].astype(float)>=curr_price]\n",
    "option_chain_put=option_chain_put[option_chain_put['strike'].astype(float)<=curr_price]\n",
    "option_chain_full = pd.concat([option_chain_put,option_chain_call])"
   ]
  },
  {
   "cell_type": "code",
   "execution_count": 21,
   "metadata": {},
   "outputs": [
    {
     "data": {
      "text/plain": [
       "<Axes: title={'center': 'Option Implied Probabilities of ETH Expiration Price'}, xlabel='strike'>"
      ]
     },
     "execution_count": 21,
     "metadata": {},
     "output_type": "execute_result"
    },
    {
     "data": {
      "image/png": "[encoded data removed]",
      "text/plain": [
       "<Figure size 640x480 with 1 Axes>"
      ]
     },
     "metadata": {},
     "output_type": "display_data"
    }
   ],
   "source": [
    "option_chain_full[['strike','implied_probability']].set_index('strike').plot(title='Option Implied Probabilities of ETH Expiration Price')"
   ]
  },
  {
   "cell_type": "code",
   "execution_count": 22,
   "metadata": {},
   "outputs": [
    {
     "data": {
      "text/html": [
       "<div>\n",
       "<style scoped>\n",
       "    .dataframe tbody tr th:only-of-type {\n",
       "        vertical-align: middle;\n",
       "    }\n",
       "\n",
       "    .dataframe tbody tr th {\n",
       "        vertical-align: top;\n",
       "    }\n",
       "\n",
       "    .dataframe thead th {\n",
       "        text-align: right;\n",
       "    }\n",
       "</style>\n",
       "<table border=\"1\" class=\"dataframe\">\n",
       "  <thead>\n",
       "    <tr style=\"text-align: right;\">\n",
       "      <th></th>\n",
       "      <th>strike</th>\n",
       "      <th>implied_probability</th>\n",
       "    </tr>\n",
       "  </thead>\n",
       "  <tbody>\n",
       "    <tr>\n",
       "      <th>0</th>\n",
       "      <td>200.0</td>\n",
       "      <td>1.244567e-07</td>\n",
       "    </tr>\n",
       "    <tr>\n",
       "      <th>0</th>\n",
       "      <td>400.0</td>\n",
       "      <td>6.489314e-07</td>\n",
       "    </tr>\n",
       "    <tr>\n",
       "      <th>0</th>\n",
       "      <td>500.0</td>\n",
       "      <td>1.428350e-06</td>\n",
       "    </tr>\n",
       "    <tr>\n",
       "      <th>0</th>\n",
       "      <td>600.0</td>\n",
       "      <td>3.068049e-06</td>\n",
       "    </tr>\n",
       "    <tr>\n",
       "      <th>0</th>\n",
       "      <td>800.0</td>\n",
       "      <td>1.315790e-05</td>\n",
       "    </tr>\n",
       "    <tr>\n",
       "      <th>0</th>\n",
       "      <td>1000.0</td>\n",
       "      <td>5.121290e-05</td>\n",
       "    </tr>\n",
       "    <tr>\n",
       "      <th>0</th>\n",
       "      <td>1200.0</td>\n",
       "      <td>1.810035e-04</td>\n",
       "    </tr>\n",
       "    <tr>\n",
       "      <th>0</th>\n",
       "      <td>1400.0</td>\n",
       "      <td>5.813006e-04</td>\n",
       "    </tr>\n",
       "    <tr>\n",
       "      <th>0</th>\n",
       "      <td>1500.0</td>\n",
       "      <td>1.005233e-03</td>\n",
       "    </tr>\n",
       "    <tr>\n",
       "      <th>0</th>\n",
       "      <td>1600.0</td>\n",
       "      <td>1.697737e-03</td>\n",
       "    </tr>\n",
       "    <tr>\n",
       "      <th>0</th>\n",
       "      <td>1700.0</td>\n",
       "      <td>2.800701e-03</td>\n",
       "    </tr>\n",
       "    <tr>\n",
       "      <th>0</th>\n",
       "      <td>1800.0</td>\n",
       "      <td>4.513529e-03</td>\n",
       "    </tr>\n",
       "    <tr>\n",
       "      <th>0</th>\n",
       "      <td>1900.0</td>\n",
       "      <td>7.106993e-03</td>\n",
       "    </tr>\n",
       "    <tr>\n",
       "      <th>0</th>\n",
       "      <td>2000.0</td>\n",
       "      <td>1.093577e-02</td>\n",
       "    </tr>\n",
       "    <tr>\n",
       "      <th>0</th>\n",
       "      <td>2100.0</td>\n",
       "      <td>1.644705e-02</td>\n",
       "    </tr>\n",
       "    <tr>\n",
       "      <th>0</th>\n",
       "      <td>2200.0</td>\n",
       "      <td>2.418204e-02</td>\n",
       "    </tr>\n",
       "    <tr>\n",
       "      <th>0</th>\n",
       "      <td>2300.0</td>\n",
       "      <td>3.476678e-02</td>\n",
       "    </tr>\n",
       "    <tr>\n",
       "      <th>0</th>\n",
       "      <td>2400.0</td>\n",
       "      <td>4.888935e-02</td>\n",
       "    </tr>\n",
       "    <tr>\n",
       "      <th>0</th>\n",
       "      <td>2500.0</td>\n",
       "      <td>6.726157e-02</td>\n",
       "    </tr>\n",
       "    <tr>\n",
       "      <th>0</th>\n",
       "      <td>2600.0</td>\n",
       "      <td>9.056514e-02</td>\n",
       "    </tr>\n",
       "    <tr>\n",
       "      <th>0</th>\n",
       "      <td>2700.0</td>\n",
       "      <td>1.193854e-01</td>\n",
       "    </tr>\n",
       "    <tr>\n",
       "      <th>0</th>\n",
       "      <td>2800.0</td>\n",
       "      <td>1.541379e-01</td>\n",
       "    </tr>\n",
       "    <tr>\n",
       "      <th>0</th>\n",
       "      <td>2900.0</td>\n",
       "      <td>1.949969e-01</td>\n",
       "    </tr>\n",
       "    <tr>\n",
       "      <th>0</th>\n",
       "      <td>3000.0</td>\n",
       "      <td>2.418355e-01</td>\n",
       "    </tr>\n",
       "    <tr>\n",
       "      <th>0</th>\n",
       "      <td>3100.0</td>\n",
       "      <td>2.941874e-01</td>\n",
       "    </tr>\n",
       "    <tr>\n",
       "      <th>0</th>\n",
       "      <td>3200.0</td>\n",
       "      <td>3.512402e-01</td>\n",
       "    </tr>\n",
       "    <tr>\n",
       "      <th>0</th>\n",
       "      <td>3250.0</td>\n",
       "      <td>3.811868e-01</td>\n",
       "    </tr>\n",
       "    <tr>\n",
       "      <th>0</th>\n",
       "      <td>3300.0</td>\n",
       "      <td>4.118626e-01</td>\n",
       "    </tr>\n",
       "    <tr>\n",
       "      <th>0</th>\n",
       "      <td>3350.0</td>\n",
       "      <td>4.430869e-01</td>\n",
       "    </tr>\n",
       "    <tr>\n",
       "      <th>0</th>\n",
       "      <td>3400.0</td>\n",
       "      <td>4.746689e-01</td>\n",
       "    </tr>\n",
       "    <tr>\n",
       "      <th>0</th>\n",
       "      <td>3450.0</td>\n",
       "      <td>4.935890e-01</td>\n",
       "    </tr>\n",
       "    <tr>\n",
       "      <th>0</th>\n",
       "      <td>3500.0</td>\n",
       "      <td>4.618874e-01</td>\n",
       "    </tr>\n",
       "    <tr>\n",
       "      <th>0</th>\n",
       "      <td>3600.0</td>\n",
       "      <td>3.994010e-01</td>\n",
       "    </tr>\n",
       "    <tr>\n",
       "      <th>0</th>\n",
       "      <td>3800.0</td>\n",
       "      <td>2.832093e-01</td>\n",
       "    </tr>\n",
       "    <tr>\n",
       "      <th>0</th>\n",
       "      <td>4000.0</td>\n",
       "      <td>1.862580e-01</td>\n",
       "    </tr>\n",
       "    <tr>\n",
       "      <th>0</th>\n",
       "      <td>4500.0</td>\n",
       "      <td>4.571899e-02</td>\n",
       "    </tr>\n",
       "    <tr>\n",
       "      <th>0</th>\n",
       "      <td>5000.0</td>\n",
       "      <td>6.496682e-03</td>\n",
       "    </tr>\n",
       "    <tr>\n",
       "      <th>0</th>\n",
       "      <td>5500.0</td>\n",
       "      <td>5.189589e-04</td>\n",
       "    </tr>\n",
       "    <tr>\n",
       "      <th>0</th>\n",
       "      <td>6000.0</td>\n",
       "      <td>2.289551e-05</td>\n",
       "    </tr>\n",
       "    <tr>\n",
       "      <th>0</th>\n",
       "      <td>6500.0</td>\n",
       "      <td>5.517491e-07</td>\n",
       "    </tr>\n",
       "    <tr>\n",
       "      <th>0</th>\n",
       "      <td>7000.0</td>\n",
       "      <td>7.210522e-09</td>\n",
       "    </tr>\n",
       "    <tr>\n",
       "      <th>0</th>\n",
       "      <td>7500.0</td>\n",
       "      <td>5.084966e-11</td>\n",
       "    </tr>\n",
       "  </tbody>\n",
       "</table>\n",
       "</div>"
      ],
      "text/plain": [
       "   strike  implied_probability\n",
       "0   200.0         1.244567e-07\n",
       "0   400.0         6.489314e-07\n",
       "0   500.0         1.428350e-06\n",
       "0   600.0         3.068049e-06\n",
       "0   800.0         1.315790e-05\n",
       "0  1000.0         5.121290e-05\n",
       "0  1200.0         1.810035e-04\n",
       "0  1400.0         5.813006e-04\n",
       "0  1500.0         1.005233e-03\n",
       "0  1600.0         1.697737e-03\n",
       "0  1700.0         2.800701e-03\n",
       "0  1800.0         4.513529e-03\n",
       "0  1900.0         7.106993e-03\n",
       "0  2000.0         1.093577e-02\n",
       "0  2100.0         1.644705e-02\n",
       "0  2200.0         2.418204e-02\n",
       "0  2300.0         3.476678e-02\n",
       "0  2400.0         4.888935e-02\n",
       "0  2500.0         6.726157e-02\n",
       "0  2600.0         9.056514e-02\n",
       "0  2700.0         1.193854e-01\n",
       "0  2800.0         1.541379e-01\n",
       "0  2900.0         1.949969e-01\n",
       "0  3000.0         2.418355e-01\n",
       "0  3100.0         2.941874e-01\n",
       "0  3200.0         3.512402e-01\n",
       "0  3250.0         3.811868e-01\n",
       "0  3300.0         4.118626e-01\n",
       "0  3350.0         4.430869e-01\n",
       "0  3400.0         4.746689e-01\n",
       "0  3450.0         4.935890e-01\n",
       "0  3500.0         4.618874e-01\n",
       "0  3600.0         3.994010e-01\n",
       "0  3800.0         2.832093e-01\n",
       "0  4000.0         1.862580e-01\n",
       "0  4500.0         4.571899e-02\n",
       "0  5000.0         6.496682e-03\n",
       "0  5500.0         5.189589e-04\n",
       "0  6000.0         2.289551e-05\n",
       "0  6500.0         5.517491e-07\n",
       "0  7000.0         7.210522e-09\n",
       "0  7500.0         5.084966e-11"
      ]
     },
     "execution_count": 22,
     "metadata": {},
     "output_type": "execute_result"
    }
   ],
   "source": [
    "option_chain_full[['strike','implied_probability']]"
   ]
  },
  {
   "cell_type": "markdown",
   "metadata": {},
   "source": [
    "## Vol Skew"
   ]
  },
  {
   "cell_type": "code",
   "execution_count": 23,
   "metadata": {},
   "outputs": [
    {
     "data": {
      "text/plain": [
       "<Axes: xlabel='strike'>"
      ]
     },
     "execution_count": 23,
     "metadata": {},
     "output_type": "execute_result"
    },
    {
     "data": {
      "image/png": "[encoded data removed]",
      "text/plain": [
       "<Figure size 640x480 with 1 Axes>"
      ]
     },
     "metadata": {},
     "output_type": "display_data"
    }
   ],
   "source": [
    "option_chain_full[['strike','mark_iv']].set_index('strike').plot()"
   ]
  },
  {
   "cell_type": "markdown",
   "metadata": {},
   "source": [
    "## IV Adjusted Premium Calc"
   ]
  },
  {
   "cell_type": "code",
   "execution_count": 24,
   "metadata": {},
   "outputs": [],
   "source": [
    "option_chain_full['adjusted_iv']=(option_chain_full['mark_iv'])**3\n",
    "option_chain_full['iv_adjusted_mark_price']=option_chain_full['adjusted_iv']*option_chain_full['mark_price']"
   ]
  },
  {
   "cell_type": "code",
   "execution_count": 25,
   "metadata": {},
   "outputs": [
    {
     "data": {
      "text/plain": [
       "<Axes: xlabel='strike'>"
      ]
     },
     "execution_count": 25,
     "metadata": {},
     "output_type": "execute_result"
    },
    {
     "data": {
      "image/png": "[encoded data removed]",
      "text/plain": [
       "<Figure size 640x480 with 1 Axes>"
      ]
     },
     "metadata": {},
     "output_type": "display_data"
    }
   ],
   "source": [
    "option_chain_full[['strike','iv_adjusted_mark_price']].set_index('strike').plot()"
   ]
  },
  {
   "cell_type": "code",
   "execution_count": 26,
   "metadata": {},
   "outputs": [],
   "source": [
    "iv_gradient = pd.DataFrame(abs(option_chain_full['mark_iv'].diff()))\n",
    "iv_gradient.index = option_chain_full['strike']\n",
    "iv_gradient = iv_gradient[(iv_gradient.index>curr_price - 1000) & (iv_gradient.index<curr_price +1000)]"
   ]
  },
  {
   "cell_type": "code",
   "execution_count": 213,
   "metadata": {},
   "outputs": [
    {
     "data": {
      "text/plain": [
       "<Axes: xlabel='strike'>"
      ]
     },
     "execution_count": 213,
     "metadata": {},
     "output_type": "execute_result"
    },
    {
     "data": {
      "image/png": "[encoded data removed]",
      "text/plain": [
       "<Figure size 640x480 with 1 Axes>"
      ]
     },
     "metadata": {},
     "output_type": "display_data"
    }
   ],
   "source": [
    "iv_gradient.plot()"
   ]
  },
  {
   "cell_type": "markdown",
   "metadata": {},
   "source": [
    "# Check for Spot"
   ]
  },
  {
   "cell_type": "code",
   "execution_count": 546,
   "metadata": {},
   "outputs": [
    {
     "name": "stdout",
     "output_type": "stream",
     "text": [
      "Authentication success\n"
     ]
    },
    {
     "ename": "KeyError",
     "evalue": "'result'",
     "output_type": "error",
     "traceback": [
      "\u001b[1;31m---------------------------------------------------------------------------\u001b[0m",
      "\u001b[1;31mKeyError\u001b[0m                                  Traceback (most recent call last)",
      "Cell \u001b[1;32mIn[546], line 15\u001b[0m\n\u001b[0;32m     12\u001b[0m client_secret \u001b[38;5;241m=\u001b[39mcreds[\u001b[38;5;124m'\u001b[39m\u001b[38;5;124mclient_secret\u001b[39m\u001b[38;5;124m'\u001b[39m]\u001b[38;5;241m.\u001b[39mvalues[\u001b[38;5;241m0\u001b[39m]\n\u001b[0;32m     14\u001b[0m ws \u001b[38;5;241m=\u001b[39m accmgmt\u001b[38;5;241m.\u001b[39mDeribitWS(client_id\u001b[38;5;241m=\u001b[39mclient_id, client_secret\u001b[38;5;241m=\u001b[39mclient_secret, live\u001b[38;5;241m=\u001b[39m\u001b[38;5;28;01mTrue\u001b[39;00m)\n\u001b[1;32m---> 15\u001b[0m positions \u001b[38;5;241m=\u001b[39m \u001b[43mws\u001b[49m\u001b[38;5;241;43m.\u001b[39;49m\u001b[43mget_positions\u001b[49m\u001b[43m(\u001b[49m\u001b[43mcurrency\u001b[49m\u001b[38;5;241;43m=\u001b[39;49m\u001b[38;5;124;43m'\u001b[39;49m\u001b[38;5;124;43mETH\u001b[39;49m\u001b[38;5;124;43m'\u001b[39;49m\u001b[43m,\u001b[49m\u001b[43mkind\u001b[49m\u001b[43m \u001b[49m\u001b[38;5;241;43m=\u001b[39;49m\u001b[43m \u001b[49m\u001b[38;5;124;43m'\u001b[39;49m\u001b[38;5;124;43mspot\u001b[39;49m\u001b[38;5;124;43m'\u001b[39;49m\u001b[43m)\u001b[49m\u001b[43m[\u001b[49m\u001b[38;5;124;43m'\u001b[39;49m\u001b[38;5;124;43mresult\u001b[39;49m\u001b[38;5;124;43m'\u001b[39;49m\u001b[43m]\u001b[49m\n",
      "\u001b[1;31mKeyError\u001b[0m: 'result'"
     ]
    }
   ],
   "source": [
    "import pandas as pd\n",
    "import numpy as np\n",
    "import nest_asyncio\n",
    "nest_asyncio.apply()\n",
    "import account_mgmt as accmgmt\n",
    "import csv\n",
    "import os\n",
    "\n",
    "creds = pd.read_csv(r'C:\\Users\\kmavy\\OneDrive\\Desktop\\credentials.csv')\n",
    "#dep = float(input('Enter Deposit Amount:'))\n",
    "client_id = creds['client_id'].values[0]\n",
    "client_secret =creds['client_secret'].values[0]\n",
    "\n",
    "ws = accmgmt.DeribitWS(client_id=client_id, client_secret=client_secret, live=True)\n",
    "positions = ws.get_positions(currency='ETH',kind = 'spot')['result']"
   ]
  },
  {
   "cell_type": "code",
   "execution_count": 552,
   "metadata": {},
   "outputs": [
    {
     "data": {
      "text/plain": [
       "Index(['profit_as_cashflow', 'price_currency', 'side', 'user_role', 'trade_id',\n",
       "       'interest_pl', 'contracts', 'user_seq', 'equity', 'fee_balance',\n",
       "       'instrument_name', 'order_id', 'username', 'mark_price', 'user_id',\n",
       "       'amount', 'index_price', 'cashflow', 'commission', 'price', 'change',\n",
       "       'currency', 'balance', 'type', 'timestamp', 'position', 'info', 'id',\n",
       "       'datetime', 'Date', 'direction', 'trade_type'],\n",
       "      dtype='object')"
      ]
     },
     "execution_count": 552,
     "metadata": {},
     "output_type": "execute_result"
    }
   ],
   "source": [
    "trade_log.columns"
   ]
  },
  {
   "cell_type": "code",
   "execution_count": 561,
   "metadata": {},
   "outputs": [
    {
     "data": {
      "text/plain": [
       "{'ETH-29MAR24-2100-P',\n",
       " 'ETH-29MAR24-2300-P',\n",
       " 'ETH-29MAR24-2500-P',\n",
       " 'ETH-29MAR24-3300-C',\n",
       " 'ETH-29MAR24-3400-C',\n",
       " 'ETH-29MAR24-3500-C',\n",
       " 'ETH-29MAR24-3600-C',\n",
       " 'ETH-8MAR24-2200-P',\n",
       " 'ETH-8MAR24-2500-P',\n",
       " 'ETH-8MAR24-3300-C',\n",
       " 'ETH-8MAR24-3400-C',\n",
       " 'ETH-8MAR24-3600-C',\n",
       " 'ETH-8MAR24-3800-C',\n",
       " 'ETH_USDC',\n",
       " None}"
      ]
     },
     "execution_count": 561,
     "metadata": {},
     "output_type": "execute_result"
    }
   ],
   "source": [
    "set(trade_log['instrument_name'])"
   ]
  },
  {
   "cell_type": "code",
   "execution_count": 560,
   "metadata": {},
   "outputs": [
    {
     "data": {
      "text/plain": [
       "0.19239999999999996"
      ]
     },
     "execution_count": 560,
     "metadata": {},
     "output_type": "execute_result"
    }
   ],
   "source": [
    "-0.4+.3192+.1807+.0925"
   ]
  },
  {
   "cell_type": "code",
   "execution_count": 577,
   "metadata": {},
   "outputs": [],
   "source": [
    "usdc = ws.get_trade_log('ETH',start_dt,end_dt)"
   ]
  },
  {
   "cell_type": "code",
   "execution_count": 584,
   "metadata": {},
   "outputs": [
    {
     "data": {
      "text/html": [
       "<div>\n",
       "<style scoped>\n",
       "    .dataframe tbody tr th:only-of-type {\n",
       "        vertical-align: middle;\n",
       "    }\n",
       "\n",
       "    .dataframe tbody tr th {\n",
       "        vertical-align: top;\n",
       "    }\n",
       "\n",
       "    .dataframe thead th {\n",
       "        text-align: right;\n",
       "    }\n",
       "</style>\n",
       "<table border=\"1\" class=\"dataframe\">\n",
       "  <thead>\n",
       "    <tr style=\"text-align: right;\">\n",
       "      <th></th>\n",
       "      <th>Date</th>\n",
       "      <th>amount</th>\n",
       "      <th>direction</th>\n",
       "    </tr>\n",
       "  </thead>\n",
       "  <tbody>\n",
       "    <tr>\n",
       "      <th>8</th>\n",
       "      <td>2024-02-25</td>\n",
       "      <td>0.0925</td>\n",
       "      <td>1</td>\n",
       "    </tr>\n",
       "    <tr>\n",
       "      <th>29</th>\n",
       "      <td>2024-02-17</td>\n",
       "      <td>0.3192</td>\n",
       "      <td>1</td>\n",
       "    </tr>\n",
       "    <tr>\n",
       "      <th>30</th>\n",
       "      <td>2024-02-17</td>\n",
       "      <td>0.1808</td>\n",
       "      <td>1</td>\n",
       "    </tr>\n",
       "    <tr>\n",
       "      <th>31</th>\n",
       "      <td>2024-02-17</td>\n",
       "      <td>0.4075</td>\n",
       "      <td>-1</td>\n",
       "    </tr>\n",
       "  </tbody>\n",
       "</table>\n",
       "</div>"
      ],
      "text/plain": [
       "          Date  amount  direction\n",
       "8   2024-02-25  0.0925          1\n",
       "29  2024-02-17  0.3192          1\n",
       "30  2024-02-17  0.1808          1\n",
       "31  2024-02-17  0.4075         -1"
      ]
     },
     "execution_count": 584,
     "metadata": {},
     "output_type": "execute_result"
    }
   ],
   "source": [
    "usdc[usdc['instrument_name']=='ETH_USDC'][['Date','amount','direction']]"
   ]
  },
  {
   "cell_type": "code",
   "execution_count": 585,
   "metadata": {},
   "outputs": [
    {
     "data": {
      "text/plain": [
       "0.18500000000000003"
      ]
     },
     "execution_count": 585,
     "metadata": {},
     "output_type": "execute_result"
    }
   ],
   "source": [
    "-.4075+.0925+0.3192+.1808"
   ]
  },
  {
   "cell_type": "code",
   "execution_count": 545,
   "metadata": {},
   "outputs": [
    {
     "data": {
      "text/plain": [
       "['ETH_BTC', 'ETH_USDC', 'ETH_USDT']"
      ]
     },
     "execution_count": 545,
     "metadata": {},
     "output_type": "execute_result"
    }
   ],
   "source": [
    "ws.available_instruments(currency = 'ETH',kind = 'spot')"
   ]
  },
  {
   "cell_type": "code",
   "execution_count": 542,
   "metadata": {},
   "outputs": [
    {
     "name": "stdout",
     "output_type": "stream",
     "text": [
      "option\n",
      "option\n",
      "option\n",
      "option\n",
      "option\n",
      "option\n",
      "option\n",
      "option\n",
      "option\n",
      "option\n",
      "option\n",
      "option\n"
     ]
    }
   ],
   "source": [
    "for i in positions:\n",
    "    print(i['kind'])"
   ]
  },
  {
   "cell_type": "code",
   "execution_count": 592,
   "metadata": {},
   "outputs": [],
   "source": [
    "hdata.get_hist_data(start_dt,end_dt,'ETH-PERPETUAL','1D')[['close']].to_csv('eth_index.csv')"
   ]
  },
  {
   "cell_type": "code",
   "execution_count": null,
   "metadata": {},
   "outputs": [],
   "source": []
  },
  {
   "cell_type": "code",
   "execution_count": null,
   "metadata": {},
   "outputs": [],
   "source": []
  },
  {
   "cell_type": "code",
   "execution_count": null,
   "metadata": {},
   "outputs": [],
   "source": []
  },
  {
   "cell_type": "code",
   "execution_count": null,
   "metadata": {},
   "outputs": [],
   "source": []
  },
  {
   "cell_type": "code",
   "execution_count": null,
   "metadata": {},
   "outputs": [],
   "source": []
  },
  {
   "cell_type": "code",
   "execution_count": null,
   "metadata": {},
   "outputs": [],
   "source": []
  },
  {
   "cell_type": "code",
   "execution_count": null,
   "metadata": {},
   "outputs": [],
   "source": []
  },
  {
   "cell_type": "code",
   "execution_count": null,
   "metadata": {},
   "outputs": [],
   "source": []
  },
  {
   "cell_type": "code",
   "execution_count": null,
   "metadata": {},
   "outputs": [],
   "source": []
  },
  {
   "cell_type": "code",
   "execution_count": 293,
   "metadata": {},
   "outputs": [],
   "source": [
    "start = int(pd.to_datetime('20221231').timestamp()*1000)\n",
    "end = int(pd.datetime.today().timestamp()*1000)\n",
    "timeframe = '1D'"
   ]
  },
  {
   "cell_type": "markdown",
   "metadata": {},
   "source": [
    "# Update PnL Tracker"
   ]
  },
  {
   "cell_type": "code",
   "execution_count": 525,
   "metadata": {},
   "outputs": [
    {
     "name": "stdout",
     "output_type": "stream",
     "text": [
      "Authentication success\n",
      "PnL   -0.224917\n",
      "dtype: float64\n",
      "Position buy ETH-29MAR24-2100-P Floating PnL:-46.712433 Posn: buy 4.0\n",
      "Position sell ETH-29MAR24-2300-P Floating PnL:97.204209 Posn: sell -4.0\n",
      "Position sell ETH-29MAR24-2500-P Floating PnL:41.192007 Posn: sell -1.0\n",
      "Position sell ETH-29MAR24-3300-C Floating PnL:-1004.950216 Posn: sell -4.0\n",
      "Position sell ETH-29MAR24-3400-C Floating PnL:-185.472144 Posn: sell -1.0\n",
      "Position buy ETH-29MAR24-3500-C Floating PnL:725.042773 Posn: buy 4.0\n",
      "Position buy ETH-29MAR24-3600-C Floating PnL:129.873632 Posn: buy 1.0\n",
      "Position buy ETH-8MAR24-2200-P Floating PnL:-13.096953 Posn: buy 3.0\n",
      "Position sell ETH-8MAR24-2500-P Floating PnL:48.959401 Posn: sell -3.0\n",
      "Position sell ETH-8MAR24-3400-C Floating PnL:-98.602245 Posn: sell -1.0\n",
      "Position sell ETH-8MAR24-3600-C Floating PnL:-73.049418 Posn: sell -2.0\n",
      "Position buy ETH-8MAR24-3800-C Floating PnL:53.037474 Posn: buy 3.0\n",
      "Total Profit:  -0.07550373700000006\n",
      "\n",
      "\n",
      "\n",
      "\n"
     ]
    }
   ],
   "source": [
    "import pandas as pd\n",
    "import numpy as np\n",
    "import nest_asyncio\n",
    "nest_asyncio.apply()\n",
    "import account_mgmt as accmgmt\n",
    "import csv\n",
    "import os\n",
    "\n",
    "creds = pd.read_csv(r'C:\\Users\\kmavy\\OneDrive\\Desktop\\credentials.csv')\n",
    "#dep = float(input('Enter Deposit Amount:'))\n",
    "client_id = creds['client_id'].values[0]\n",
    "client_secret =creds['client_secret'].values[0]\n",
    "\n",
    "ws = accmgmt.DeribitWS(client_id=client_id, client_secret=client_secret, live=True)\n",
    "positions = ws.get_positions(currency='ETH')['result']\n",
    "pnl,delta,vega,theta,gamma = 0,0,0,0,0\n",
    "\n",
    "\n",
    "perf_path =os.path.join(os.getcwd(),'performance_analytics\\\\floating_rets.csv') \n",
    "greeks_path = os.path.join(os.getcwd(),'performance_analytics\\\\portfolio_greeks.csv') \n",
    "\n",
    "rets = pd.read_csv(r'performance_analytics\\\\floating_rets.csv',index_col = 0)\n",
    "prev_rets = rets.sum()\n",
    "print(prev_rets)\n",
    "\n",
    "\n",
    "\n",
    "c=1\n",
    "ret=0\n",
    "for dets in positions:\n",
    "    print(f\"Position {dets['direction']} {dets['instrument_name']} Floating PnL:{dets['floating_profit_loss_usd']} Posn: {dets['direction']} {dets['size']}\")\n",
    "    ret+=(dets['total_profit_loss'])\n",
    "    delta +=dets['delta']\n",
    "    theta +=dets['theta']\n",
    "    vega +=dets['vega']\n",
    "    gamma+=dets['gamma']\n",
    "    c+=1\n",
    "print('Total Profit: ',ret)\n",
    "ret = prev_rets+ret\n",
    "print('''\n",
    "\n",
    "\n",
    "''')\n",
    "\n",
    "\n",
    "\n",
    "### Get Floating PnL\n",
    "shortvolpnl = pd.DataFrame([ret[0]],index = [pd.datetime.today().strftime(\"%Y-%m-%d\")],columns = ['daily_pnl'])\n",
    "portfolio_greeks = pd.DataFrame(np.array([delta*10,vega,theta,gamma]).reshape(-1,4),index = [pd.datetime.today().strftime(\"%Y-%m-%d\")],columns = ['delta10','vega','theta','gamma1000'])\n",
    "\n",
    "with open(perf_path,'a',newline = '') as csvfile:\n",
    "    writer = csv.writer(csvfile)\n",
    "    for i in range(len(shortvolpnl)):\n",
    "        temp = shortvolpnl.reset_index()\n",
    "        row = temp.iloc[i].values\n",
    "        writer.writerow(row)\n",
    "csvfile.close()\n",
    "\n",
    "\n",
    "\n",
    "with open(greeks_path,'a',newline = '') as csvfile:\n",
    "    writer = csv.writer(csvfile)\n",
    "    for i in range(len(portfolio_greeks)):\n",
    "        temp = portfolio_greeks.reset_index()\n",
    "        row = temp.iloc[i].values\n",
    "        writer.writerow(row)\n",
    "csvfile.close()\n",
    "\n",
    "\n",
    "\n",
    "\n",
    "\n",
    "rets = pd.read_csv(r'performance_analytics\\\\floating_rets.csv',index_col = 0)\n",
    "rets.index = [dt.strftime(\"%Y-%m-%d\") for dt in pd.to_datetime(rets.index)]\n",
    "rets = rets[~rets.index.duplicated(keep='last')]\n",
    "\n",
    "### Get Realized PnL\n",
    "start_dt = int(pd.to_datetime('20240101').timestamp()*1000)\n",
    "end_dt = int(pd.datetime.today().timestamp()*1000)\n",
    "trade_log = ws.get_trade_log(\"ETH\",start_dt,end_dt)\n",
    "realized_pnl = ws.get_agg_rel_pnl(trade_log)\n",
    "realized_pnl = realized_pnl.sort_index()\n",
    "rel_pnl_path = os.path.join(os.getcwd(),'performance_analytics\\\\realized_rets.csv') \n",
    "realized_pnl.to_csv(rel_pnl_path)\n",
    "\n",
    "#Combine Realized and Floating PnL\n",
    "\n",
    "rets = pd.concat([rets,realized_pnl[['PnL']].groupby(realized_pnl.index).sum()],axis=1).fillna(0).sum(axis=1)\n",
    "rets = pd.DataFrame(rets.cumsum(),columns = ['Cumulative Returns (ETH)'])\n",
    "pic= rets.plot(title = 'Cumulative Returns (ETH)').get_figure()\n",
    "pic.savefig('CumulativePerformance.png')\n",
    "\n",
    "# Get Greeks\n",
    "greeks = pd.read_csv(r'performance_analytics\\\\portfolio_greeks.csv',index_col = 0)\n",
    "greeks= greeks[~greeks.index.duplicated(keep='last')]\n",
    "pic = greeks.plot(title = 'Greeks Dollar Exposure').get_figure()\n",
    "pic.savefig('GreeksExposure.png')\n"
   ]
  },
  {
   "cell_type": "code",
   "execution_count": 526,
   "metadata": {},
   "outputs": [
    {
     "data": {
      "text/html": [
       "<div>\n",
       "<style scoped>\n",
       "    .dataframe tbody tr th:only-of-type {\n",
       "        vertical-align: middle;\n",
       "    }\n",
       "\n",
       "    .dataframe tbody tr th {\n",
       "        vertical-align: top;\n",
       "    }\n",
       "\n",
       "    .dataframe thead th {\n",
       "        text-align: right;\n",
       "    }\n",
       "</style>\n",
       "<table border=\"1\" class=\"dataframe\">\n",
       "  <thead>\n",
       "    <tr style=\"text-align: right;\">\n",
       "      <th></th>\n",
       "      <th>PnL</th>\n",
       "    </tr>\n",
       "    <tr>\n",
       "      <th>Date</th>\n",
       "      <th></th>\n",
       "    </tr>\n",
       "  </thead>\n",
       "  <tbody>\n",
       "    <tr>\n",
       "      <th>1/2/2024</th>\n",
       "      <td>0.000000</td>\n",
       "    </tr>\n",
       "    <tr>\n",
       "      <th>2/2/2024</th>\n",
       "      <td>0.000000</td>\n",
       "    </tr>\n",
       "    <tr>\n",
       "      <th>3/2/2024</th>\n",
       "      <td>0.000000</td>\n",
       "    </tr>\n",
       "    <tr>\n",
       "      <th>4/2/2024</th>\n",
       "      <td>0.000000</td>\n",
       "    </tr>\n",
       "    <tr>\n",
       "      <th>5/2/2024</th>\n",
       "      <td>0.000000</td>\n",
       "    </tr>\n",
       "    <tr>\n",
       "      <th>6/2/2024</th>\n",
       "      <td>0.000000</td>\n",
       "    </tr>\n",
       "    <tr>\n",
       "      <th>7/2/2024</th>\n",
       "      <td>0.000000</td>\n",
       "    </tr>\n",
       "    <tr>\n",
       "      <th>8/2/2024</th>\n",
       "      <td>0.000000</td>\n",
       "    </tr>\n",
       "    <tr>\n",
       "      <th>9/2/2024</th>\n",
       "      <td>0.000000</td>\n",
       "    </tr>\n",
       "    <tr>\n",
       "      <th>10/2/2024</th>\n",
       "      <td>0.000000</td>\n",
       "    </tr>\n",
       "    <tr>\n",
       "      <th>11/2/2024</th>\n",
       "      <td>0.000000</td>\n",
       "    </tr>\n",
       "    <tr>\n",
       "      <th>12/2/2024</th>\n",
       "      <td>0.000000</td>\n",
       "    </tr>\n",
       "    <tr>\n",
       "      <th>13/2/2024</th>\n",
       "      <td>0.000000</td>\n",
       "    </tr>\n",
       "    <tr>\n",
       "      <th>14/2/2024</th>\n",
       "      <td>0.000000</td>\n",
       "    </tr>\n",
       "    <tr>\n",
       "      <th>15/2/2024</th>\n",
       "      <td>0.000000</td>\n",
       "    </tr>\n",
       "    <tr>\n",
       "      <th>16/2/2024</th>\n",
       "      <td>0.000000</td>\n",
       "    </tr>\n",
       "    <tr>\n",
       "      <th>17/2/2024</th>\n",
       "      <td>0.000000</td>\n",
       "    </tr>\n",
       "    <tr>\n",
       "      <th>18/2/2024</th>\n",
       "      <td>0.000000</td>\n",
       "    </tr>\n",
       "    <tr>\n",
       "      <th>19/2/2024</th>\n",
       "      <td>-0.014368</td>\n",
       "    </tr>\n",
       "    <tr>\n",
       "      <th>20/2/2024</th>\n",
       "      <td>0.001909</td>\n",
       "    </tr>\n",
       "    <tr>\n",
       "      <th>21/2/2024</th>\n",
       "      <td>-0.004262</td>\n",
       "    </tr>\n",
       "    <tr>\n",
       "      <th>22/2/2024</th>\n",
       "      <td>-0.006865</td>\n",
       "    </tr>\n",
       "    <tr>\n",
       "      <th>23/2/2024</th>\n",
       "      <td>0.029847</td>\n",
       "    </tr>\n",
       "    <tr>\n",
       "      <th>24/2/2024</th>\n",
       "      <td>-0.005835</td>\n",
       "    </tr>\n",
       "    <tr>\n",
       "      <th>25/2/2024</th>\n",
       "      <td>-0.021911</td>\n",
       "    </tr>\n",
       "    <tr>\n",
       "      <th>26/2/2024</th>\n",
       "      <td>0.000331</td>\n",
       "    </tr>\n",
       "    <tr>\n",
       "      <th>27/2/2024</th>\n",
       "      <td>-0.007644</td>\n",
       "    </tr>\n",
       "    <tr>\n",
       "      <th>28/2/2024</th>\n",
       "      <td>-0.038185</td>\n",
       "    </tr>\n",
       "    <tr>\n",
       "      <th>29/2/2024</th>\n",
       "      <td>-0.054106</td>\n",
       "    </tr>\n",
       "    <tr>\n",
       "      <th>1/3/2024</th>\n",
       "      <td>0.045094</td>\n",
       "    </tr>\n",
       "    <tr>\n",
       "      <th>2/3/2024</th>\n",
       "      <td>0.008709</td>\n",
       "    </tr>\n",
       "    <tr>\n",
       "      <th>3/3/2024</th>\n",
       "      <td>0.002512</td>\n",
       "    </tr>\n",
       "    <tr>\n",
       "      <th>2024-03-03</th>\n",
       "      <td>-0.300421</td>\n",
       "    </tr>\n",
       "  </tbody>\n",
       "</table>\n",
       "</div>"
      ],
      "text/plain": [
       "                 PnL\n",
       "Date                \n",
       "1/2/2024    0.000000\n",
       "2/2/2024    0.000000\n",
       "3/2/2024    0.000000\n",
       "4/2/2024    0.000000\n",
       "5/2/2024    0.000000\n",
       "6/2/2024    0.000000\n",
       "7/2/2024    0.000000\n",
       "8/2/2024    0.000000\n",
       "9/2/2024    0.000000\n",
       "10/2/2024   0.000000\n",
       "11/2/2024   0.000000\n",
       "12/2/2024   0.000000\n",
       "13/2/2024   0.000000\n",
       "14/2/2024   0.000000\n",
       "15/2/2024   0.000000\n",
       "16/2/2024   0.000000\n",
       "17/2/2024   0.000000\n",
       "18/2/2024   0.000000\n",
       "19/2/2024  -0.014368\n",
       "20/2/2024   0.001909\n",
       "21/2/2024  -0.004262\n",
       "22/2/2024  -0.006865\n",
       "23/2/2024   0.029847\n",
       "24/2/2024  -0.005835\n",
       "25/2/2024  -0.021911\n",
       "26/2/2024   0.000331\n",
       "27/2/2024  -0.007644\n",
       "28/2/2024  -0.038185\n",
       "29/2/2024  -0.054106\n",
       "1/3/2024    0.045094\n",
       "2/3/2024    0.008709\n",
       "3/3/2024    0.002512\n",
       "2024-03-03 -0.300421"
      ]
     },
     "execution_count": 526,
     "metadata": {},
     "output_type": "execute_result"
    }
   ],
   "source": [
    "rets"
   ]
  },
  {
   "cell_type": "markdown",
   "metadata": {},
   "source": [
    "\n",
    "with open(perf_path,'a',newline = '') as csvfile:\n",
    "    writer = csv.writer(csvfile)\n",
    "    for i in range(len(shortvolpnl)):\n",
    "        temp = shortvolpnl.reset_index()\n",
    "        row = temp.iloc[i].values\n",
    "        writer.writerow(row)\n",
    "csvfile.close()\n",
    "\n",
    "\n",
    "\n",
    "with open(greeks_path,'a',newline = '') as csvfile:\n",
    "    writer = csv.writer(csvfile)\n",
    "    for i in range(len(portfolio_greeks)):\n",
    "        temp = portfolio_greeks.reset_index()\n",
    "        row = temp.iloc[i].values\n",
    "        writer.writerow(row)\n",
    "csvfile.close()\n"
   ]
  },
  {
   "cell_type": "code",
   "execution_count": 524,
   "metadata": {},
   "outputs": [
    {
     "data": {
      "text/html": [
       "<div>\n",
       "<style scoped>\n",
       "    .dataframe tbody tr th:only-of-type {\n",
       "        vertical-align: middle;\n",
       "    }\n",
       "\n",
       "    .dataframe tbody tr th {\n",
       "        vertical-align: top;\n",
       "    }\n",
       "\n",
       "    .dataframe thead th {\n",
       "        text-align: right;\n",
       "    }\n",
       "</style>\n",
       "<table border=\"1\" class=\"dataframe\">\n",
       "  <thead>\n",
       "    <tr style=\"text-align: right;\">\n",
       "      <th></th>\n",
       "      <th>PnL</th>\n",
       "    </tr>\n",
       "  </thead>\n",
       "  <tbody>\n",
       "    <tr>\n",
       "      <th>2024-01-02</th>\n",
       "      <td>0.000000</td>\n",
       "    </tr>\n",
       "    <tr>\n",
       "      <th>2024-02-02</th>\n",
       "      <td>0.000000</td>\n",
       "    </tr>\n",
       "    <tr>\n",
       "      <th>2024-03-02</th>\n",
       "      <td>0.000000</td>\n",
       "    </tr>\n",
       "    <tr>\n",
       "      <th>2024-04-02</th>\n",
       "      <td>0.000000</td>\n",
       "    </tr>\n",
       "    <tr>\n",
       "      <th>2024-05-02</th>\n",
       "      <td>0.000000</td>\n",
       "    </tr>\n",
       "    <tr>\n",
       "      <th>2024-06-02</th>\n",
       "      <td>0.000000</td>\n",
       "    </tr>\n",
       "    <tr>\n",
       "      <th>2024-07-02</th>\n",
       "      <td>0.000000</td>\n",
       "    </tr>\n",
       "    <tr>\n",
       "      <th>2024-08-02</th>\n",
       "      <td>0.000000</td>\n",
       "    </tr>\n",
       "    <tr>\n",
       "      <th>2024-09-02</th>\n",
       "      <td>0.000000</td>\n",
       "    </tr>\n",
       "    <tr>\n",
       "      <th>2024-10-02</th>\n",
       "      <td>0.000000</td>\n",
       "    </tr>\n",
       "    <tr>\n",
       "      <th>2024-11-02</th>\n",
       "      <td>0.000000</td>\n",
       "    </tr>\n",
       "    <tr>\n",
       "      <th>2024-12-02</th>\n",
       "      <td>0.000000</td>\n",
       "    </tr>\n",
       "    <tr>\n",
       "      <th>2024-02-13</th>\n",
       "      <td>0.000000</td>\n",
       "    </tr>\n",
       "    <tr>\n",
       "      <th>2024-02-14</th>\n",
       "      <td>0.000000</td>\n",
       "    </tr>\n",
       "    <tr>\n",
       "      <th>2024-02-15</th>\n",
       "      <td>0.000000</td>\n",
       "    </tr>\n",
       "    <tr>\n",
       "      <th>2024-02-16</th>\n",
       "      <td>0.000000</td>\n",
       "    </tr>\n",
       "    <tr>\n",
       "      <th>2024-02-17</th>\n",
       "      <td>0.000000</td>\n",
       "    </tr>\n",
       "    <tr>\n",
       "      <th>2024-02-18</th>\n",
       "      <td>0.000000</td>\n",
       "    </tr>\n",
       "    <tr>\n",
       "      <th>2024-02-19</th>\n",
       "      <td>-0.014368</td>\n",
       "    </tr>\n",
       "    <tr>\n",
       "      <th>2024-02-20</th>\n",
       "      <td>0.001909</td>\n",
       "    </tr>\n",
       "    <tr>\n",
       "      <th>2024-02-21</th>\n",
       "      <td>-0.004262</td>\n",
       "    </tr>\n",
       "    <tr>\n",
       "      <th>2024-02-22</th>\n",
       "      <td>-0.006865</td>\n",
       "    </tr>\n",
       "    <tr>\n",
       "      <th>2024-02-23</th>\n",
       "      <td>0.029847</td>\n",
       "    </tr>\n",
       "    <tr>\n",
       "      <th>2024-02-24</th>\n",
       "      <td>-0.005835</td>\n",
       "    </tr>\n",
       "    <tr>\n",
       "      <th>2024-02-25</th>\n",
       "      <td>-0.021911</td>\n",
       "    </tr>\n",
       "    <tr>\n",
       "      <th>2024-02-26</th>\n",
       "      <td>0.000331</td>\n",
       "    </tr>\n",
       "    <tr>\n",
       "      <th>2024-02-27</th>\n",
       "      <td>-0.007644</td>\n",
       "    </tr>\n",
       "    <tr>\n",
       "      <th>2024-02-28</th>\n",
       "      <td>-0.038185</td>\n",
       "    </tr>\n",
       "    <tr>\n",
       "      <th>2024-02-29</th>\n",
       "      <td>-0.054106</td>\n",
       "    </tr>\n",
       "    <tr>\n",
       "      <th>2024-01-03</th>\n",
       "      <td>0.045094</td>\n",
       "    </tr>\n",
       "    <tr>\n",
       "      <th>2024-02-03</th>\n",
       "      <td>0.008709</td>\n",
       "    </tr>\n",
       "    <tr>\n",
       "      <th>2024-03-03</th>\n",
       "      <td>0.002512</td>\n",
       "    </tr>\n",
       "    <tr>\n",
       "      <th>2024-03-03</th>\n",
       "      <td>-0.149915</td>\n",
       "    </tr>\n",
       "  </tbody>\n",
       "</table>\n",
       "</div>"
      ],
      "text/plain": [
       "                 PnL\n",
       "2024-01-02  0.000000\n",
       "2024-02-02  0.000000\n",
       "2024-03-02  0.000000\n",
       "2024-04-02  0.000000\n",
       "2024-05-02  0.000000\n",
       "2024-06-02  0.000000\n",
       "2024-07-02  0.000000\n",
       "2024-08-02  0.000000\n",
       "2024-09-02  0.000000\n",
       "2024-10-02  0.000000\n",
       "2024-11-02  0.000000\n",
       "2024-12-02  0.000000\n",
       "2024-02-13  0.000000\n",
       "2024-02-14  0.000000\n",
       "2024-02-15  0.000000\n",
       "2024-02-16  0.000000\n",
       "2024-02-17  0.000000\n",
       "2024-02-18  0.000000\n",
       "2024-02-19 -0.014368\n",
       "2024-02-20  0.001909\n",
       "2024-02-21 -0.004262\n",
       "2024-02-22 -0.006865\n",
       "2024-02-23  0.029847\n",
       "2024-02-24 -0.005835\n",
       "2024-02-25 -0.021911\n",
       "2024-02-26  0.000331\n",
       "2024-02-27 -0.007644\n",
       "2024-02-28 -0.038185\n",
       "2024-02-29 -0.054106\n",
       "2024-01-03  0.045094\n",
       "2024-02-03  0.008709\n",
       "2024-03-03  0.002512\n",
       "2024-03-03 -0.149915"
      ]
     },
     "execution_count": 524,
     "metadata": {},
     "output_type": "execute_result"
    }
   ],
   "source": [
    "rets"
   ]
  },
  {
   "cell_type": "code",
   "execution_count": 514,
   "metadata": {},
   "outputs": [
    {
     "name": "stdout",
     "output_type": "stream",
     "text": [
      "Authentication success\n",
      "PnL   -0.074702\n",
      "dtype: float64\n",
      "Position buy ETH-29MAR24-2100-P Floating PnL:-46.655192 Posn: buy 4.0\n",
      "Position sell ETH-29MAR24-2300-P Floating PnL:97.143051 Posn: sell -4.0\n",
      "Position sell ETH-29MAR24-2500-P Floating PnL:41.075523 Posn: sell -1.0\n",
      "Position sell ETH-29MAR24-3300-C Floating PnL:-1000.945811 Posn: sell -4.0\n",
      "Position sell ETH-29MAR24-3400-C Floating PnL:-184.546975 Posn: sell -1.0\n",
      "Position buy ETH-29MAR24-3500-C Floating PnL:722.157037 Posn: buy 4.0\n",
      "Position buy ETH-29MAR24-3600-C Floating PnL:129.256141 Posn: buy 1.0\n",
      "Position buy ETH-8MAR24-2200-P Floating PnL:-13.095857 Posn: buy 3.0\n",
      "Position sell ETH-8MAR24-2500-P Floating PnL:48.932701 Posn: sell -3.0\n",
      "Position sell ETH-8MAR24-3400-C Floating PnL:-97.829103 Posn: sell -1.0\n",
      "Position sell ETH-8MAR24-3600-C Floating PnL:-72.528678 Posn: sell -2.0\n",
      "Position buy ETH-8MAR24-3800-C Floating PnL:52.56184 Posn: buy 3.0\n",
      "Total Profit:  -0.07500220200000006\n",
      "\n",
      "\n",
      "\n",
      "\n"
     ]
    },
    {
     "ename": "InvalidIndexError",
     "evalue": "Reindexing only valid with uniquely valued Index objects",
     "output_type": "error",
     "traceback": [
      "\u001b[1;31m---------------------------------------------------------------------------\u001b[0m",
      "\u001b[1;31mInvalidIndexError\u001b[0m                         Traceback (most recent call last)",
      "Cell \u001b[1;32mIn[514], line 87\u001b[0m\n\u001b[0;32m     85\u001b[0m \u001b[38;5;66;03m#Combine Realized and Floating PnL\u001b[39;00m\n\u001b[0;32m     86\u001b[0m rets\u001b[38;5;241m.\u001b[39mindex \u001b[38;5;241m=\u001b[39m [dt\u001b[38;5;241m.\u001b[39mstrftime(\u001b[38;5;124m\"\u001b[39m\u001b[38;5;124m%\u001b[39m\u001b[38;5;124mY-\u001b[39m\u001b[38;5;124m%\u001b[39m\u001b[38;5;124mm-\u001b[39m\u001b[38;5;132;01m%d\u001b[39;00m\u001b[38;5;124m\"\u001b[39m) \u001b[38;5;28;01mfor\u001b[39;00m dt \u001b[38;5;129;01min\u001b[39;00m pd\u001b[38;5;241m.\u001b[39mto_datetime(rets\u001b[38;5;241m.\u001b[39mindex)]\n\u001b[1;32m---> 87\u001b[0m rets \u001b[38;5;241m=\u001b[39m \u001b[43mpd\u001b[49m\u001b[38;5;241;43m.\u001b[39;49m\u001b[43mconcat\u001b[49m\u001b[43m(\u001b[49m\u001b[43m[\u001b[49m\u001b[43mrets\u001b[49m\u001b[43m,\u001b[49m\u001b[43mrealized_pnl\u001b[49m\u001b[43m[\u001b[49m\u001b[43m[\u001b[49m\u001b[38;5;124;43m'\u001b[39;49m\u001b[38;5;124;43mPnL\u001b[39;49m\u001b[38;5;124;43m'\u001b[39;49m\u001b[43m]\u001b[49m\u001b[43m]\u001b[49m\u001b[38;5;241;43m.\u001b[39;49m\u001b[43mgroupby\u001b[49m\u001b[43m(\u001b[49m\u001b[43mrealized_pnl\u001b[49m\u001b[38;5;241;43m.\u001b[39;49m\u001b[43mindex\u001b[49m\u001b[43m)\u001b[49m\u001b[38;5;241;43m.\u001b[39;49m\u001b[43msum\u001b[49m\u001b[43m(\u001b[49m\u001b[43m)\u001b[49m\u001b[43m]\u001b[49m\u001b[43m,\u001b[49m\u001b[43maxis\u001b[49m\u001b[38;5;241;43m=\u001b[39;49m\u001b[38;5;241;43m1\u001b[39;49m\u001b[43m)\u001b[49m\u001b[38;5;241m.\u001b[39mfillna(\u001b[38;5;241m0\u001b[39m)\u001b[38;5;241m.\u001b[39msum(axis\u001b[38;5;241m=\u001b[39m\u001b[38;5;241m1\u001b[39m)\n\u001b[0;32m     88\u001b[0m rets \u001b[38;5;241m=\u001b[39m pd\u001b[38;5;241m.\u001b[39mDataFrame(rets\u001b[38;5;241m.\u001b[39mcumsum(),columns \u001b[38;5;241m=\u001b[39m [\u001b[38;5;124m'\u001b[39m\u001b[38;5;124mCumulative Returns (ETH)\u001b[39m\u001b[38;5;124m'\u001b[39m])\n\u001b[0;32m     89\u001b[0m pic\u001b[38;5;241m=\u001b[39m rets\u001b[38;5;241m.\u001b[39mplot(title \u001b[38;5;241m=\u001b[39m \u001b[38;5;124m'\u001b[39m\u001b[38;5;124mCumulative Returns (ETH)\u001b[39m\u001b[38;5;124m'\u001b[39m)\u001b[38;5;241m.\u001b[39mget_figure()\n",
      "File \u001b[1;32mc:\\Users\\kmavy\\anaconda3\\lib\\site-packages\\pandas\\util\\_decorators.py:331\u001b[0m, in \u001b[0;36mdeprecate_nonkeyword_arguments.<locals>.decorate.<locals>.wrapper\u001b[1;34m(*args, **kwargs)\u001b[0m\n\u001b[0;32m    325\u001b[0m \u001b[38;5;28;01mif\u001b[39;00m \u001b[38;5;28mlen\u001b[39m(args) \u001b[38;5;241m>\u001b[39m num_allow_args:\n\u001b[0;32m    326\u001b[0m     warnings\u001b[38;5;241m.\u001b[39mwarn(\n\u001b[0;32m    327\u001b[0m         msg\u001b[38;5;241m.\u001b[39mformat(arguments\u001b[38;5;241m=\u001b[39m_format_argument_list(allow_args)),\n\u001b[0;32m    328\u001b[0m         \u001b[38;5;167;01mFutureWarning\u001b[39;00m,\n\u001b[0;32m    329\u001b[0m         stacklevel\u001b[38;5;241m=\u001b[39mfind_stack_level(),\n\u001b[0;32m    330\u001b[0m     )\n\u001b[1;32m--> 331\u001b[0m \u001b[38;5;28;01mreturn\u001b[39;00m func(\u001b[38;5;241m*\u001b[39margs, \u001b[38;5;241m*\u001b[39m\u001b[38;5;241m*\u001b[39mkwargs)\n",
      "File \u001b[1;32mc:\\Users\\kmavy\\anaconda3\\lib\\site-packages\\pandas\\core\\reshape\\concat.py:381\u001b[0m, in \u001b[0;36mconcat\u001b[1;34m(objs, axis, join, ignore_index, keys, levels, names, verify_integrity, sort, copy)\u001b[0m\n\u001b[0;32m    159\u001b[0m \u001b[38;5;250m\u001b[39m\u001b[38;5;124;03m\"\"\"\u001b[39;00m\n\u001b[0;32m    160\u001b[0m \u001b[38;5;124;03mConcatenate pandas objects along a particular axis.\u001b[39;00m\n\u001b[0;32m    161\u001b[0m \n\u001b[1;32m   (...)\u001b[0m\n\u001b[0;32m    366\u001b[0m \u001b[38;5;124;03m1   3   4\u001b[39;00m\n\u001b[0;32m    367\u001b[0m \u001b[38;5;124;03m\"\"\"\u001b[39;00m\n\u001b[0;32m    368\u001b[0m op \u001b[38;5;241m=\u001b[39m _Concatenator(\n\u001b[0;32m    369\u001b[0m     objs,\n\u001b[0;32m    370\u001b[0m     axis\u001b[38;5;241m=\u001b[39maxis,\n\u001b[1;32m   (...)\u001b[0m\n\u001b[0;32m    378\u001b[0m     sort\u001b[38;5;241m=\u001b[39msort,\n\u001b[0;32m    379\u001b[0m )\n\u001b[1;32m--> 381\u001b[0m \u001b[38;5;28;01mreturn\u001b[39;00m \u001b[43mop\u001b[49m\u001b[38;5;241;43m.\u001b[39;49m\u001b[43mget_result\u001b[49m\u001b[43m(\u001b[49m\u001b[43m)\u001b[49m\n",
      "File \u001b[1;32mc:\\Users\\kmavy\\anaconda3\\lib\\site-packages\\pandas\\core\\reshape\\concat.py:612\u001b[0m, in \u001b[0;36m_Concatenator.get_result\u001b[1;34m(self)\u001b[0m\n\u001b[0;32m    610\u001b[0m         obj_labels \u001b[38;5;241m=\u001b[39m obj\u001b[38;5;241m.\u001b[39maxes[\u001b[38;5;241m1\u001b[39m \u001b[38;5;241m-\u001b[39m ax]\n\u001b[0;32m    611\u001b[0m         \u001b[38;5;28;01mif\u001b[39;00m \u001b[38;5;129;01mnot\u001b[39;00m new_labels\u001b[38;5;241m.\u001b[39mequals(obj_labels):\n\u001b[1;32m--> 612\u001b[0m             indexers[ax] \u001b[38;5;241m=\u001b[39m \u001b[43mobj_labels\u001b[49m\u001b[38;5;241;43m.\u001b[39;49m\u001b[43mget_indexer\u001b[49m\u001b[43m(\u001b[49m\u001b[43mnew_labels\u001b[49m\u001b[43m)\u001b[49m\n\u001b[0;32m    614\u001b[0m     mgrs_indexers\u001b[38;5;241m.\u001b[39mappend((obj\u001b[38;5;241m.\u001b[39m_mgr, indexers))\n\u001b[0;32m    616\u001b[0m new_data \u001b[38;5;241m=\u001b[39m concatenate_managers(\n\u001b[0;32m    617\u001b[0m     mgrs_indexers, \u001b[38;5;28mself\u001b[39m\u001b[38;5;241m.\u001b[39mnew_axes, concat_axis\u001b[38;5;241m=\u001b[39m\u001b[38;5;28mself\u001b[39m\u001b[38;5;241m.\u001b[39mbm_axis, copy\u001b[38;5;241m=\u001b[39m\u001b[38;5;28mself\u001b[39m\u001b[38;5;241m.\u001b[39mcopy\n\u001b[0;32m    618\u001b[0m )\n",
      "File \u001b[1;32mc:\\Users\\kmavy\\anaconda3\\lib\\site-packages\\pandas\\core\\indexes\\base.py:3904\u001b[0m, in \u001b[0;36mIndex.get_indexer\u001b[1;34m(self, target, method, limit, tolerance)\u001b[0m\n\u001b[0;32m   3901\u001b[0m \u001b[38;5;28mself\u001b[39m\u001b[38;5;241m.\u001b[39m_check_indexing_method(method, limit, tolerance)\n\u001b[0;32m   3903\u001b[0m \u001b[38;5;28;01mif\u001b[39;00m \u001b[38;5;129;01mnot\u001b[39;00m \u001b[38;5;28mself\u001b[39m\u001b[38;5;241m.\u001b[39m_index_as_unique:\n\u001b[1;32m-> 3904\u001b[0m     \u001b[38;5;28;01mraise\u001b[39;00m InvalidIndexError(\u001b[38;5;28mself\u001b[39m\u001b[38;5;241m.\u001b[39m_requires_unique_msg)\n\u001b[0;32m   3906\u001b[0m \u001b[38;5;28;01mif\u001b[39;00m \u001b[38;5;28mlen\u001b[39m(target) \u001b[38;5;241m==\u001b[39m \u001b[38;5;241m0\u001b[39m:\n\u001b[0;32m   3907\u001b[0m     \u001b[38;5;28;01mreturn\u001b[39;00m np\u001b[38;5;241m.\u001b[39marray([], dtype\u001b[38;5;241m=\u001b[39mnp\u001b[38;5;241m.\u001b[39mintp)\n",
      "\u001b[1;31mInvalidIndexError\u001b[0m: Reindexing only valid with uniquely valued Index objects"
     ]
    }
   ],
   "source": [
    "import pandas as pd\n",
    "import numpy as np\n",
    "import nest_asyncio\n",
    "nest_asyncio.apply()\n",
    "import account_mgmt as accmgmt\n",
    "import csv\n",
    "import os\n",
    "\n",
    "creds = pd.read_csv(r'C:\\Users\\kmavy\\OneDrive\\Desktop\\credentials.csv')\n",
    "#dep = float(input('Enter Deposit Amount:'))\n",
    "client_id = creds['client_id'].values[0]\n",
    "client_secret =creds['client_secret'].values[0]\n",
    "\n",
    "ws = accmgmt.DeribitWS(client_id=client_id, client_secret=client_secret, live=True)\n",
    "positions = ws.get_positions(currency='ETH')['result']\n",
    "pnl,delta,vega,theta,gamma = 0,0,0,0,0\n",
    "\n",
    "\n",
    "perf_path =os.path.join(os.getcwd(),'performance_analytics\\\\floating_rets.csv') \n",
    "greeks_path = os.path.join(os.getcwd(),'performance_analytics\\\\portfolio_greeks.csv') \n",
    "\n",
    "rets = pd.read_csv(r'performance_analytics\\\\floating_rets.csv',index_col = 0)\n",
    "prev_rets = rets.sum()\n",
    "print(prev_rets)\n",
    "\n",
    "\n",
    "\n",
    "c=1\n",
    "ret=0\n",
    "for dets in positions:\n",
    "    print(f\"Position {dets['direction']} {dets['instrument_name']} Floating PnL:{dets['floating_profit_loss_usd']} Posn: {dets['direction']} {dets['size']}\")\n",
    "    ret+=(dets['total_profit_loss'])\n",
    "    delta +=dets['delta']\n",
    "    theta +=dets['theta']\n",
    "    vega +=dets['vega']\n",
    "    gamma+=dets['gamma']\n",
    "    c+=1\n",
    "print('Total Profit: ',ret)\n",
    "ret = ret-prev_rets\n",
    "print('''\n",
    "\n",
    "\n",
    "''')\n",
    "\n",
    "\n",
    "\n",
    "### Get Floating PnL\n",
    "shortvolpnl = pd.DataFrame([ret[0]],index = [pd.datetime.today().strftime(\"%Y-%m-%d\")],columns = ['daily_pnl'])\n",
    "portfolio_greeks = pd.DataFrame(np.array([delta*10,vega,theta,gamma]).reshape(-1,4),index = [pd.datetime.today().strftime(\"%Y-%m-%d\")],columns = ['delta10','vega','theta','gamma1000'])\n",
    "\n",
    "with open(perf_path,'a',newline = '') as csvfile:\n",
    "    writer = csv.writer(csvfile)\n",
    "    for i in range(len(shortvolpnl)):\n",
    "        temp = shortvolpnl.reset_index()\n",
    "        row = temp.iloc[i].values\n",
    "        writer.writerow(row)\n",
    "csvfile.close()\n",
    "\n",
    "\n",
    "\n",
    "with open(greeks_path,'a',newline = '') as csvfile:\n",
    "    writer = csv.writer(csvfile)\n",
    "    for i in range(len(portfolio_greeks)):\n",
    "        temp = portfolio_greeks.reset_index()\n",
    "        row = temp.iloc[i].values\n",
    "        writer.writerow(row)\n",
    "csvfile.close()\n",
    "\n",
    "\n",
    "\n",
    "\n",
    "\n",
    "rets = pd.read_csv(r'performance_analytics\\\\floating_rets.csv',index_col = 0)\n",
    "rets = rets[~rets.index.duplicated(keep='last')]\n",
    "\n",
    "### Get Realized PnL\n",
    "start_dt = int(pd.to_datetime('20240101').timestamp()*1000)\n",
    "end_dt = int(pd.datetime.today().timestamp()*1000)\n",
    "trade_log = ws.get_trade_log(\"ETH\",start_dt,end_dt)\n",
    "realized_pnl = ws.get_agg_rel_pnl(trade_log)\n",
    "realized_pnl = realized_pnl.sort_index()\n",
    "rel_pnl_path = os.path.join(os.getcwd(),'performance_analytics\\\\realized_rets.csv') \n",
    "realized_pnl.to_csv(rel_pnl_path)\n",
    "\n",
    "#Combine Realized and Floating PnL\n",
    "rets.index = [dt.strftime(\"%Y-%m-%d\") for dt in pd.to_datetime(rets.index)]\n",
    "rets = pd.concat([rets,realized_pnl[['PnL']].groupby(realized_pnl.index).sum()],axis=1).fillna(0).sum(axis=1)\n",
    "rets = pd.DataFrame(rets.cumsum(),columns = ['Cumulative Returns (ETH)'])\n",
    "pic= rets.plot(title = 'Cumulative Returns (ETH)').get_figure()\n",
    "pic.savefig('CumulativePerformance.png')\n",
    "\n",
    "# Get Greeks\n",
    "greeks = pd.read_csv(r'performance_analytics\\\\portfolio_greeks.csv',index_col = 0)\n",
    "greeks= greeks[~greeks.index.duplicated(keep='last')]\n",
    "pic = greeks.plot(title = 'Greeks Dollar Exposure').get_figure()\n",
    "pic.savefig('GreeksExposure.png')\n"
   ]
  },
  {
   "cell_type": "markdown",
   "metadata": {},
   "source": [
    "# Offline"
   ]
  },
  {
   "cell_type": "code",
   "execution_count": 3,
   "metadata": {},
   "outputs": [
    {
     "data": {
      "text/plain": [
       "'c:\\\\Users\\\\kmavy\\\\Documents\\\\mydocs\\\\Training Arc\\\\Github\\\\QuantMasterFund\\\\Crypto\\\\Volatility\\\\ShortVolatility'"
      ]
     },
     "execution_count": 3,
     "metadata": {},
     "output_type": "execute_result"
    }
   ],
   "source": [
    "import os\n",
    "import pandas as pd\n",
    "os.getcwd()"
   ]
  },
  {
   "cell_type": "code",
   "execution_count": 263,
   "metadata": {},
   "outputs": [
    {
     "data": {
      "text/plain": [
       "4.0"
      ]
     },
     "execution_count": 263,
     "metadata": {},
     "output_type": "execute_result"
    }
   ],
   "source": [
    "0.1*(-160)+(0.1*-60)+0.6*80+0.1*(-160)+0.1*(-60)"
   ]
  },
  {
   "cell_type": "code",
   "execution_count": 245,
   "metadata": {},
   "outputs": [
    {
     "name": "stdout",
     "output_type": "stream",
     "text": [
      "Authentication success\n",
      "PnL   -0.141668\n",
      "dtype: float64\n",
      "Position buy ETH-29MAR24-2100-P PnL:-45.581751 Posn: buy 4.0\n",
      "Position sell ETH-29MAR24-2300-P PnL:96.602266 Posn: sell -4.0\n",
      "Position sell ETH-29MAR24-2500-P PnL:41.377901 Posn: sell -1.0\n",
      "Position sell ETH-29MAR24-3300-C PnL:-941.965063 Posn: sell -4.0\n",
      "Position sell ETH-29MAR24-3400-C PnL:-171.245835 Posn: sell -1.0\n",
      "Position buy ETH-29MAR24-3500-C PnL:670.933411 Posn: buy 4.0\n",
      "Position buy ETH-29MAR24-3600-C PnL:117.297127 Posn: buy 1.0\n",
      "Position buy ETH-8MAR24-2200-P PnL:-13.072412 Posn: buy 3.0\n",
      "Position sell ETH-8MAR24-2500-P PnL:49.331745 Posn: sell -3.0\n",
      "Position sell ETH-8MAR24-3400-C PnL:-82.438292 Posn: sell -1.0\n",
      "Position sell ETH-8MAR24-3600-C PnL:-52.121715 Posn: sell -2.0\n",
      "Position buy ETH-8MAR24-3800-C PnL:37.684643 Posn: buy 3.0\n",
      "Total Profit:  -293.19797500000004\n",
      "\n",
      "\n",
      "\n",
      "\n"
     ]
    }
   ],
   "source": [
    "import pandas as pd\n",
    "import numpy as np\n",
    "import nest_asyncio\n",
    "nest_asyncio.apply()\n",
    "import account_mgmt as accmgmt\n",
    "import csv\n",
    "import os\n",
    "\n",
    "creds = pd.read_csv(r'C:\\Users\\kmavy\\OneDrive\\Desktop\\credentials.csv')\n",
    "\n",
    "client_id = creds['client_id'].values[0]\n",
    "client_secret =creds['client_secret'].values[0]\n",
    "\n",
    "ws = accmgmt.DeribitWS(client_id=client_id, client_secret=client_secret, live=True)\n",
    "positions = ws.get_positions(currency='ETH')['result']\n",
    "pnl,delta,vega,theta,gamma = 0,0,0,0,0\n",
    "\n",
    "\n",
    "perf_path =os.path.join(os.getcwd(),'performance_analytics\\\\perf_analytics.csv') \n",
    "greeks_path = os.path.join(os.getcwd(),'performance_analytics\\\\portfolio_greeks.csv') \n",
    "\n",
    "rets = pd.read_csv(r'performance_analytics\\\\perf_analytics.csv',index_col = 0)\n",
    "prev_rets = (1+rets).prod()-1\n",
    "print(prev_rets)\n",
    "dep = float(input('Enter Deposit Amount:'))\n",
    "c=1\n",
    "ret=0\n",
    "for dets in positions:\n",
    "    print(f\"Position {dets['direction']} {dets['instrument_name']} PnL:{dets['floating_profit_loss_usd']} Posn: {dets['direction']} {dets['size']}\")\n",
    "    ret+=(dets['floating_profit_loss_usd']+dets['realized_profit_loss'])\n",
    "    delta +=dets['delta']\n",
    "    theta +=dets['theta']\n",
    "    vega +=dets['vega']\n",
    "    gamma+=dets['gamma']\n",
    "    c+=1\n",
    "print('Total Profit: ',ret)\n",
    "ret = ret/dep\n",
    "ret = ((1+ret)/(1+prev_rets))-1\n",
    "print('''\n",
    "\n",
    "\n",
    "''')"
   ]
  },
  {
   "cell_type": "code",
   "execution_count": 30,
   "metadata": {},
   "outputs": [],
   "source": []
  },
  {
   "cell_type": "markdown",
   "metadata": {},
   "source": [
    "# Trade Log Function"
   ]
  },
  {
   "cell_type": "code",
   "execution_count": 274,
   "metadata": {},
   "outputs": [],
   "source": [
    "start_dt = int(pd.to_datetime('20240201').timestamp()*1000)\n",
    "end_dt = int(pd.datetime.today().timestamp()*1000)\n",
    "\n",
    "def get_trade_log(currency,start_dt,end_dt):\n",
    "    log=ws.get_trade_hist(currency,start_dt,end_dt)\n",
    "    logs = pd.DataFrame()\n",
    "    ttd_instrument_hist = []\n",
    "    for i in range(len(log['result']['logs'])):\n",
    "        instrument = log['result']['logs'][i]['instrument_name']\n",
    "        ttd_instrument_hist.append(instrument)\n",
    "        #if instrument ==\"ETH-8MAR24-3600-C\" or instrument =='ETH-8MAR':\n",
    "        temp = pd.DataFrame(log['result']['logs'][i].values(),index =log['result']['logs'][i].keys())\n",
    "        logs = pd.concat([logs,temp],axis=1)\n",
    "    trade_log = logs.T\n",
    "    trade_log.index = range(len(trade_log))\n",
    "    trade_log['datetime'] = [datetime.datetime.fromtimestamp(int(str(dt)[:-3])) for dt in trade_log.timestamp]\n",
    "    trade_log['Date'] = [dt.strftime(\"%Y-%m-%d\") for dt in trade_log.datetime]\n",
    "    trade_log['side']=trade_log['side'].replace('-',\"N.A. N.A.\")\n",
    "    trade_log['direction'] = [side.split(\" \")[1] for side in trade_log.side]\n",
    "    trade_log['direction'] = [1 if direction =='buy' else -1 if direction =='sell' else 0 for direction in trade_log.direction]\n",
    "    trade_log['trade_type'] = [side.split(\" \")[0] for side in trade_log.side]\n",
    "    return trade_log\n",
    "trade_log = get_trade_log(\"ETH\",start_dt,end_dt)"
   ]
  },
  {
   "attachments": {
    "image-2.png": {
     "image/png": "[encoded data removed]"
    },
    "image.png": {
     "image/png": "[encoded data removed]"
    }
   },
   "cell_type": "markdown",
   "metadata": {},
   "source": [
    "![image.png](attachment:image.png)\n",
    "![image-2.png](attachment:image-2.png)"
   ]
  },
  {
   "cell_type": "code",
   "execution_count": 230,
   "metadata": {},
   "outputs": [],
   "source": [
    "def get_realized_pnl(trade_log,instrument):\n",
    "    def net_closing_px(exits):\n",
    "        weighted_exit = sum(exits['direction']*exits['amount']*exits['price'])/sum(exits['amount'])\n",
    "        return weighted_exit\n",
    "    trade_log = trade_log[trade_log['instrument_name']==instrument]\n",
    "    realized_position = sum((trade_log['direction']*trade_log['amount']).dropna())\n",
    "    entries = trade_log[trade_log['trade_type']=='open']\n",
    "    exits = trade_log[trade_log['trade_type']=='close']\n",
    "    #return exits\n",
    "    if exits.empty or entries.empty:\n",
    "        return pd.DataFrame()\n",
    "    weighted_entry = sum(entries['direction']*entries['amount']*entries['price'])/sum(entries['amount'])\n",
    "    weighted_exits = exits.groupby('Date').apply(net_closing_px)\n",
    "    weighted_exits = pd.DataFrame(weighted_exits,columns = ['Realized PnL'])\n",
    "    realized_pnl = weighted_exits - weighted_entry \n",
    "    realized_pnl['instrument']=[instrument]*len(realized_pnl)\n",
    "    #realized_pnl = (weighted_exit - weighted_entry)/abs(realized_position)\n",
    "    #print(weighted_entry,weighted_exit,realized_position)\n",
    "    return realized_pnl\n"
   ]
  },
  {
   "cell_type": "code",
   "execution_count": 273,
   "metadata": {},
   "outputs": [
    {
     "data": {
      "text/html": [
       "<div>\n",
       "<style scoped>\n",
       "    .dataframe tbody tr th:only-of-type {\n",
       "        vertical-align: middle;\n",
       "    }\n",
       "\n",
       "    .dataframe tbody tr th {\n",
       "        vertical-align: top;\n",
       "    }\n",
       "\n",
       "    .dataframe thead th {\n",
       "        text-align: right;\n",
       "    }\n",
       "</style>\n",
       "<table border=\"1\" class=\"dataframe\">\n",
       "  <thead>\n",
       "    <tr style=\"text-align: right;\">\n",
       "      <th></th>\n",
       "      <th>Realized PnL</th>\n",
       "      <th>instrument</th>\n",
       "    </tr>\n",
       "    <tr>\n",
       "      <th>Date</th>\n",
       "      <th></th>\n",
       "      <th></th>\n",
       "    </tr>\n",
       "  </thead>\n",
       "  <tbody>\n",
       "    <tr>\n",
       "      <th>2024-02-27</th>\n",
       "      <td>-0.01700</td>\n",
       "      <td>ETH-8MAR24-3300-C</td>\n",
       "    </tr>\n",
       "    <tr>\n",
       "      <th>2024-02-26</th>\n",
       "      <td>0.00622</td>\n",
       "      <td>ETH-8MAR24-3600-C</td>\n",
       "    </tr>\n",
       "    <tr>\n",
       "      <th>2024-02-27</th>\n",
       "      <td>0.00912</td>\n",
       "      <td>ETH-8MAR24-3600-C</td>\n",
       "    </tr>\n",
       "  </tbody>\n",
       "</table>\n",
       "</div>"
      ],
      "text/plain": [
       "            Realized PnL         instrument\n",
       "Date                                       \n",
       "2024-02-27      -0.01700  ETH-8MAR24-3300-C\n",
       "2024-02-26       0.00622  ETH-8MAR24-3600-C\n",
       "2024-02-27       0.00912  ETH-8MAR24-3600-C"
      ]
     },
     "execution_count": 273,
     "metadata": {},
     "output_type": "execute_result"
    }
   ],
   "source": [
    "from concurrent.futures import ThreadPoolExecutor\n",
    "from functools import partial\n",
    "\n",
    "def get_agg_rel_pnl(trade_log):\n",
    "    pool = ThreadPoolExecutor(max_workers = 20)\n",
    "    RealizedPnL = pd.DataFrame()\n",
    "    agg_rel_pnl_func = partial(get_realized_pnl,trade_log)\n",
    "    ttd_instruments = set(trade_log.instrument_name)\n",
    "    for data in pool.map(agg_rel_pnl_func,ttd_instruments):\n",
    "        RealizedPnL = pd.concat([RealizedPnL,data],axis=0)\n",
    "    RealizedPnL['type'] = [len(i.split(\"-\")) for i in Realized_PnL['instrument']]\n",
    "    RealizedPnL['type'] = ['option' if i==4 else 'future' if i==2 else 'spot' if i==1 else \"unknown\"]\n",
    "    return RealizedPnL\n",
    "\n",
    "RealizedPnL\n",
    "    "
   ]
  },
  {
   "cell_type": "code",
   "execution_count": 111,
   "metadata": {},
   "outputs": [
    {
     "data": {
      "text/plain": [
       "Index(['profit_as_cashflow', 'price_currency', 'side', 'user_role', 'trade_id',\n",
       "       'interest_pl', 'contracts', 'user_seq', 'equity', 'fee_balance',\n",
       "       'instrument_name', 'order_id', 'username', 'mark_price', 'user_id',\n",
       "       'amount', 'index_price', 'cashflow', 'commission', 'price', 'change',\n",
       "       'currency', 'balance', 'type', 'timestamp', 'position', 'info', 'id',\n",
       "       'datetime', 'Date', 'direction'],\n",
       "      dtype='object')"
      ]
     },
     "execution_count": 111,
     "metadata": {},
     "output_type": "execute_result"
    }
   ],
   "source": [
    "trade_log.columns"
   ]
  },
  {
   "cell_type": "code",
   "execution_count": 119,
   "metadata": {},
   "outputs": [
    {
     "data": {
      "text/html": [
       "<div>\n",
       "<style scoped>\n",
       "    .dataframe tbody tr th:only-of-type {\n",
       "        vertical-align: middle;\n",
       "    }\n",
       "\n",
       "    .dataframe tbody tr th {\n",
       "        vertical-align: top;\n",
       "    }\n",
       "\n",
       "    .dataframe thead th {\n",
       "        text-align: right;\n",
       "    }\n",
       "</style>\n",
       "<table border=\"1\" class=\"dataframe\">\n",
       "  <thead>\n",
       "    <tr style=\"text-align: right;\">\n",
       "      <th></th>\n",
       "      <th>instrument_name</th>\n",
       "      <th>side</th>\n",
       "      <th>price_currency</th>\n",
       "      <th>profit_as_cashflow</th>\n",
       "      <th>trade_type</th>\n",
       "      <th>commission</th>\n",
       "      <th>price</th>\n",
       "      <th>contracts</th>\n",
       "      <th>amount</th>\n",
       "      <th>direction</th>\n",
       "      <th>datetime</th>\n",
       "      <th>trade_id</th>\n",
       "      <th>Date</th>\n",
       "    </tr>\n",
       "  </thead>\n",
       "  <tbody>\n",
       "    <tr>\n",
       "      <th>0</th>\n",
       "      <td>ETH-8MAR24-3600-C</td>\n",
       "      <td>open sell</td>\n",
       "      <td>ETH</td>\n",
       "      <td>False</td>\n",
       "      <td>open</td>\n",
       "      <td>0.0003</td>\n",
       "      <td>0.008</td>\n",
       "      <td>1.0</td>\n",
       "      <td>1.0</td>\n",
       "      <td>-1</td>\n",
       "      <td>2024-02-27 00:25:36</td>\n",
       "      <td>ETH-195089436</td>\n",
       "      <td>2024-02-27</td>\n",
       "    </tr>\n",
       "    <tr>\n",
       "      <th>1</th>\n",
       "      <td>ETH-8MAR24-3600-C</td>\n",
       "      <td>open sell</td>\n",
       "      <td>ETH</td>\n",
       "      <td>False</td>\n",
       "      <td>open</td>\n",
       "      <td>0.0003</td>\n",
       "      <td>0.008</td>\n",
       "      <td>1.0</td>\n",
       "      <td>1.0</td>\n",
       "      <td>-1</td>\n",
       "      <td>2024-02-27 00:25:36</td>\n",
       "      <td>ETH-195089435</td>\n",
       "      <td>2024-02-27</td>\n",
       "    </tr>\n",
       "    <tr>\n",
       "      <th>2</th>\n",
       "      <td>ETH-8MAR24-3600-C</td>\n",
       "      <td>close sell</td>\n",
       "      <td>ETH</td>\n",
       "      <td>False</td>\n",
       "      <td>close</td>\n",
       "      <td>0.0006</td>\n",
       "      <td>0.0075</td>\n",
       "      <td>2.0</td>\n",
       "      <td>2.0</td>\n",
       "      <td>-1</td>\n",
       "      <td>2024-02-27 00:24:45</td>\n",
       "      <td>ETH-195089153</td>\n",
       "      <td>2024-02-27</td>\n",
       "    </tr>\n",
       "    <tr>\n",
       "      <th>6</th>\n",
       "      <td>ETH-8MAR24-3600-C</td>\n",
       "      <td>close sell</td>\n",
       "      <td>ETH</td>\n",
       "      <td>False</td>\n",
       "      <td>close</td>\n",
       "      <td>0.0003</td>\n",
       "      <td>0.0046</td>\n",
       "      <td>1.0</td>\n",
       "      <td>1.0</td>\n",
       "      <td>-1</td>\n",
       "      <td>2024-02-26 01:14:42</td>\n",
       "      <td>ETH-194918236</td>\n",
       "      <td>2024-02-26</td>\n",
       "    </tr>\n",
       "    <tr>\n",
       "      <th>9</th>\n",
       "      <td>ETH-8MAR24-3600-C</td>\n",
       "      <td>open buy</td>\n",
       "      <td>ETH</td>\n",
       "      <td>False</td>\n",
       "      <td>open</td>\n",
       "      <td>0.0003</td>\n",
       "      <td>0.0027</td>\n",
       "      <td>1.0</td>\n",
       "      <td>1.0</td>\n",
       "      <td>1</td>\n",
       "      <td>2024-02-24 02:16:06</td>\n",
       "      <td>ETH-194754812</td>\n",
       "      <td>2024-02-24</td>\n",
       "    </tr>\n",
       "    <tr>\n",
       "      <th>14</th>\n",
       "      <td>ETH-8MAR24-3600-C</td>\n",
       "      <td>open buy</td>\n",
       "      <td>ETH</td>\n",
       "      <td>False</td>\n",
       "      <td>open</td>\n",
       "      <td>0.0006</td>\n",
       "      <td>0.0026</td>\n",
       "      <td>2.0</td>\n",
       "      <td>2.0</td>\n",
       "      <td>1</td>\n",
       "      <td>2024-02-24 00:31:31</td>\n",
       "      <td>ETH-194746322</td>\n",
       "      <td>2024-02-24</td>\n",
       "    </tr>\n",
       "  </tbody>\n",
       "</table>\n",
       "</div>"
      ],
      "text/plain": [
       "      instrument_name        side price_currency profit_as_cashflow  \\\n",
       "0   ETH-8MAR24-3600-C   open sell            ETH              False   \n",
       "1   ETH-8MAR24-3600-C   open sell            ETH              False   \n",
       "2   ETH-8MAR24-3600-C  close sell            ETH              False   \n",
       "6   ETH-8MAR24-3600-C  close sell            ETH              False   \n",
       "9   ETH-8MAR24-3600-C    open buy            ETH              False   \n",
       "14  ETH-8MAR24-3600-C    open buy            ETH              False   \n",
       "\n",
       "   trade_type commission   price contracts amount  direction  \\\n",
       "0        open     0.0003   0.008       1.0    1.0         -1   \n",
       "1        open     0.0003   0.008       1.0    1.0         -1   \n",
       "2       close     0.0006  0.0075       2.0    2.0         -1   \n",
       "6       close     0.0003  0.0046       1.0    1.0         -1   \n",
       "9        open     0.0003  0.0027       1.0    1.0          1   \n",
       "14       open     0.0006  0.0026       2.0    2.0          1   \n",
       "\n",
       "              datetime       trade_id        Date  \n",
       "0  2024-02-27 00:25:36  ETH-195089436  2024-02-27  \n",
       "1  2024-02-27 00:25:36  ETH-195089435  2024-02-27  \n",
       "2  2024-02-27 00:24:45  ETH-195089153  2024-02-27  \n",
       "6  2024-02-26 01:14:42  ETH-194918236  2024-02-26  \n",
       "9  2024-02-24 02:16:06  ETH-194754812  2024-02-24  \n",
       "14 2024-02-24 00:31:31  ETH-194746322  2024-02-24  "
      ]
     },
     "execution_count": 119,
     "metadata": {},
     "output_type": "execute_result"
    }
   ],
   "source": [
    "trade_log[trade_log['instrument_name']==\"ETH-8MAR24-3600-C\"][['instrument_name','side','price_currency','profit_as_cashflow','trade_type','commission','price','contracts','amount','direction','datetime','trade_id','Date']]"
   ]
  },
  {
   "cell_type": "code",
   "execution_count": null,
   "metadata": {},
   "outputs": [],
   "source": []
  }
 ],
 "metadata": {
  "kernelspec": {
   "display_name": "base",
   "language": "python",
   "name": "python3"
  },
  "language_info": {
   "codemirror_mode": {
    "name": "ipython",
    "version": 3
   },
   "file_extension": ".py",
   "mimetype": "text/x-python",
   "name": "python",
   "nbconvert_exporter": "python",
   "pygments_lexer": "ipython3",
   "version": "3.10.9"
  }
 },
 "nbformat": 4,
 "nbformat_minor": 2
}
