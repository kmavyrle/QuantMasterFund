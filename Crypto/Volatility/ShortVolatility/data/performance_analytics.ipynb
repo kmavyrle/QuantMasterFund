{
 "cells": [
  {
   "cell_type": "code",
   "execution_count": 96,
   "metadata": {},
   "outputs": [],
   "source": [
    "import pandas as pd\n",
    "import numpy as np\n",
    "import nest_asyncio\n",
    "nest_asyncio.apply()\n",
    "import account_mgmt as accmgmt"
   ]
  },
  {
   "cell_type": "code",
   "execution_count": 97,
   "metadata": {},
   "outputs": [],
   "source": [
    "creds = pd.read_csv(r'C:\\Users\\kmavy\\OneDrive\\Desktop\\credentials.csv')"
   ]
  },
  {
   "cell_type": "code",
   "execution_count": 105,
   "metadata": {},
   "outputs": [
    {
     "name": "stdout",
     "output_type": "stream",
     "text": [
      "Authentication success\n"
     ]
    }
   ],
   "source": [
    "client_id = creds['client_id'].values[0]\n",
    "client_secret =creds['client_secret'].values[0]\n",
    "\n",
    "ws = accmgmt.DeribitWS(client_id=client_id, client_secret=client_secret, live=True)\n",
    "positions = ws.get_positions(currency='ETH')['result']\n",
    "\n",
    "pnl,delta,vega,theta,gamma = 0,0,0,0,0\n",
    "for dets in positions:\n",
    "    pnl+=dets['floating_profit_loss_usd']\n",
    "    delta +=dets['delta']\n",
    "    theta +=dets['theta']\n",
    "    vega +=dets['vega']\n",
    "    gamma+=dets['gamma']\n"
   ]
  },
  {
   "cell_type": "code",
   "execution_count": 100,
   "metadata": {},
   "outputs": [
    {
     "name": "stderr",
     "output_type": "stream",
     "text": [
      "C:\\Users\\kmavy\\AppData\\Local\\Temp\\ipykernel_3564\\3215754535.py:1: FutureWarning: The pandas.datetime class is deprecated and will be removed from pandas in a future version. Import from datetime module instead.\n",
      "  shortvolpnl = pd.DataFrame([pnl],index = [pd.datetime.today().strftime('%Y-%m-%d')],columns = ['daily_pnl'])\n",
      "C:\\Users\\kmavy\\AppData\\Local\\Temp\\ipykernel_3564\\3215754535.py:2: FutureWarning: The pandas.datetime class is deprecated and will be removed from pandas in a future version. Import from datetime module instead.\n",
      "  portfolio_greeks = pd.DataFrame(np.array([delta,vega,theta,gamma]).reshape(-1,4),index = [pd.datetime.today().strftime('%Y-%m-%d')],columns = ['delta','vega','theta','gamma'])\n"
     ]
    }
   ],
   "source": [
    "shortvolpnl = pd.DataFrame([pnl],index = [pd.datetime.today().strftime('%Y-%m-%d')],columns = ['daily_pnl'])\n",
    "portfolio_greeks = pd.DataFrame(np.array([delta,vega,theta,gamma]).reshape(-1,4),index = [pd.datetime.today().strftime('%Y-%m-%d')],columns = ['delta','vega','theta','gamma'])"
   ]
  },
  {
   "cell_type": "code",
   "execution_count": 101,
   "metadata": {},
   "outputs": [],
   "source": [
    "import csv\n",
    "perf_path =os.path.join(os.getcwd(),'performance_analytics\\\\perf_analytics.csv') \n",
    "greeks_path = os.path.join(os.getcwd(),'performance_analytics\\\\portfolio_greeks.csv') "
   ]
  },
  {
   "cell_type": "code",
   "execution_count": 107,
   "metadata": {},
   "outputs": [],
   "source": [
    "with open(perf_path,'a',newline = '') as csvfile:\n",
    "    writer = csv.writer(csvfile)\n",
    "    for i in range(len(shortvolpnl)):\n",
    "        temp = shortvolpnl.reset_index()\n",
    "        row = temp.iloc[i].values\n",
    "        writer.writerow(row)\n",
    "csvfile.close()\n",
    "\n",
    "\n",
    "\n",
    "with open(greeks_path,'a',newline = '') as csvfile:\n",
    "    writer = csv.writer(csvfile)\n",
    "    for i in range(len(portfolio_greeks)):\n",
    "        temp = portfolio_greeks.reset_index()\n",
    "        row = temp.iloc[i].values\n",
    "        writer.writerow(row)\n",
    "csvfile.close()"
   ]
  },
  {
   "cell_type": "code",
   "execution_count": 124,
   "metadata": {},
   "outputs": [
    {
     "data": {
      "image/png": "[encoded data removed]",
      "text/plain": [
       "<Figure size 640x480 with 1 Axes>"
      ]
     },
     "metadata": {},
     "output_type": "display_data"
    }
   ],
   "source": [
    "pic = pd.read_csv(r'performance_analytics\\\\perf_analytics.csv',index_col = 0).cumsum().plot(title = 'Cumulative Returns (USD)').get_figure()\n",
    "pic.savefig('cumulative_performance.png')"
   ]
  },
  {
   "cell_type": "code",
   "execution_count": null,
   "metadata": {},
   "outputs": [],
   "source": []
  },
  {
   "cell_type": "code",
   "execution_count": 31,
   "metadata": {},
   "outputs": [
    {
     "data": {
      "text/plain": [
       "-32.462472"
      ]
     },
     "execution_count": 31,
     "metadata": {},
     "output_type": "execute_result"
    }
   ],
   "source": [
    "-0.011144*2913"
   ]
  },
  {
   "cell_type": "code",
   "execution_count": 25,
   "metadata": {},
   "outputs": [
    {
     "data": {
      "text/plain": [
       "eth_usd               -0.010761\n",
       "non_matching_engine   -0.010761\n",
       "matching_engine       -0.010761\n",
       "Name: total_pl, dtype: float64"
      ]
     },
     "execution_count": 25,
     "metadata": {},
     "output_type": "execute_result"
    }
   ],
   "source": [
    "pd.DataFrame(ws.account_summary('ETH',extended=False)['result'])['total_pl']"
   ]
  },
  {
   "cell_type": "code",
   "execution_count": 30,
   "metadata": {},
   "outputs": [
    {
     "data": {
      "text/html": [
       "<div>\n",
       "<style scoped>\n",
       "    .dataframe tbody tr th:only-of-type {\n",
       "        vertical-align: middle;\n",
       "    }\n",
       "\n",
       "    .dataframe tbody tr th {\n",
       "        vertical-align: top;\n",
       "    }\n",
       "\n",
       "    .dataframe thead th {\n",
       "        text-align: right;\n",
       "    }\n",
       "</style>\n",
       "<table border=\"1\" class=\"dataframe\">\n",
       "  <thead>\n",
       "    <tr style=\"text-align: right;\">\n",
       "      <th></th>\n",
       "      <th>options_pl</th>\n",
       "    </tr>\n",
       "  </thead>\n",
       "  <tbody>\n",
       "    <tr>\n",
       "      <th>eth_usd</th>\n",
       "      <td>-0.011144</td>\n",
       "    </tr>\n",
       "    <tr>\n",
       "      <th>non_matching_engine</th>\n",
       "      <td>-0.011144</td>\n",
       "    </tr>\n",
       "    <tr>\n",
       "      <th>matching_engine</th>\n",
       "      <td>-0.011144</td>\n",
       "    </tr>\n",
       "  </tbody>\n",
       "</table>\n",
       "</div>"
      ],
      "text/plain": [
       "                     options_pl\n",
       "eth_usd               -0.011144\n",
       "non_matching_engine   -0.011144\n",
       "matching_engine       -0.011144"
      ]
     },
     "execution_count": 30,
     "metadata": {},
     "output_type": "execute_result"
    }
   ],
   "source": [
    "pd.DataFrame(ws.account_summary('ETH',extended=False)['result'])[['options_pl']]"
   ]
  },
  {
   "cell_type": "code",
   "execution_count": 109,
   "metadata": {},
   "outputs": [
    {
     "data": {
      "text/plain": [
       "-29.400000000000002"
      ]
     },
     "execution_count": 109,
     "metadata": {},
     "output_type": "execute_result"
    }
   ],
   "source": [
    "-0.0105*2800"
   ]
  },
  {
   "cell_type": "code",
   "execution_count": 108,
   "metadata": {},
   "outputs": [
    {
     "data": {
      "text/html": [
       "<div>\n",
       "<style scoped>\n",
       "    .dataframe tbody tr th:only-of-type {\n",
       "        vertical-align: middle;\n",
       "    }\n",
       "\n",
       "    .dataframe tbody tr th {\n",
       "        vertical-align: top;\n",
       "    }\n",
       "\n",
       "    .dataframe thead th {\n",
       "        text-align: right;\n",
       "    }\n",
       "</style>\n",
       "<table border=\"1\" class=\"dataframe\">\n",
       "  <thead>\n",
       "    <tr style=\"text-align: right;\">\n",
       "      <th></th>\n",
       "      <th>total_pl</th>\n",
       "    </tr>\n",
       "  </thead>\n",
       "  <tbody>\n",
       "    <tr>\n",
       "      <th>eth_usd</th>\n",
       "      <td>-0.010537</td>\n",
       "    </tr>\n",
       "    <tr>\n",
       "      <th>non_matching_engine</th>\n",
       "      <td>-0.010537</td>\n",
       "    </tr>\n",
       "    <tr>\n",
       "      <th>matching_engine</th>\n",
       "      <td>-0.010537</td>\n",
       "    </tr>\n",
       "  </tbody>\n",
       "</table>\n",
       "</div>"
      ],
      "text/plain": [
       "                     total_pl\n",
       "eth_usd             -0.010537\n",
       "non_matching_engine -0.010537\n",
       "matching_engine     -0.010537"
      ]
     },
     "execution_count": 108,
     "metadata": {},
     "output_type": "execute_result"
    }
   ],
   "source": [
    "pd.DataFrame(ws.account_summary('ETH',extended=False)['result'])[['total_pl']]"
   ]
  },
  {
   "cell_type": "code",
   "execution_count": 67,
   "metadata": {},
   "outputs": [
    {
     "data": {
      "text/plain": [
       "{'jsonrpc': '2.0',\n",
       " 'id': 0,\n",
       " 'error': {'message': 'Invalid params',\n",
       "  'data': {'param': 'currency', 'reason': 'value required'},\n",
       "  'code': -32602},\n",
       " 'usIn': 1708354861337483,\n",
       " 'usOut': 1708354861337602,\n",
       " 'usDiff': 119,\n",
       " 'testnet': False}"
      ]
     },
     "execution_count": 67,
     "metadata": {},
     "output_type": "execute_result"
    }
   ],
   "source": [
    "ws.get_positions(instrument='ETH')"
   ]
  },
  {
   "cell_type": "code",
   "execution_count": null,
   "metadata": {},
   "outputs": [],
   "source": []
  }
 ],
 "metadata": {
  "kernelspec": {
   "display_name": "base",
   "language": "python",
   "name": "python3"
  },
  "language_info": {
   "codemirror_mode": {
    "name": "ipython",
    "version": 3
   },
   "file_extension": ".py",
   "mimetype": "text/x-python",
   "name": "python",
   "nbconvert_exporter": "python",
   "pygments_lexer": "ipython3",
   "version": "3.10.9"
  }
 },
 "nbformat": 4,
 "nbformat_minor": 2
}
