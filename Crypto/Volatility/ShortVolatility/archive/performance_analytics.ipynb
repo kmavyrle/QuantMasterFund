{
 "cells": [
  {
   "cell_type": "code",
   "execution_count": 117,
   "metadata": {},
   "outputs": [],
   "source": [
    "import asyncio\n",
    "import websockets\n",
    "import json\n",
    "\n",
    "\n",
    "class DeribitWS:\n",
    "\n",
    "    def __init__(self, client_id, client_secret, live=False):\n",
    "\n",
    "        if not live:\n",
    "            self.url = 'wss://test.deribit.com/ws/api/v2'\n",
    "        elif live:\n",
    "            self.url = 'wss://www.deribit.com/ws/api/v2'\n",
    "        else:\n",
    "            raise Exception('live must be a bool, True=real, False=paper')\n",
    "\n",
    "\n",
    "        self.client_id = client_id\n",
    "        self.client_secret = client_secret\n",
    "\n",
    "        self.auth_creds = {\n",
    "              \"jsonrpc\" : \"2.0\",\n",
    "              \"id\" : 0,\n",
    "              \"method\" : \"public/auth\",\n",
    "              \"params\" : {\n",
    "                \"grant_type\" : \"client_credentials\",\n",
    "                \"client_id\" : self.client_id,\n",
    "                \"client_secret\" : self.client_secret\n",
    "              }\n",
    "            }\n",
    "        self.test_creds()\n",
    "\n",
    "        self.msg = {\n",
    "            \"jsonrpc\": \"2.0\",\n",
    "            \"id\": 0,\n",
    "            \"method\": None,\n",
    "        }\n",
    "\n",
    "    async def pub_api(self, msg):\n",
    "        async with websockets.connect(self.url) as websocket:\n",
    "            await websocket.send(msg)\n",
    "            while websocket.open:\n",
    "                response = await websocket.recv()\n",
    "                return json.loads(response)\n",
    "\n",
    "    async def priv_api(self, msg):\n",
    "        async with websockets.connect(self.url) as websocket:\n",
    "            await websocket.send(json.dumps(self.auth_creds))\n",
    "            while websocket.open:\n",
    "                response = await websocket.recv()\n",
    "                await websocket.send(msg)\n",
    "                response = await websocket.recv()\n",
    "                break\n",
    "            return json.loads(response)\n",
    "\n",
    "    @staticmethod\n",
    "    def async_loop(api, message):\n",
    "        return asyncio.get_event_loop().run_until_complete(api(message))\n",
    "\n",
    "    def test_creds(self):\n",
    "        response = self.async_loop(self.pub_api, json.dumps(self.auth_creds))\n",
    "        if 'error' in response.keys():\n",
    "            raise Exception(f\"Auth failed with error {response['error']}\")\n",
    "        else:\n",
    "            print(\"Authentication success\")\n",
    "\n",
    "    def market_order(self, instrument, amount, direction):\n",
    "        params = {\n",
    "                \"instrument_name\" : instrument,\n",
    "                \"amount\" : amount,\n",
    "                \"type\" : \"market\",\n",
    "              }\n",
    "\n",
    "        if direction.lower() == 'long':\n",
    "            side = 'buy'\n",
    "        elif direction.lower() == 'short':\n",
    "            side = 'sell'\n",
    "        else:\n",
    "            raise ValueError('direction must be long or short')\n",
    "\n",
    "        self.msg[\"method\"] = f\"private/{side}\"\n",
    "        self.msg[\"params\"] = params\n",
    "\n",
    "        response = self.async_loop(self.priv_api, json.dumps(self.msg))\n",
    "\n",
    "        return response\n",
    "\n",
    "\n",
    "    def limit_order(self, instrument, amount, direction, price,\n",
    "                   post_only, reduce_only):\n",
    "        params = {\n",
    "            \"instrument_name\": instrument,\n",
    "            \"amount\": amount,\n",
    "            \"type\": \"limit\",\n",
    "            \"price\": price,\n",
    "            \"post_only\":  post_only,\n",
    "            \"reduce_only\": reduce_only\n",
    "\n",
    "        }\n",
    "        if direction.lower() == 'long':\n",
    "            side = 'buy'\n",
    "        elif direction.lower() == 'short':\n",
    "            side = 'sell'\n",
    "        else:\n",
    "            raise ValueError('direction must be long or short')\n",
    "\n",
    "        self.msg[\"method\"] = f\"private/{side}\"\n",
    "        self.msg[\"params\"] = params\n",
    "        response = self.async_loop(self.priv_api, json.dumps(self.msg))\n",
    "        return response\n",
    "\n",
    "    # market data methods\n",
    "    def get_data(self, instrument, start, end, timeframe):\n",
    "        params =  {\n",
    "                \"instrument_name\": instrument,\n",
    "                \"start_timestamp\": start,\n",
    "                \"end_timestamp\": end,\n",
    "                \"resolution\": timeframe\n",
    "            }\n",
    "\n",
    "        self.msg[\"method\"] = \"public/get_tradingview_chart_data\"\n",
    "        self.msg[\"params\"] = params\n",
    "\n",
    "        data = self.async_loop(self.pub_api, json.dumps(self.msg))\n",
    "        return data\n",
    "\n",
    "    def get_orderbook(self, instrument, depth=5):\n",
    "        params = {\n",
    "            \"instrument_name\": instrument,\n",
    "            \"depth\": depth\n",
    "        }\n",
    "        self.msg[\"method\"] = \"public/get_order_book\"\n",
    "        self.msg[\"params\"] = params\n",
    "\n",
    "        order_book = self.async_loop(self.pub_api, json.dumps(self.msg))\n",
    "        return order_book\n",
    "\n",
    "    def get_quote(self, instrument):\n",
    "        params = {\n",
    "            \"instrument_name\": instrument\n",
    "        }\n",
    "        self.msg[\"method\"] = \"public/ticker\"\n",
    "        self.msg[\"params\"] = params\n",
    "        quote = self.async_loop(self.pub_api, json.dumps(self.msg))\n",
    "\n",
    "        return quote['result']['last_price']\n",
    "\n",
    "    #account methods\n",
    "    def account_summary(self, currency, extended=True):\n",
    "        params = {\n",
    "            \"currency\": currency,\n",
    "            \"extended\": extended\n",
    "        }\n",
    "\n",
    "        self.msg[\"method\"] = \"private/get_account_summary\"\n",
    "        self.msg[\"params\"] = params\n",
    "        summary = self.async_loop(self.priv_api, json.dumps(self.msg))\n",
    "        return summary\n",
    "\n",
    "    def get_positions(self, currency, kind=\"option\"):\n",
    "        params = {\n",
    "            \"currency\": currency,\n",
    "            \"kind\": kind\n",
    "        }\n",
    "        self.msg[\"method\"] = \"private/get_positions\"\n",
    "        self.msg[\"params\"] = params\n",
    "        positions = self.async_loop(self.priv_api, json.dumps(self.msg))\n",
    "        return positions\n",
    "\n",
    "    def available_instruments(self, currency, kind=\"future\", expired=False):\n",
    "        params = {\n",
    "            \"currency\": currency,\n",
    "            \"kind\": kind,\n",
    "            \"expired\": expired\n",
    "        }\n",
    "\n",
    "        self.msg[\"method\"] = \"public/get_instruments\"\n",
    "        self.msg[\"params\"] = params\n",
    "        resp = self.async_loop(self.pub_api, json.dumps(self.msg))\n",
    "        instruments = [d[\"instrument_name\"] for d in resp['result']]\n",
    "        return instruments\n",
    "    \n",
    "\n",
    "\n",
    "    def get_trade_hist(self,currency,count = 10):\n",
    "        params={\n",
    "            'currency':currency,\n",
    "            'count':count\n",
    "        }\n",
    "        self.msg['method'] = \"private/get_trigger_order_history\"\n",
    "        self.msg['params']=params\n",
    "        resp = self.async_loop(self.priv_api, json.dumps(self.msg))\n",
    "\n",
    "        return resp\n",
    "\n"
   ]
  },
  {
   "cell_type": "code",
   "execution_count": 1,
   "metadata": {},
   "outputs": [
    {
     "ename": "SyntaxError",
     "evalue": "invalid syntax (1870214629.py, line 5)",
     "output_type": "error",
     "traceback": [
      "\u001b[1;36m  Cell \u001b[1;32mIn[1], line 5\u001b[1;36m\u001b[0m\n\u001b[1;33m    import\u001b[0m\n\u001b[1;37m          ^\u001b[0m\n\u001b[1;31mSyntaxError\u001b[0m\u001b[1;31m:\u001b[0m invalid syntax\n"
     ]
    }
   ],
   "source": [
    "import pandas as pd\n",
    "import numpy as np\n",
    "import os\n",
    "\n",
    "import\n",
    "os.getcwd()"
   ]
  },
  {
   "cell_type": "code",
   "execution_count": null,
   "metadata": {},
   "outputs": [],
   "source": [
    "creds = pd.read_csv(r'C:\\Users\\kmavy\\OneDrive\\Desktop\\credentials.csv')"
   ]
  },
  {
   "cell_type": "code",
   "execution_count": null,
   "metadata": {},
   "outputs": [
    {
     "ename": "NameError",
     "evalue": "name 'DeribitWS' is not defined",
     "output_type": "error",
     "traceback": [
      "\u001b[1;31m---------------------------------------------------------------------------\u001b[0m",
      "\u001b[1;31mNameError\u001b[0m                                 Traceback (most recent call last)",
      "Cell \u001b[1;32mIn[24], line 4\u001b[0m\n\u001b[0;32m      1\u001b[0m client_id \u001b[38;5;241m=\u001b[39m creds[\u001b[38;5;124m'\u001b[39m\u001b[38;5;124mclient_id\u001b[39m\u001b[38;5;124m'\u001b[39m]\u001b[38;5;241m.\u001b[39mvalues[\u001b[38;5;241m0\u001b[39m]\n\u001b[0;32m      2\u001b[0m client_secret \u001b[38;5;241m=\u001b[39mcreds[\u001b[38;5;124m'\u001b[39m\u001b[38;5;124mclient_secret\u001b[39m\u001b[38;5;124m'\u001b[39m]\u001b[38;5;241m.\u001b[39mvalues[\u001b[38;5;241m0\u001b[39m]\n\u001b[1;32m----> 4\u001b[0m ws \u001b[38;5;241m=\u001b[39m \u001b[43mDeribitWS\u001b[49m(client_id\u001b[38;5;241m=\u001b[39mclient_id, client_secret\u001b[38;5;241m=\u001b[39mclient_secret, live\u001b[38;5;241m=\u001b[39m\u001b[38;5;28;01mTrue\u001b[39;00m)\n",
      "\u001b[1;31mNameError\u001b[0m: name 'DeribitWS' is not defined"
     ]
    }
   ],
   "source": [
    "client_id = creds['client_id'].values[0]\n",
    "client_secret =creds['client_secret'].values[0]\n",
    "\n",
    "ws = DeribitWS(client_id=client_id, client_secret=client_secret, live=True)"
   ]
  },
  {
   "cell_type": "code",
   "execution_count": null,
   "metadata": {},
   "outputs": [
    {
     "data": {
      "text/plain": [
       "[{'floating_profit_loss_usd': -12.387627,\n",
       "  'average_price_usd': 16.418305,\n",
       "  'total_profit_loss': -0.00513927,\n",
       "  'realized_profit_loss': 0.0,\n",
       "  'floating_profit_loss': 0.001974089,\n",
       "  'average_price': 0.005875,\n",
       "  'theta': -3.24743,\n",
       "  'vega': 3.77303,\n",
       "  'gamma': 0.00062,\n",
       "  'delta': -0.18833,\n",
       "  'open_orders_margin': 0.0,\n",
       "  'initial_margin': 0.0,\n",
       "  'maintenance_margin': 0.0,\n",
       "  'settlement_price': 0.004097,\n",
       "  'instrument_name': 'ETH-29MAR24-2100-P',\n",
       "  'mark_price': 0.00459,\n",
       "  'index_price': 2902.15,\n",
       "  'direction': 'buy',\n",
       "  'kind': 'option',\n",
       "  'size': 4.0},\n",
       " {'floating_profit_loss_usd': 21.898604,\n",
       "  'average_price_usd': 32.123235,\n",
       "  'total_profit_loss': 0.009270563,\n",
       "  'realized_profit_loss': 0.0,\n",
       "  'floating_profit_loss': -0.00380472,\n",
       "  'average_price': 0.0115,\n",
       "  'theta': 4.99097,\n",
       "  'vega': -6.26141,\n",
       "  'gamma': -0.0011,\n",
       "  'delta': 0.36218,\n",
       "  'open_orders_margin': 0.0,\n",
       "  'initial_margin': 0.436729436,\n",
       "  'maintenance_margin': 0.336729436,\n",
       "  'settlement_price': 0.008231,\n",
       "  'instrument_name': 'ETH-29MAR24-2300-P',\n",
       "  'mark_price': 0.009182,\n",
       "  'index_price': 2902.15,\n",
       "  'direction': 'sell',\n",
       "  'kind': 'option',\n",
       "  'size': -4.0},\n",
       " {'floating_profit_loss_usd': 0.389762,\n",
       "  'average_price_usd': 55.1988,\n",
       "  'total_profit_loss': 0.000114333,\n",
       "  'realized_profit_loss': 0.0,\n",
       "  'floating_profit_loss': 0.000114333,\n",
       "  'average_price': 0.019,\n",
       "  'theta': 1.83734,\n",
       "  'vega': -2.41954,\n",
       "  'gamma': -0.00045,\n",
       "  'delta': 0.16904,\n",
       "  'open_orders_margin': 0.0,\n",
       "  'initial_margin': 0.118885667,\n",
       "  'maintenance_margin': 0.093885667,\n",
       "  'settlement_price': 0.017015,\n",
       "  'instrument_name': 'ETH-29MAR24-2500-P',\n",
       "  'mark_price': 0.018886,\n",
       "  'index_price': 2902.15,\n",
       "  'direction': 'sell',\n",
       "  'kind': 'option',\n",
       "  'size': -1.0},\n",
       " {'floating_profit_loss_usd': -133.673782,\n",
       "  'average_price_usd': 81.03789,\n",
       "  'total_profit_loss': -0.041753852,\n",
       "  'realized_profit_loss': 0.0,\n",
       "  'floating_profit_loss': 0.006414351,\n",
       "  'average_price': 0.029,\n",
       "  'theta': 11.26245,\n",
       "  'vega': -13.849,\n",
       "  'gamma': -0.00239,\n",
       "  'delta': -1.30779,\n",
       "  'open_orders_margin': 0.0,\n",
       "  'initial_margin': 0.557753852,\n",
       "  'maintenance_margin': 0.457753852,\n",
       "  'settlement_price': 0.041042,\n",
       "  'instrument_name': 'ETH-29MAR24-3300-C',\n",
       "  'mark_price': 0.039438,\n",
       "  'index_price': 2902.15,\n",
       "  'direction': 'sell',\n",
       "  'kind': 'option',\n",
       "  'size': -4.0},\n",
       " {'floating_profit_loss_usd': 1.203879,\n",
       "  'average_price_usd': 95.83662,\n",
       "  'total_profit_loss': 0.000392195,\n",
       "  'realized_profit_loss': 0.0,\n",
       "  'floating_profit_loss': 0.000392195,\n",
       "  'average_price': 0.033,\n",
       "  'theta': 2.67138,\n",
       "  'vega': -3.23286,\n",
       "  'gamma': -0.00055,\n",
       "  'delta': -0.28046,\n",
       "  'open_orders_margin': 0.0,\n",
       "  'initial_margin': 0.132607805,\n",
       "  'maintenance_margin': 0.107607805,\n",
       "  'settlement_price': 0.03404,\n",
       "  'instrument_name': 'ETH-29MAR24-3400-C',\n",
       "  'mark_price': 0.032608,\n",
       "  'index_price': 2902.15,\n",
       "  'direction': 'sell',\n",
       "  'kind': 'option',\n",
       "  'size': -1.0},\n",
       " {'floating_profit_loss_usd': 86.258133,\n",
       "  'average_price_usd': 56.58343,\n",
       "  'total_profit_loss': 0.02671044,\n",
       "  'realized_profit_loss': 0.0,\n",
       "  'floating_profit_loss': -0.004438262,\n",
       "  'average_price': 0.02025,\n",
       "  'theta': -9.99673,\n",
       "  'vega': 11.92349,\n",
       "  'gamma': 0.002,\n",
       "  'delta': 0.95862,\n",
       "  'open_orders_margin': 0.0,\n",
       "  'initial_margin': 0.0,\n",
       "  'maintenance_margin': 0.0,\n",
       "  'settlement_price': 0.028037,\n",
       "  'instrument_name': 'ETH-29MAR24-3500-C',\n",
       "  'mark_price': 0.026928,\n",
       "  'index_price': 2902.15,\n",
       "  'direction': 'buy',\n",
       "  'kind': 'option',\n",
       "  'size': 4.0},\n",
       " {'floating_profit_loss_usd': -1.437406,\n",
       "  'average_price_usd': 21.773325,\n",
       "  'total_profit_loss': -0.000497771,\n",
       "  'realized_profit_loss': 0.0,\n",
       "  'floating_profit_loss': -0.000497771,\n",
       "  'average_price': 0.0075,\n",
       "  'theta': 2.18046,\n",
       "  'vega': -1.23242,\n",
       "  'gamma': -0.00048,\n",
       "  'delta': 0.11278,\n",
       "  'open_orders_margin': 0.0,\n",
       "  'initial_margin': 0.107997771,\n",
       "  'maintenance_margin': 0.082997771,\n",
       "  'settlement_price': 0.007055,\n",
       "  'instrument_name': 'ETH-8MAR24-2500-P',\n",
       "  'mark_price': 0.007998,\n",
       "  'index_price': 2902.15,\n",
       "  'direction': 'sell',\n",
       "  'kind': 'option',\n",
       "  'size': -1.0},\n",
       " {'floating_profit_loss_usd': 2.494907,\n",
       "  'average_price_usd': 36.303625,\n",
       "  'total_profit_loss': 0.000850458,\n",
       "  'realized_profit_loss': 0.0,\n",
       "  'floating_profit_loss': 0.000850458,\n",
       "  'average_price': 0.0125,\n",
       "  'theta': 2.92658,\n",
       "  'vega': -1.59131,\n",
       "  'gamma': -0.00059,\n",
       "  'delta': -0.16391,\n",
       "  'open_orders_margin': 0.0,\n",
       "  'initial_margin': 0.111649542,\n",
       "  'maintenance_margin': 0.086649542,\n",
       "  'settlement_price': 0.013613,\n",
       "  'instrument_name': 'ETH-8MAR24-3400-C',\n",
       "  'mark_price': 0.01165,\n",
       "  'index_price': 2902.15,\n",
       "  'direction': 'sell',\n",
       "  'kind': 'option',\n",
       "  'size': -1.0}]"
      ]
     },
     "execution_count": 121,
     "metadata": {},
     "output_type": "execute_result"
    }
   ],
   "source": [
    "ws.get_positions(currency='ETH')['result']"
   ]
  },
  {
   "cell_type": "code",
   "execution_count": null,
   "metadata": {},
   "outputs": [
    {
     "data": {
      "text/plain": [
       "Index(['projected_delta_total', 'available_withdrawal_funds', 'margin_balance',\n",
       "       'options_session_upl', 'options_value', 'total_pl',\n",
       "       'projected_initial_margin', 'projected_maintenance_margin', 'equity',\n",
       "       'options_gamma', 'futures_pl', 'maintenance_margin',\n",
       "       'portfolio_margining_enabled', 'futures_session_rpl', 'currency',\n",
       "       'options_vega', 'session_rpl', 'options_session_rpl',\n",
       "       'options_theta_map', 'additional_reserve', 'cross_collateral_enabled',\n",
       "       'available_funds', 'margin_model', 'initial_margin', 'options_vega_map',\n",
       "       'delta_total', 'options_theta', 'fee_balance', 'spot_reserve',\n",
       "       'session_upl', 'delta_total_map', 'deposit_address',\n",
       "       'options_gamma_map', 'balance', 'options_delta', 'options_pl', 'limits',\n",
       "       'futures_session_upl'],\n",
       "      dtype='object')"
      ]
     },
     "execution_count": 107,
     "metadata": {},
     "output_type": "execute_result"
    }
   ],
   "source": [
    "pd.DataFrame(ws.account_summary('ETH',extended=False)['result']).columns"
   ]
  },
  {
   "cell_type": "code",
   "execution_count": null,
   "metadata": {},
   "outputs": [
    {
     "data": {
      "text/html": [
       "<div>\n",
       "<style scoped>\n",
       "    .dataframe tbody tr th:only-of-type {\n",
       "        vertical-align: middle;\n",
       "    }\n",
       "\n",
       "    .dataframe tbody tr th {\n",
       "        vertical-align: top;\n",
       "    }\n",
       "\n",
       "    .dataframe thead th {\n",
       "        text-align: right;\n",
       "    }\n",
       "</style>\n",
       "<table border=\"1\" class=\"dataframe\">\n",
       "  <thead>\n",
       "    <tr style=\"text-align: right;\">\n",
       "      <th></th>\n",
       "      <th>options_pl</th>\n",
       "    </tr>\n",
       "  </thead>\n",
       "  <tbody>\n",
       "    <tr>\n",
       "      <th>eth_usd</th>\n",
       "      <td>-0.010426</td>\n",
       "    </tr>\n",
       "    <tr>\n",
       "      <th>non_matching_engine</th>\n",
       "      <td>-0.010426</td>\n",
       "    </tr>\n",
       "    <tr>\n",
       "      <th>matching_engine</th>\n",
       "      <td>-0.010426</td>\n",
       "    </tr>\n",
       "  </tbody>\n",
       "</table>\n",
       "</div>"
      ],
      "text/plain": [
       "                     options_pl\n",
       "eth_usd               -0.010426\n",
       "non_matching_engine   -0.010426\n",
       "matching_engine       -0.010426"
      ]
     },
     "execution_count": 110,
     "metadata": {},
     "output_type": "execute_result"
    }
   ],
   "source": [
    "pd.DataFrame(ws.account_summary('ETH',extended=False)['result'])[['options_pl']]"
   ]
  },
  {
   "cell_type": "code",
   "execution_count": null,
   "metadata": {},
   "outputs": [
    {
     "data": {
      "text/plain": [
       "-29.400000000000002"
      ]
     },
     "execution_count": 109,
     "metadata": {},
     "output_type": "execute_result"
    }
   ],
   "source": [
    "-0.0105*2800"
   ]
  },
  {
   "cell_type": "code",
   "execution_count": 2,
   "metadata": {},
   "outputs": [
    {
     "ename": "NameError",
     "evalue": "name 'pd' is not defined",
     "output_type": "error",
     "traceback": [
      "\u001b[1;31m---------------------------------------------------------------------------\u001b[0m",
      "\u001b[1;31mNameError\u001b[0m                                 Traceback (most recent call last)",
      "Cell \u001b[1;32mIn[2], line 1\u001b[0m\n\u001b[1;32m----> 1\u001b[0m \u001b[43mpd\u001b[49m\u001b[38;5;241m.\u001b[39mDataFrame(ws\u001b[38;5;241m.\u001b[39maccount_summary(\u001b[38;5;124m'\u001b[39m\u001b[38;5;124mETH\u001b[39m\u001b[38;5;124m'\u001b[39m,extended\u001b[38;5;241m=\u001b[39m\u001b[38;5;28;01mFalse\u001b[39;00m)[\u001b[38;5;124m'\u001b[39m\u001b[38;5;124mresult\u001b[39m\u001b[38;5;124m'\u001b[39m])[[\u001b[38;5;124m'\u001b[39m\u001b[38;5;124mtotal_pl\u001b[39m\u001b[38;5;124m'\u001b[39m]]\n",
      "\u001b[1;31mNameError\u001b[0m: name 'pd' is not defined"
     ]
    }
   ],
   "source": [
    "pd.DataFrame(ws.account_summary('ETH',extended=False)['result'])[['total_pl']]"
   ]
  },
  {
   "cell_type": "code",
   "execution_count": null,
   "metadata": {},
   "outputs": [
    {
     "data": {
      "text/plain": [
       "{'jsonrpc': '2.0',\n",
       " 'id': 0,\n",
       " 'error': {'message': 'Invalid params',\n",
       "  'data': {'param': 'currency', 'reason': 'value required'},\n",
       "  'code': -32602},\n",
       " 'usIn': 1708354861337483,\n",
       " 'usOut': 1708354861337602,\n",
       " 'usDiff': 119,\n",
       " 'testnet': False}"
      ]
     },
     "execution_count": 67,
     "metadata": {},
     "output_type": "execute_result"
    }
   ],
   "source": [
    "ws.get_positions(instrument='ETH')"
   ]
  },
  {
   "cell_type": "code",
   "execution_count": 17,
   "metadata": {},
   "outputs": [],
   "source": [
    "import numpy as np"
   ]
  },
  {
   "cell_type": "code",
   "execution_count": null,
   "metadata": {},
   "outputs": [],
   "source": []
  },
  {
   "cell_type": "code",
   "execution_count": 41,
   "metadata": {},
   "outputs": [
    {
     "data": {
      "text/plain": [
       "PnL    0.036887\n",
       "dtype: float64"
      ]
     },
     "execution_count": 41,
     "metadata": {},
     "output_type": "execute_result"
    }
   ],
   "source": [
    "((1)/(1+prev_rets))-1"
   ]
  },
  {
   "cell_type": "code",
   "execution_count": 46,
   "metadata": {},
   "outputs": [
    {
     "name": "stdout",
     "output_type": "stream",
     "text": [
      "Authentication success\n",
      "Position buy ETH-29MAR24-2100-P PnL: -15.905918\n",
      "Position sell ETH-29MAR24-2300-P PnL: 33.170194\n",
      "Position sell ETH-29MAR24-2500-P PnL: 7.064134\n",
      "Position sell ETH-29MAR24-3300-C PnL: -46.581169\n",
      "Position sell ETH-29MAR24-3400-C PnL: 23.349456\n",
      "Position buy ETH-29MAR24-3500-C PnL: -0.258817\n",
      "Position sell ETH-8MAR24-2500-P PnL: 6.389391\n",
      "Position sell ETH-8MAR24-3400-C PnL: 19.012429\n",
      "\n",
      "\n",
      "\n",
      "\n"
     ]
    },
    {
     "name": "stderr",
     "output_type": "stream",
     "text": [
      "C:\\Users\\kmavy\\AppData\\Local\\Temp\\ipykernel_24704\\2523835252.py:43: FutureWarning: The pandas.datetime class is deprecated and will be removed from pandas in a future version. Import from datetime module instead.\n",
      "  shortvolpnl = pd.DataFrame([ret[0]],index = [pd.datetime.today().strftime(\"%Y-%m-%d\")],columns = ['daily_pnl'])\n",
      "C:\\Users\\kmavy\\AppData\\Local\\Temp\\ipykernel_24704\\2523835252.py:44: FutureWarning: The pandas.datetime class is deprecated and will be removed from pandas in a future version. Import from datetime module instead.\n",
      "  portfolio_greeks = pd.DataFrame(np.array([delta,vega,theta,gamma]).reshape(-1,4),index = [pd.datetime.today().strftime(\"%Y-%m-%d\")],columns = ['delta','vega','theta','gamma'])\n"
     ]
    }
   ],
   "source": [
    "import pandas as pd\n",
    "import numpy as np\n",
    "import nest_asyncio\n",
    "nest_asyncio.apply()\n",
    "import account_mgmt as accmgmt\n",
    "import csv\n",
    "import os\n",
    "\n",
    "creds = pd.read_csv(r'C:\\Users\\kmavy\\OneDrive\\Desktop\\credentials.csv')\n",
    "\n",
    "client_id = creds['client_id'].values[0]\n",
    "client_secret =creds['client_secret'].values[0]\n",
    "\n",
    "ws = accmgmt.DeribitWS(client_id=client_id, client_secret=client_secret, live=True)\n",
    "positions = ws.get_positions(currency='ETH')['result']\n",
    "pnl,delta,vega,theta,gamma = 0,0,0,0,0\n",
    "\n",
    "\n",
    "perf_path =os.path.join(os.getcwd(),'performance_analytics\\\\perf_analytics.csv') \n",
    "greeks_path = os.path.join(os.getcwd(),'performance_analytics\\\\portfolio_greeks.csv') \n",
    "\n",
    "rets = pd.read_csv(r'performance_analytics\\\\perf_analytics.csv',index_col = 0)\n",
    "prev_rets = (1+rets).prod()-1\n",
    "dep = float(input())\n",
    "c=1\n",
    "ret=0\n",
    "for dets in positions:\n",
    "    print(f\"Position {dets['direction']} {dets['instrument_name']} PnL:\",dets['floating_profit_loss_usd'])\n",
    "    ret+=(dets['floating_profit_loss_usd']+dets['realized_profit_loss'])\n",
    "    ret = ret/dep\n",
    "    ret = ((1+ret)/(1+prev_rets))-1\n",
    "    delta +=dets['delta']\n",
    "    theta +=dets['theta']\n",
    "    vega +=dets['vega']\n",
    "    gamma+=dets['gamma']\n",
    "    c+=1\n",
    "\n",
    "print('''\n",
    "\n",
    "\n",
    "''')\n",
    "\n",
    "shortvolpnl = pd.DataFrame([ret[0]],index = [pd.datetime.today().strftime(\"%Y-%m-%d\")],columns = ['daily_pnl'])\n",
    "portfolio_greeks = pd.DataFrame(np.array([delta,vega,theta,gamma]).reshape(-1,4),index = [pd.datetime.today().strftime(\"%Y-%m-%d\")],columns = ['delta','vega','theta','gamma'])\n",
    "\n",
    "\n",
    "\n",
    "with open(perf_path,'a',newline = '') as csvfile:\n",
    "    writer = csv.writer(csvfile)\n",
    "    for i in range(len(shortvolpnl)):\n",
    "        temp = shortvolpnl.reset_index()\n",
    "        row = temp.iloc[i].values\n",
    "        writer.writerow(row)\n",
    "csvfile.close()\n",
    "\n",
    "\n",
    "\n",
    "with open(greeks_path,'a',newline = '') as csvfile:\n",
    "    writer = csv.writer(csvfile)\n",
    "    for i in range(len(portfolio_greeks)):\n",
    "        temp = portfolio_greeks.reset_index()\n",
    "        row = temp.iloc[i].values\n",
    "        writer.writerow(row)\n",
    "csvfile.close()"
   ]
  },
  {
   "cell_type": "code",
   "execution_count": 47,
   "metadata": {},
   "outputs": [
    {
     "data": {
      "image/png": "[encoded data removed]",
      "text/plain": [
       "<Figure size 640x480 with 1 Axes>"
      ]
     },
     "metadata": {},
     "output_type": "display_data"
    }
   ],
   "source": [
    "\n",
    "rets = pd.read_csv(r'performance_analytics\\\\perf_analytics.csv',index_col = 0)\n",
    "rets = rets[~rets.index.duplicated(keep='last')]\n",
    "pic = (((1+rets).cumprod()-1)*100).plot(title = 'Cumulative Returns (%)').get_figure()\n",
    "pic.savefig('CumulativePerformance.png')"
   ]
  },
  {
   "cell_type": "code",
   "execution_count": null,
   "metadata": {},
   "outputs": [],
   "source": []
  }
 ],
 "metadata": {
  "kernelspec": {
   "display_name": "base",
   "language": "python",
   "name": "python3"
  },
  "language_info": {
   "codemirror_mode": {
    "name": "ipython",
    "version": 3
   },
   "file_extension": ".py",
   "mimetype": "text/x-python",
   "name": "python",
   "nbconvert_exporter": "python",
   "pygments_lexer": "ipython3",
   "version": "3.10.9"
  }
 },
 "nbformat": 4,
 "nbformat_minor": 2
}
