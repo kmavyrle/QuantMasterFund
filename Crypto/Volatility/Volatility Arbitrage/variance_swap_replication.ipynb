{
 "cells": [
  {
   "cell_type": "code",
   "execution_count": 28,
   "metadata": {},
   "outputs": [
    {
     "name": "stdout",
     "output_type": "stream",
     "text": [
      "816 active options.\n",
      "816 active options.\n",
      "1727424000000\n",
      "Expiration Date:  2024-12-27 16:00:00\n",
      "816 active options.\n",
      "1717142400000\n",
      "Expiration Date:  2024-06-28 16:00:00\n",
      "816 active options.\n",
      "1719561600000\n",
      "Expiration Date:  2024-09-27 16:00:00\n",
      "816 active options.\n",
      "1743148800000\n",
      "2025-03-28 08:00:00 date options failed\n",
      "816 active options.\n",
      "1714118400000\n",
      "Expiration Date:  2024-05-31 16:00:00\n",
      "816 active options.\n",
      "1735286400000\n",
      "Expiration Date:  2025-03-28 16:00:00\n",
      "816 active options.\n",
      "1712822400000\n",
      "Expiration Date:  2024-04-12 16:00:00\n",
      "816 active options.\n",
      "1712908800000\n",
      "Expiration Date:  2024-04-13 16:00:00\n",
      "816 active options.\n",
      "1713513600000\n",
      "Expiration Date:  2024-04-26 16:00:00\n",
      "816 active options.\n",
      "816 active options.\n",
      "1727424000000\n",
      "Expiration Date:  2024-12-27 16:00:00\n",
      "816 active options.\n",
      "1717142400000\n",
      "Expiration Date:  2024-06-28 16:00:00\n",
      "816 active options.\n",
      "1719561600000\n",
      "Expiration Date:  2024-09-27 16:00:00\n",
      "816 active options.\n",
      "1743148800000\n",
      "2025-03-28 08:00:00 date options failed\n",
      "816 active options.\n",
      "1714118400000\n",
      "Expiration Date:  2024-05-31 16:00:00\n",
      "816 active options.\n",
      "1735286400000\n",
      "Expiration Date:  2025-03-28 16:00:00\n",
      "816 active options.\n",
      "1712822400000\n",
      "Expiration Date:  2024-04-12 16:00:00\n",
      "816 active options.\n",
      "1712908800000\n",
      "Expiration Date:  2024-04-13 16:00:00\n",
      "816 active options.\n",
      "1713513600000\n",
      "Expiration Date:  2024-04-26 16:00:00\n",
      "Index(['best_bid_amount', 'best_ask_amount', 'estimated_delivery_price',\n",
      "       'bid_iv', 'ask_iv', 'underlying_index', 'underlying_price', 'mark_iv',\n",
      "       'best_bid_price', 'best_ask_price', 'interest_rate', 'open_interest',\n",
      "       'max_price', 'min_price', 'last_price', 'settlement_price',\n",
      "       'instrument_name', 'mark_price', 'index_price', 'state', 'timestamp',\n",
      "       'greeks.rho', 'greeks.theta', 'greeks.vega', 'greeks.gamma',\n",
      "       'greeks.delta', 'stats.volume_usd', 'stats.volume',\n",
      "       'stats.price_change', 'stats.low', 'stats.high', 'strike',\n",
      "       'expiration_date', 'dte', 'spot', 'option_type', 'mid_price',\n",
      "       'mark_price_usd', 'mid_price_usd', 'time'],\n",
      "      dtype='object')\n",
      "944 active options.\n",
      "944 active options.\n",
      "1727424000000\n",
      "Expiration Date:  2024-12-27 16:00:00\n",
      "944 active options.\n",
      "1717142400000\n",
      "Expiration Date:  2024-06-28 16:00:00\n",
      "944 active options.\n",
      "1719561600000\n",
      "Expiration Date:  2024-09-27 16:00:00\n",
      "944 active options.\n",
      "1743148800000\n",
      "2025-03-28 08:00:00 date options failed\n",
      "944 active options.\n",
      "1714118400000\n",
      "Expiration Date:  2024-05-31 16:00:00\n",
      "944 active options.\n",
      "1735286400000\n",
      "Expiration Date:  2025-03-28 16:00:00\n",
      "944 active options.\n",
      "1712822400000\n",
      "Expiration Date:  2024-04-12 16:00:00\n",
      "944 active options.\n",
      "1712908800000\n",
      "Expiration Date:  2024-04-13 16:00:00\n",
      "944 active options.\n",
      "1713513600000\n",
      "Expiration Date:  2024-04-26 16:00:00\n",
      "944 active options.\n",
      "944 active options.\n",
      "1727424000000\n",
      "Expiration Date:  2024-12-27 16:00:00\n",
      "944 active options.\n",
      "1717142400000\n",
      "Expiration Date:  2024-06-28 16:00:00\n",
      "944 active options.\n",
      "1719561600000\n",
      "Expiration Date:  2024-09-27 16:00:00\n",
      "944 active options.\n",
      "1743148800000\n",
      "2025-03-28 08:00:00 date options failed\n",
      "944 active options.\n",
      "1714118400000\n",
      "Expiration Date:  2024-05-31 16:00:00\n",
      "944 active options.\n",
      "1735286400000\n",
      "Expiration Date:  2025-03-28 16:00:00\n",
      "944 active options.\n",
      "1712822400000\n",
      "Expiration Date:  2024-04-12 16:00:00\n",
      "944 active options.\n",
      "1712908800000\n",
      "Expiration Date:  2024-04-13 16:00:00\n",
      "944 active options.\n",
      "1713513600000\n",
      "Expiration Date:  2024-04-26 16:00:00\n",
      "Index(['best_bid_amount', 'best_ask_amount', 'estimated_delivery_price',\n",
      "       'bid_iv', 'ask_iv', 'underlying_index', 'underlying_price', 'mark_iv',\n",
      "       'best_bid_price', 'best_ask_price', 'interest_rate', 'open_interest',\n",
      "       'max_price', 'min_price', 'last_price', 'settlement_price',\n",
      "       'instrument_name', 'mark_price', 'index_price', 'state', 'timestamp',\n",
      "       'greeks.rho', 'greeks.theta', 'greeks.vega', 'greeks.gamma',\n",
      "       'greeks.delta', 'stats.volume_usd', 'stats.volume',\n",
      "       'stats.price_change', 'stats.low', 'stats.high', 'strike',\n",
      "       'expiration_date', 'dte', 'spot', 'option_type', 'mid_price',\n",
      "       'mark_price_usd', 'mid_price_usd', 'time'],\n",
      "      dtype='object')\n"
     ]
    }
   ],
   "source": [
    "\n",
    "import pandas as pd\n",
    "import datetime as dt\n",
    "import datetime\n",
    "import csv\n",
    "import numpy as np\n",
    "\n",
    "from market_data import HistData\n",
    "from market_data import Options\n",
    "\n",
    "import warnings\n",
    "warnings.filterwarnings(\"ignore\")\n",
    "\n",
    "import os\n",
    "\n",
    "eth_opt = Options('ETH')\n",
    "btc_opt = Options('BTC')\n",
    "eth_hdata = HistData('ETH')\n",
    "btc_hdata = HistData('BTC')\n",
    "\n",
    "btc_spot = btc_hdata.get_idx_price()\n",
    "eth_spot = eth_hdata.get_idx_price()\n",
    "\n",
    "ethpath =os.path.join(os.getcwd(),'data/eth_hist_option_chain.csv') \n",
    "btcpath =os.path.join(os.getcwd(),'data/btc_hist_option_chain.csv')\n",
    "\n",
    "\n",
    "\n",
    "eth_options = eth_opt.get_full_option_chain(eth_spot)\n",
    "btc_options = btc_opt.get_full_option_chain(btc_spot)"
   ]
  },
  {
   "cell_type": "code",
   "execution_count": 6,
   "metadata": {},
   "outputs": [
    {
     "data": {
      "text/plain": [
       "'c:\\\\Users\\\\kmavy\\\\Documents\\\\mydocs\\\\Training Arc\\\\Github\\\\QuantMasterFund\\\\Crypto\\\\Volatility\\\\Volatility Arbitrage'"
      ]
     },
     "execution_count": 6,
     "metadata": {},
     "output_type": "execute_result"
    }
   ],
   "source": [
    "import os\n",
    "os.getcwd()"
   ]
  },
  {
   "cell_type": "code",
   "execution_count": 17,
   "metadata": {},
   "outputs": [
    {
     "data": {
      "text/plain": [
       "'20240410.xlsx'"
      ]
     },
     "execution_count": 17,
     "metadata": {},
     "output_type": "execute_result"
    }
   ],
   "source": [
    "pd.datetime.today().strftime('%Y%m%d')+'.xlsx'"
   ]
  },
  {
   "cell_type": "code",
   "execution_count": 23,
   "metadata": {},
   "outputs": [],
   "source": [
    "eth_path = r\"C:\\Users\\kmavy\\Documents\\mydocs\\Training Arc\\Github\\QuantMasterFund\\Crypto\\data\\eth_opt_chain_\"+pd.datetime.today().strftime('%Y%m%d')+'.xlsx'\n",
    "btc_path = r\"C:\\Users\\kmavy\\Documents\\mydocs\\Training Arc\\Github\\QuantMasterFund\\Crypto\\data\\btc_opt_chain_\"+pd.datetime.today().strftime('%Y%m%d')+'.xlsx'"
   ]
  },
  {
   "cell_type": "code",
   "execution_count": 24,
   "metadata": {},
   "outputs": [],
   "source": [
    "eth_options.to_excel(eth_path)\n",
    "btc_options.to_excel(btc_path)"
   ]
  },
  {
   "attachments": {
    "image.png": {
     "image/png": "[encoded data removed]"
    }
   },
   "cell_type": "markdown",
   "metadata": {},
   "source": [
    "![image.png](attachment:image.png)"
   ]
  },
  {
   "cell_type": "markdown",
   "metadata": {},
   "source": [
    "## Static Replication of Variance Swap\n",
    "\n",
    "\n",
    "$$V_{var} = 2e^{rt}\\int^{F}_0 \\frac{P(K)}{K^2}dK + 2e^{rt} \\int^{\\infty}_{F} \\frac{C(K)}{K^2} dK$$"
   ]
  },
  {
   "cell_type": "code",
   "execution_count": 62,
   "metadata": {},
   "outputs": [],
   "source": [
    "def derive_var_swap(data,tte,r):\n",
    "    curr_dt = pd.datetime.today()\n",
    "    data['strike'] = data['strike'].astype(float)\n",
    "    data['dte'] =data['dte'].astype(float)\n",
    "    tte = data.iloc[(data['dte']-tte).abs().argsort()]['dte'][0]\n",
    "    data = data[data['dte']==tte]\n",
    "\n",
    "    ##Integral\n",
    "    rt = (tte * r)/365\n",
    "    F = float(data['spot'].iloc[0])*np.exp(rt)\n",
    "    #Call Integral\n",
    "    calls = data[(data['strike']>=F)&(data['option_type']=='call')]\n",
    "    calls['dK'] = (calls['strike'].diff().fillna(0) + abs(calls['strike'].diff(-1).fillna(0)))/2\n",
    "    call_int =(calls['mark_price_usd']/(calls['strike'])**2) * calls['dK']\n",
    "    call_int = sum(call_int)\n",
    "\n",
    "    #Put Integral\n",
    "    puts = data[(data['strike']<=F)&(data['option_type']=='put')]\n",
    "    puts['dK'] = (puts['strike'].diff().fillna(0) + abs(puts['strike'].diff(-1).fillna(0)))/2\n",
    "    put_int =(puts['mark_price_usd']/(puts['strike'])**2) * puts['dK']\n",
    "    put_int = sum(put_int)\n",
    "\n",
    "    print(put_int,call_int)\n",
    "\n",
    "    \n",
    "    return 2*np.exp(rt)*(call_int+put_int)\n",
    "\n"
   ]
  },
  {
   "cell_type": "code",
   "execution_count": 86,
   "metadata": {},
   "outputs": [],
   "source": [
    "def derive_var_swap(data,tte,r):\n",
    "    curr_dt = pd.datetime.today()\n",
    "    data['strike'] = data['strike'].astype(float)\n",
    "    data['dte'] =data['dte'].astype(float)\n",
    "    tte = data.iloc[(data['dte']-tte).abs().argsort()]['dte'][0]\n",
    "    data = data[data['dte']==tte]\n",
    "\n",
    "    ##Integral\n",
    "    rt = (tte * r)/365\n",
    "    F = float(data['spot'].iloc[0])*np.exp(rt)\n",
    "    #Call Integral\n",
    "    calls = data[(data['strike']>=F)&(data['option_type']=='call')]\n",
    "    calls['dK'] = (calls['strike'].diff().fillna(0) + abs(calls['strike'].diff(-1).fillna(0)))/2\n",
    "\n",
    "    call_int =(calls['mark_price_usd']/(calls['strike'])**2) * calls['dK'] \n",
    "    call_int = sum(call_int)\n",
    "\n",
    "    #Put Integral\n",
    "    puts = data[(data['strike']<=F)&(data['option_type']=='put')]\n",
    "    puts['dK'] = (puts['strike'].diff().fillna(0) + abs(puts['strike'].diff(-1).fillna(0)))/2\n",
    "    put_int =(puts['mark_price_usd']/(puts['strike'])**2) * puts['dK'] \n",
    "    put_int = sum(put_int)\n",
    "\n",
    "    return 2*np.exp(rt)*(call_int+put_int)/tte\n",
    "\n"
   ]
  },
  {
   "cell_type": "code",
   "execution_count": 87,
   "metadata": {},
   "outputs": [
    {
     "data": {
      "text/plain": [
       "0.1707471718040425"
      ]
     },
     "execution_count": 87,
     "metadata": {},
     "output_type": "execute_result"
    }
   ],
   "source": [
    "derive_var_swap(eth_options,1,0.05)"
   ]
  },
  {
   "cell_type": "code",
   "execution_count": 88,
   "metadata": {},
   "outputs": [],
   "source": [
    "ivols = {}\n",
    "for tte in sorted(set(eth_options['dte'])):\n",
    "    ivols[tte]=np.sqrt((derive_var_swap(eth_options,tte,0.05)))"
   ]
  },
  {
   "cell_type": "code",
   "execution_count": 90,
   "metadata": {},
   "outputs": [
    {
     "data": {
      "text/plain": [
       "{1.0: 0.41321564806290006,\n",
       " 2.0: 0.12489030685235805,\n",
       " 15.0: 0.28616150539431845,\n",
       " 50.0: 0.13778558649952752,\n",
       " 78.0: 0.6471991179409989,\n",
       " 169.0: 0.4449417872244866,\n",
       " 260.0: 0.22528389242808544,\n",
       " 351.0: 0.10372974296113902}"
      ]
     },
     "execution_count": 90,
     "metadata": {},
     "output_type": "execute_result"
    }
   ],
   "source": [
    "ivols"
   ]
  },
  {
   "cell_type": "code",
   "execution_count": 92,
   "metadata": {},
   "outputs": [],
   "source": [
    "vswap = pd.DataFrame(ivols.values(),index = ivols.keys()).T\n",
    "vswap.index = [pd.datetime.today().strftime(\"%Y-%m-%d\")]"
   ]
  },
  {
   "cell_type": "code",
   "execution_count": 93,
   "metadata": {},
   "outputs": [
    {
     "data": {
      "text/html": [
       "<div>\n",
       "<style scoped>\n",
       "    .dataframe tbody tr th:only-of-type {\n",
       "        vertical-align: middle;\n",
       "    }\n",
       "\n",
       "    .dataframe tbody tr th {\n",
       "        vertical-align: top;\n",
       "    }\n",
       "\n",
       "    .dataframe thead th {\n",
       "        text-align: right;\n",
       "    }\n",
       "</style>\n",
       "<table border=\"1\" class=\"dataframe\">\n",
       "  <thead>\n",
       "    <tr style=\"text-align: right;\">\n",
       "      <th></th>\n",
       "      <th>1.0</th>\n",
       "      <th>2.0</th>\n",
       "      <th>15.0</th>\n",
       "      <th>50.0</th>\n",
       "      <th>78.0</th>\n",
       "      <th>169.0</th>\n",
       "      <th>260.0</th>\n",
       "      <th>351.0</th>\n",
       "    </tr>\n",
       "  </thead>\n",
       "  <tbody>\n",
       "    <tr>\n",
       "      <th>2024-04-10</th>\n",
       "      <td>0.413216</td>\n",
       "      <td>0.12489</td>\n",
       "      <td>0.286162</td>\n",
       "      <td>0.137786</td>\n",
       "      <td>0.647199</td>\n",
       "      <td>0.444942</td>\n",
       "      <td>0.225284</td>\n",
       "      <td>0.10373</td>\n",
       "    </tr>\n",
       "  </tbody>\n",
       "</table>\n",
       "</div>"
      ],
      "text/plain": [
       "               1.0      2.0       15.0      50.0      78.0      169.0  \\\n",
       "2024-04-10  0.413216  0.12489  0.286162  0.137786  0.647199  0.444942   \n",
       "\n",
       "               260.0    351.0  \n",
       "2024-04-10  0.225284  0.10373  "
      ]
     },
     "execution_count": 93,
     "metadata": {},
     "output_type": "execute_result"
    }
   ],
   "source": [
    "vswap"
   ]
  },
  {
   "cell_type": "code",
   "execution_count": 115,
   "metadata": {},
   "outputs": [],
   "source": [
    "indices = [float(t) for t in np.arange(0,366,5)]"
   ]
  },
  {
   "cell_type": "code",
   "execution_count": 120,
   "metadata": {},
   "outputs": [],
   "source": [
    "vswap = pd.concat([vswap.T,pd.DataFrame(index = indices)],axis=1).sort_index().interpolate().fillna(0).T"
   ]
  },
  {
   "cell_type": "code",
   "execution_count": 121,
   "metadata": {},
   "outputs": [
    {
     "data": {
      "text/html": [
       "<div>\n",
       "<style scoped>\n",
       "    .dataframe tbody tr th:only-of-type {\n",
       "        vertical-align: middle;\n",
       "    }\n",
       "\n",
       "    .dataframe tbody tr th {\n",
       "        vertical-align: top;\n",
       "    }\n",
       "\n",
       "    .dataframe thead th {\n",
       "        text-align: right;\n",
       "    }\n",
       "</style>\n",
       "<table border=\"1\" class=\"dataframe\">\n",
       "  <thead>\n",
       "    <tr style=\"text-align: right;\">\n",
       "      <th></th>\n",
       "      <th>0.0</th>\n",
       "      <th>1.0</th>\n",
       "      <th>2.0</th>\n",
       "      <th>5.0</th>\n",
       "      <th>10.0</th>\n",
       "      <th>15.0</th>\n",
       "      <th>20.0</th>\n",
       "      <th>25.0</th>\n",
       "      <th>30.0</th>\n",
       "      <th>35.0</th>\n",
       "      <th>...</th>\n",
       "      <th>325.0</th>\n",
       "      <th>330.0</th>\n",
       "      <th>335.0</th>\n",
       "      <th>340.0</th>\n",
       "      <th>345.0</th>\n",
       "      <th>350.0</th>\n",
       "      <th>351.0</th>\n",
       "      <th>355.0</th>\n",
       "      <th>360.0</th>\n",
       "      <th>365.0</th>\n",
       "    </tr>\n",
       "  </thead>\n",
       "  <tbody>\n",
       "    <tr>\n",
       "      <th>2024-04-10</th>\n",
       "      <td>0.0</td>\n",
       "      <td>0.413216</td>\n",
       "      <td>0.12489</td>\n",
       "      <td>0.178647</td>\n",
       "      <td>0.232404</td>\n",
       "      <td>0.286162</td>\n",
       "      <td>0.264965</td>\n",
       "      <td>0.243768</td>\n",
       "      <td>0.222572</td>\n",
       "      <td>0.201375</td>\n",
       "      <td>...</td>\n",
       "      <td>0.142115</td>\n",
       "      <td>0.135718</td>\n",
       "      <td>0.12932</td>\n",
       "      <td>0.122923</td>\n",
       "      <td>0.116525</td>\n",
       "      <td>0.110127</td>\n",
       "      <td>0.10373</td>\n",
       "      <td>0.10373</td>\n",
       "      <td>0.10373</td>\n",
       "      <td>0.10373</td>\n",
       "    </tr>\n",
       "  </tbody>\n",
       "</table>\n",
       "<p>1 rows × 79 columns</p>\n",
       "</div>"
      ],
      "text/plain": [
       "            0.0       1.0      2.0       5.0       10.0      15.0      20.0   \\\n",
       "2024-04-10    0.0  0.413216  0.12489  0.178647  0.232404  0.286162  0.264965   \n",
       "\n",
       "               25.0      30.0      35.0   ...     325.0     330.0    335.0  \\\n",
       "2024-04-10  0.243768  0.222572  0.201375  ...  0.142115  0.135718  0.12932   \n",
       "\n",
       "               340.0     345.0     350.0    351.0    355.0    360.0    365.0  \n",
       "2024-04-10  0.122923  0.116525  0.110127  0.10373  0.10373  0.10373  0.10373  \n",
       "\n",
       "[1 rows x 79 columns]"
      ]
     },
     "execution_count": 121,
     "metadata": {},
     "output_type": "execute_result"
    }
   ],
   "source": [
    "vswap"
   ]
  },
  {
   "cell_type": "code",
   "execution_count": 30,
   "metadata": {},
   "outputs": [
    {
     "data": {
      "text/plain": [
       "1.2302470992797685"
      ]
     },
     "execution_count": 30,
     "metadata": {},
     "output_type": "execute_result"
    }
   ],
   "source": [
    "derive_var_swap(eth_options,30,0.05)"
   ]
  },
  {
   "cell_type": "code",
   "execution_count": null,
   "metadata": {},
   "outputs": [],
   "source": []
  }
 ],
 "metadata": {
  "kernelspec": {
   "display_name": "base",
   "language": "python",
   "name": "python3"
  },
  "language_info": {
   "codemirror_mode": {
    "name": "ipython",
    "version": 3
   },
   "file_extension": ".py",
   "mimetype": "text/x-python",
   "name": "python",
   "nbconvert_exporter": "python",
   "pygments_lexer": "ipython3",
   "version": "3.10.9"
  }
 },
 "nbformat": 4,
 "nbformat_minor": 2
}
