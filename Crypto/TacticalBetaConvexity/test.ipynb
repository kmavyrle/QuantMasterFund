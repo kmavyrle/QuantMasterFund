{
 "cells": [
  {
   "cell_type": "code",
   "execution_count": 319,
   "metadata": {},
   "outputs": [
    {
     "name": "stdout",
     "output_type": "stream",
     "text": [
      "The autoreload extension is already loaded. To reload it, use:\n",
      "  %reload_ext autoreload\n"
     ]
    }
   ],
   "source": [
    "import asyncio\n",
    "import websockets\n",
    "import json\n",
    "import pandas as pd\n",
    "import datetime as dt\n",
    "import nest_asyncio\n",
    "from concurrent.futures import ThreadPoolExecutor\n",
    "nest_asyncio.apply()\n",
    "\n",
    "import csv\n",
    "from scipy import stats\n",
    "import os\n",
    "\n",
    "import datetime\n",
    "from pandas.io.json import json_normalize\n",
    "import numpy as np\n",
    "from scipy import interpolate\n",
    "import statsmodels.api as sm\n",
    "from scipy.stats import norm\n",
    "from scipy.stats import skewnorm\n",
    "import matplotlib.pyplot as plt\n",
    "\n",
    "from market_data import HistData\n",
    "from market_data import Options\n",
    "\n",
    "import warnings\n",
    "warnings.filterwarnings(\"ignore\")\n",
    "\n",
    "%load_ext autoreload\n",
    "%autoreload 2"
   ]
  },
  {
   "cell_type": "code",
   "execution_count": 359,
   "metadata": {},
   "outputs": [],
   "source": [
    "posn_path = os.path.join(os.getcwd(), \"performance_analytics\",\"positions.xlsx\")\n",
    "idx_path = os.path.join(os.getcwd(), \"performance_analytics\",\"eth_index.csv\")\n",
    "val_path = \"c:\\\\Users\\\\kmavy\\\\Documents\\\\mydocs\\\\Training Arc\\\\Github\\\\QuantMasterFund\\\\Crypto\\\\val.xlsx\""
   ]
  },
  {
   "cell_type": "code",
   "execution_count": 360,
   "metadata": {},
   "outputs": [],
   "source": [
    "hdata = HistData('ETH')\n",
    "start_dt = int(pd.to_datetime('20240101').timestamp()*1000)\n",
    "end_dt = int(pd.datetime.today().timestamp()*1000)\n",
    "eth_idx = hdata.get_hist_data(start_dt,end_dt,'ETH-PERPETUAL','1D')[['close']]\n",
    "eth_idx.index = [dt.strftime('%Y-%m-%d') for dt in eth_idx.index]\n",
    "eth_idx.index.names = ['Date']\n",
    "#eth_idx.to_csv(idx_path)"
   ]
  },
  {
   "cell_type": "code",
   "execution_count": 361,
   "metadata": {},
   "outputs": [],
   "source": [
    "eth_idx.to_csv(idx_path)"
   ]
  },
  {
   "cell_type": "code",
   "execution_count": 362,
   "metadata": {},
   "outputs": [
    {
     "data": {
      "text/html": [
       "<div>\n",
       "<style scoped>\n",
       "    .dataframe tbody tr th:only-of-type {\n",
       "        vertical-align: middle;\n",
       "    }\n",
       "\n",
       "    .dataframe tbody tr th {\n",
       "        vertical-align: top;\n",
       "    }\n",
       "\n",
       "    .dataframe thead th {\n",
       "        text-align: right;\n",
       "    }\n",
       "</style>\n",
       "<table border=\"1\" class=\"dataframe\">\n",
       "  <thead>\n",
       "    <tr style=\"text-align: right;\">\n",
       "      <th></th>\n",
       "      <th>close</th>\n",
       "    </tr>\n",
       "    <tr>\n",
       "      <th>Date</th>\n",
       "      <th></th>\n",
       "    </tr>\n",
       "  </thead>\n",
       "  <tbody>\n",
       "    <tr>\n",
       "      <th>2023-12-31</th>\n",
       "      <td>2285.40</td>\n",
       "    </tr>\n",
       "    <tr>\n",
       "      <th>2024-01-01</th>\n",
       "      <td>2391.15</td>\n",
       "    </tr>\n",
       "    <tr>\n",
       "      <th>2024-01-02</th>\n",
       "      <td>2363.35</td>\n",
       "    </tr>\n",
       "    <tr>\n",
       "      <th>2024-01-03</th>\n",
       "      <td>2224.55</td>\n",
       "    </tr>\n",
       "    <tr>\n",
       "      <th>2024-01-04</th>\n",
       "      <td>2255.15</td>\n",
       "    </tr>\n",
       "    <tr>\n",
       "      <th>...</th>\n",
       "      <td>...</td>\n",
       "    </tr>\n",
       "    <tr>\n",
       "      <th>2024-03-27</th>\n",
       "      <td>3572.75</td>\n",
       "    </tr>\n",
       "    <tr>\n",
       "      <th>2024-03-28</th>\n",
       "      <td>3519.35</td>\n",
       "    </tr>\n",
       "    <tr>\n",
       "      <th>2024-03-29</th>\n",
       "      <td>3492.80</td>\n",
       "    </tr>\n",
       "    <tr>\n",
       "      <th>2024-03-30</th>\n",
       "      <td>3623.50</td>\n",
       "    </tr>\n",
       "    <tr>\n",
       "      <th>2024-03-31</th>\n",
       "      <td>3624.20</td>\n",
       "    </tr>\n",
       "  </tbody>\n",
       "</table>\n",
       "<p>92 rows × 1 columns</p>\n",
       "</div>"
      ],
      "text/plain": [
       "              close\n",
       "Date               \n",
       "2023-12-31  2285.40\n",
       "2024-01-01  2391.15\n",
       "2024-01-02  2363.35\n",
       "2024-01-03  2224.55\n",
       "2024-01-04  2255.15\n",
       "...             ...\n",
       "2024-03-27  3572.75\n",
       "2024-03-28  3519.35\n",
       "2024-03-29  3492.80\n",
       "2024-03-30  3623.50\n",
       "2024-03-31  3624.20\n",
       "\n",
       "[92 rows x 1 columns]"
      ]
     },
     "execution_count": 362,
     "metadata": {},
     "output_type": "execute_result"
    }
   ],
   "source": [
    "eth_idx"
   ]
  },
  {
   "cell_type": "code",
   "execution_count": 676,
   "metadata": {},
   "outputs": [],
   "source": [
    "positions = pd.read_excel(posn_path,index_col = 0)\n",
    "idx_px = pd.read_csv(idx_path,index_col = 0)\n",
    "val = pd.read_excel(val_path,index_col = 0)"
   ]
  },
  {
   "cell_type": "code",
   "execution_count": 677,
   "metadata": {},
   "outputs": [],
   "source": [
    "idx_px.index= pd.to_datetime(idx_px.index)\n",
    "val.index = pd.to_datetime(val.index)"
   ]
  },
  {
   "cell_type": "code",
   "execution_count": 678,
   "metadata": {},
   "outputs": [],
   "source": [
    "indices = pd.date_range(start_dt,pd.datetime.today())\n",
    "#indices = [dt.strftime(\"%Y-%m-%d\") for dt in indices]\n",
    "skeleton = pd.DataFrame(index =indices ,columns = ['positions'])\n",
    "positions = positions.reindex_like(skeleton).fillna(method = 'ffill')\n",
    "positions2 = positions.copy()\n",
    "positions2.index = [dt.strftime(\"%Y-%m-%d\") for dt in indices]\n",
    "positions2.to_excel(posn_path)"
   ]
  },
  {
   "cell_type": "code",
   "execution_count": 679,
   "metadata": {},
   "outputs": [],
   "source": [
    "latest_val = val.iloc[-1][0]\n",
    "#dep = int(input())\n",
    "dep = latest_val\n",
    "latest_val = pd.DataFrame([dep],index = [pd.datetime.today().date()],columns = ['val'])"
   ]
  },
  {
   "cell_type": "code",
   "execution_count": 680,
   "metadata": {},
   "outputs": [],
   "source": [
    "start_dt = val.index[0]\n",
    "skeleton = pd.DataFrame(index = pd.date_range(start_dt,pd.datetime.today()),columns = ['val'])\n",
    "val = val.reindex_like(skeleton).fillna(method = 'ffill')\n",
    "val.to_excel(val_path)"
   ]
  },
  {
   "cell_type": "code",
   "execution_count": 681,
   "metadata": {},
   "outputs": [
    {
     "data": {
      "text/html": [
       "<div>\n",
       "<style scoped>\n",
       "    .dataframe tbody tr th:only-of-type {\n",
       "        vertical-align: middle;\n",
       "    }\n",
       "\n",
       "    .dataframe tbody tr th {\n",
       "        vertical-align: top;\n",
       "    }\n",
       "\n",
       "    .dataframe thead th {\n",
       "        text-align: right;\n",
       "    }\n",
       "</style>\n",
       "<table border=\"1\" class=\"dataframe\">\n",
       "  <thead>\n",
       "    <tr style=\"text-align: right;\">\n",
       "      <th></th>\n",
       "      <th>positions</th>\n",
       "    </tr>\n",
       "  </thead>\n",
       "  <tbody>\n",
       "    <tr>\n",
       "      <th>2024-01-01</th>\n",
       "      <td>0.80000</td>\n",
       "    </tr>\n",
       "    <tr>\n",
       "      <th>2024-01-02</th>\n",
       "      <td>0.80000</td>\n",
       "    </tr>\n",
       "    <tr>\n",
       "      <th>2024-01-03</th>\n",
       "      <td>0.80000</td>\n",
       "    </tr>\n",
       "    <tr>\n",
       "      <th>2024-01-04</th>\n",
       "      <td>0.80000</td>\n",
       "    </tr>\n",
       "    <tr>\n",
       "      <th>2024-01-05</th>\n",
       "      <td>0.80000</td>\n",
       "    </tr>\n",
       "    <tr>\n",
       "      <th>...</th>\n",
       "      <td>...</td>\n",
       "    </tr>\n",
       "    <tr>\n",
       "      <th>2024-03-28</th>\n",
       "      <td>0.83152</td>\n",
       "    </tr>\n",
       "    <tr>\n",
       "      <th>2024-03-29</th>\n",
       "      <td>0.83152</td>\n",
       "    </tr>\n",
       "    <tr>\n",
       "      <th>2024-03-30</th>\n",
       "      <td>0.83152</td>\n",
       "    </tr>\n",
       "    <tr>\n",
       "      <th>2024-03-31</th>\n",
       "      <td>0.83152</td>\n",
       "    </tr>\n",
       "    <tr>\n",
       "      <th>2024-04-01</th>\n",
       "      <td>0.83152</td>\n",
       "    </tr>\n",
       "  </tbody>\n",
       "</table>\n",
       "<p>92 rows × 1 columns</p>\n",
       "</div>"
      ],
      "text/plain": [
       "            positions\n",
       "2024-01-01    0.80000\n",
       "2024-01-02    0.80000\n",
       "2024-01-03    0.80000\n",
       "2024-01-04    0.80000\n",
       "2024-01-05    0.80000\n",
       "...               ...\n",
       "2024-03-28    0.83152\n",
       "2024-03-29    0.83152\n",
       "2024-03-30    0.83152\n",
       "2024-03-31    0.83152\n",
       "2024-04-01    0.83152\n",
       "\n",
       "[92 rows x 1 columns]"
      ]
     },
     "execution_count": 681,
     "metadata": {},
     "output_type": "execute_result"
    }
   ],
   "source": [
    "positions"
   ]
  },
  {
   "cell_type": "markdown",
   "metadata": {},
   "source": [
    "with open(val_path,'a',newline = '') as csvfile:\n",
    "    writer = csv.writer(csvfile)\n",
    "    for i in range(len(latest_val)):\n",
    "        temp = latest_val.reset_index()\n",
    "        row = temp.iloc[i].values\n",
    "        writer.writerow(row)\n",
    "csvfile.close()\n"
   ]
  },
  {
   "cell_type": "code",
   "execution_count": 682,
   "metadata": {},
   "outputs": [
    {
     "data": {
      "text/html": [
       "<div>\n",
       "<style scoped>\n",
       "    .dataframe tbody tr th:only-of-type {\n",
       "        vertical-align: middle;\n",
       "    }\n",
       "\n",
       "    .dataframe tbody tr th {\n",
       "        vertical-align: top;\n",
       "    }\n",
       "\n",
       "    .dataframe thead th {\n",
       "        text-align: right;\n",
       "    }\n",
       "</style>\n",
       "<table border=\"1\" class=\"dataframe\">\n",
       "  <thead>\n",
       "    <tr style=\"text-align: right;\">\n",
       "      <th></th>\n",
       "      <th>val</th>\n",
       "    </tr>\n",
       "  </thead>\n",
       "  <tbody>\n",
       "    <tr>\n",
       "      <th>2024-01-01</th>\n",
       "      <td>3000</td>\n",
       "    </tr>\n",
       "    <tr>\n",
       "      <th>2024-01-02</th>\n",
       "      <td>3000</td>\n",
       "    </tr>\n",
       "    <tr>\n",
       "      <th>2024-01-03</th>\n",
       "      <td>3000</td>\n",
       "    </tr>\n",
       "    <tr>\n",
       "      <th>2024-01-04</th>\n",
       "      <td>3000</td>\n",
       "    </tr>\n",
       "    <tr>\n",
       "      <th>2024-01-05</th>\n",
       "      <td>3000</td>\n",
       "    </tr>\n",
       "    <tr>\n",
       "      <th>...</th>\n",
       "      <td>...</td>\n",
       "    </tr>\n",
       "    <tr>\n",
       "      <th>2024-03-28</th>\n",
       "      <td>3000</td>\n",
       "    </tr>\n",
       "    <tr>\n",
       "      <th>2024-03-29</th>\n",
       "      <td>3000</td>\n",
       "    </tr>\n",
       "    <tr>\n",
       "      <th>2024-03-30</th>\n",
       "      <td>3000</td>\n",
       "    </tr>\n",
       "    <tr>\n",
       "      <th>2024-03-31</th>\n",
       "      <td>3000</td>\n",
       "    </tr>\n",
       "    <tr>\n",
       "      <th>2024-04-01</th>\n",
       "      <td>3000</td>\n",
       "    </tr>\n",
       "  </tbody>\n",
       "</table>\n",
       "<p>92 rows × 1 columns</p>\n",
       "</div>"
      ],
      "text/plain": [
       "             val\n",
       "2024-01-01  3000\n",
       "2024-01-02  3000\n",
       "2024-01-03  3000\n",
       "2024-01-04  3000\n",
       "2024-01-05  3000\n",
       "...          ...\n",
       "2024-03-28  3000\n",
       "2024-03-29  3000\n",
       "2024-03-30  3000\n",
       "2024-03-31  3000\n",
       "2024-04-01  3000\n",
       "\n",
       "[92 rows x 1 columns]"
      ]
     },
     "execution_count": 682,
     "metadata": {},
     "output_type": "execute_result"
    }
   ],
   "source": [
    "val = pd.read_excel(val_path,index_col = 0)\n",
    "val"
   ]
  },
  {
   "cell_type": "code",
   "execution_count": 683,
   "metadata": {},
   "outputs": [],
   "source": [
    "#idx_px.index = [dt.strftime('%Y/%d/%') for dt in pd.to_datetime(idx_px.index)]\n",
    "#positions.index = [dt.strftime('%Y-%d-%d') for dt in pd.to_datetime(positions.index)]\n",
    "\n",
    "idx_px.index.names,positions.index.names = ['Date'],['Date']"
   ]
  },
  {
   "cell_type": "code",
   "execution_count": 684,
   "metadata": {},
   "outputs": [],
   "source": [
    "usd_rets = positions.join(idx_px,on='Date',how = 'left')\n",
    "usd_rets['Tactical Beta Convexity'] = usd_rets['close'].diff()*usd_rets['positions']"
   ]
  },
  {
   "cell_type": "code",
   "execution_count": 685,
   "metadata": {},
   "outputs": [
    {
     "data": {
      "text/html": [
       "<div>\n",
       "<style scoped>\n",
       "    .dataframe tbody tr th:only-of-type {\n",
       "        vertical-align: middle;\n",
       "    }\n",
       "\n",
       "    .dataframe tbody tr th {\n",
       "        vertical-align: top;\n",
       "    }\n",
       "\n",
       "    .dataframe thead th {\n",
       "        text-align: right;\n",
       "    }\n",
       "</style>\n",
       "<table border=\"1\" class=\"dataframe\">\n",
       "  <thead>\n",
       "    <tr style=\"text-align: right;\">\n",
       "      <th></th>\n",
       "      <th>positions</th>\n",
       "      <th>close</th>\n",
       "      <th>Tactical Beta Convexity</th>\n",
       "    </tr>\n",
       "    <tr>\n",
       "      <th>Date</th>\n",
       "      <th></th>\n",
       "      <th></th>\n",
       "      <th></th>\n",
       "    </tr>\n",
       "  </thead>\n",
       "  <tbody>\n",
       "    <tr>\n",
       "      <th>2024-01-02</th>\n",
       "      <td>0.80000</td>\n",
       "      <td>2363.35</td>\n",
       "      <td>-22.240000</td>\n",
       "    </tr>\n",
       "    <tr>\n",
       "      <th>2024-01-03</th>\n",
       "      <td>0.80000</td>\n",
       "      <td>2224.55</td>\n",
       "      <td>-111.040000</td>\n",
       "    </tr>\n",
       "    <tr>\n",
       "      <th>2024-01-04</th>\n",
       "      <td>0.80000</td>\n",
       "      <td>2255.15</td>\n",
       "      <td>24.480000</td>\n",
       "    </tr>\n",
       "    <tr>\n",
       "      <th>2024-01-05</th>\n",
       "      <td>0.80000</td>\n",
       "      <td>2233.35</td>\n",
       "      <td>-17.440000</td>\n",
       "    </tr>\n",
       "    <tr>\n",
       "      <th>2024-01-06</th>\n",
       "      <td>0.80000</td>\n",
       "      <td>2250.25</td>\n",
       "      <td>13.520000</td>\n",
       "    </tr>\n",
       "    <tr>\n",
       "      <th>...</th>\n",
       "      <td>...</td>\n",
       "      <td>...</td>\n",
       "      <td>...</td>\n",
       "    </tr>\n",
       "    <tr>\n",
       "      <th>2024-03-27</th>\n",
       "      <td>0.83152</td>\n",
       "      <td>3572.75</td>\n",
       "      <td>2.827168</td>\n",
       "    </tr>\n",
       "    <tr>\n",
       "      <th>2024-03-28</th>\n",
       "      <td>0.83152</td>\n",
       "      <td>3519.35</td>\n",
       "      <td>-44.403168</td>\n",
       "    </tr>\n",
       "    <tr>\n",
       "      <th>2024-03-29</th>\n",
       "      <td>0.83152</td>\n",
       "      <td>3492.80</td>\n",
       "      <td>-22.076856</td>\n",
       "    </tr>\n",
       "    <tr>\n",
       "      <th>2024-03-30</th>\n",
       "      <td>0.83152</td>\n",
       "      <td>3623.50</td>\n",
       "      <td>108.679664</td>\n",
       "    </tr>\n",
       "    <tr>\n",
       "      <th>2024-03-31</th>\n",
       "      <td>0.83152</td>\n",
       "      <td>3624.20</td>\n",
       "      <td>0.582064</td>\n",
       "    </tr>\n",
       "  </tbody>\n",
       "</table>\n",
       "<p>90 rows × 3 columns</p>\n",
       "</div>"
      ],
      "text/plain": [
       "            positions    close  Tactical Beta Convexity\n",
       "Date                                                   \n",
       "2024-01-02    0.80000  2363.35               -22.240000\n",
       "2024-01-03    0.80000  2224.55              -111.040000\n",
       "2024-01-04    0.80000  2255.15                24.480000\n",
       "2024-01-05    0.80000  2233.35               -17.440000\n",
       "2024-01-06    0.80000  2250.25                13.520000\n",
       "...               ...      ...                      ...\n",
       "2024-03-27    0.83152  3572.75                 2.827168\n",
       "2024-03-28    0.83152  3519.35               -44.403168\n",
       "2024-03-29    0.83152  3492.80               -22.076856\n",
       "2024-03-30    0.83152  3623.50               108.679664\n",
       "2024-03-31    0.83152  3624.20                 0.582064\n",
       "\n",
       "[90 rows x 3 columns]"
      ]
     },
     "execution_count": 685,
     "metadata": {},
     "output_type": "execute_result"
    }
   ],
   "source": [
    "usd_rets = usd_rets.dropna()\n",
    "usd_rets.dropna()"
   ]
  },
  {
   "cell_type": "code",
   "execution_count": 686,
   "metadata": {},
   "outputs": [],
   "source": [
    "vol_float_pnl_path = \"c:\\\\Users\\\\kmavy\\\\Documents\\\\mydocs\\\\Training Arc\\\\Github\\\\QuantMasterFund\\\\Crypto\\\\Volatility\\\\ShortVolatility\\\\performance_analytics\\\\floating_rets.csv\"\n",
    "vol_rel_pnl_path = \"c:\\\\Users\\\\kmavy\\\\Documents\\\\mydocs\\\\Training Arc\\\\Github\\\\QuantMasterFund\\\\Crypto\\\\Volatility\\\\ShortVolatility\\\\performance_analytics\\\\realized_rets.csv\""
   ]
  },
  {
   "cell_type": "code",
   "execution_count": 687,
   "metadata": {},
   "outputs": [
    {
     "data": {
      "text/html": [
       "<div>\n",
       "<style scoped>\n",
       "    .dataframe tbody tr th:only-of-type {\n",
       "        vertical-align: middle;\n",
       "    }\n",
       "\n",
       "    .dataframe tbody tr th {\n",
       "        vertical-align: top;\n",
       "    }\n",
       "\n",
       "    .dataframe thead th {\n",
       "        text-align: right;\n",
       "    }\n",
       "</style>\n",
       "<table border=\"1\" class=\"dataframe\">\n",
       "  <thead>\n",
       "    <tr style=\"text-align: right;\">\n",
       "      <th></th>\n",
       "      <th>PnL</th>\n",
       "      <th>txn_cost</th>\n",
       "    </tr>\n",
       "    <tr>\n",
       "      <th>Date</th>\n",
       "      <th></th>\n",
       "      <th></th>\n",
       "    </tr>\n",
       "  </thead>\n",
       "  <tbody>\n",
       "    <tr>\n",
       "      <th>2024-02-26</th>\n",
       "      <td>-0.00018</td>\n",
       "      <td>0.003000</td>\n",
       "    </tr>\n",
       "    <tr>\n",
       "      <th>2024-02-27</th>\n",
       "      <td>-0.03128</td>\n",
       "      <td>0.004200</td>\n",
       "    </tr>\n",
       "    <tr>\n",
       "      <th>2024-03-05</th>\n",
       "      <td>0.11197</td>\n",
       "      <td>0.006000</td>\n",
       "    </tr>\n",
       "    <tr>\n",
       "      <th>2024-03-08</th>\n",
       "      <td>-0.05790</td>\n",
       "      <td>0.010263</td>\n",
       "    </tr>\n",
       "    <tr>\n",
       "      <th>2024-03-09</th>\n",
       "      <td>-0.01400</td>\n",
       "      <td>0.006000</td>\n",
       "    </tr>\n",
       "    <tr>\n",
       "      <th>2024-03-10</th>\n",
       "      <td>0.00450</td>\n",
       "      <td>0.001800</td>\n",
       "    </tr>\n",
       "    <tr>\n",
       "      <th>2024-03-17</th>\n",
       "      <td>-0.01790</td>\n",
       "      <td>0.013600</td>\n",
       "    </tr>\n",
       "    <tr>\n",
       "      <th>2024-03-22</th>\n",
       "      <td>0.02760</td>\n",
       "      <td>0.004800</td>\n",
       "    </tr>\n",
       "    <tr>\n",
       "      <th>2024-03-29</th>\n",
       "      <td>0.01750</td>\n",
       "      <td>0.001500</td>\n",
       "    </tr>\n",
       "  </tbody>\n",
       "</table>\n",
       "</div>"
      ],
      "text/plain": [
       "                PnL  txn_cost\n",
       "Date                         \n",
       "2024-02-26 -0.00018  0.003000\n",
       "2024-02-27 -0.03128  0.004200\n",
       "2024-03-05  0.11197  0.006000\n",
       "2024-03-08 -0.05790  0.010263\n",
       "2024-03-09 -0.01400  0.006000\n",
       "2024-03-10  0.00450  0.001800\n",
       "2024-03-17 -0.01790  0.013600\n",
       "2024-03-22  0.02760  0.004800\n",
       "2024-03-29  0.01750  0.001500"
      ]
     },
     "execution_count": 687,
     "metadata": {},
     "output_type": "execute_result"
    }
   ],
   "source": [
    "vol_float_rets = pd.read_csv(vol_float_pnl_path,index_col = 0)\n",
    "vol_rel_rets = pd.read_csv(vol_rel_pnl_path,index_col = 0)\n",
    "vol_rel_rets = vol_rel_rets.groupby(vol_rel_rets.index).sum()\n",
    "vol_rel_rets = vol_rel_rets[['PnL','txn_cost']]\n",
    "#vol_rel_rets = vol_rel_rets['PnL']-vol_rel_rets['txn_cost']\n",
    "vol_rel_rets"
   ]
  },
  {
   "cell_type": "code",
   "execution_count": 688,
   "metadata": {},
   "outputs": [],
   "source": [
    "\n",
    "#vol_float_rets.index = [dt.strftime('%Y-%m-%d') for dt in pd.to_datetime(vol_float_rets.index,format = \"%d/%m/%Y\")]\n",
    "#vol_rel_rets.index = [dt.strftime('%Y-%m-%d') for dt in pd.to_datetime(vol_rel_rets.index,format = \"%Y-%m-%d\")]"
   ]
  },
  {
   "cell_type": "code",
   "execution_count": 689,
   "metadata": {},
   "outputs": [],
   "source": [
    "vol_rets = pd.DataFrame(pd.concat([vol_float_rets,vol_rel_rets[['PnL']]],axis=1).sum(axis=1),columns = ['Short Volatility'])\n",
    "vol_rets = pd.concat([vol_rets,vol_rel_rets[['txn_cost']]],axis=1)\n",
    "vol_rets.columns  = ['Short Volatility','Txn Cost']\n",
    "vol_rets.fillna(0,inplace = True)"
   ]
  },
  {
   "cell_type": "code",
   "execution_count": 690,
   "metadata": {},
   "outputs": [],
   "source": [
    "curr_px = usd_rets['close'].iloc[-1]\n",
    "vol_rets = vol_rets*curr_px"
   ]
  },
  {
   "cell_type": "code",
   "execution_count": 691,
   "metadata": {},
   "outputs": [],
   "source": [
    "convexity = usd_rets[['Tactical Beta Convexity']]\n",
    "convexity.index = [dt.strftime('%Y-%m-%d') for dt in pd.to_datetime(convexity.index)]"
   ]
  },
  {
   "cell_type": "code",
   "execution_count": 692,
   "metadata": {},
   "outputs": [
    {
     "data": {
      "text/html": [
       "<div>\n",
       "<style scoped>\n",
       "    .dataframe tbody tr th:only-of-type {\n",
       "        vertical-align: middle;\n",
       "    }\n",
       "\n",
       "    .dataframe tbody tr th {\n",
       "        vertical-align: top;\n",
       "    }\n",
       "\n",
       "    .dataframe thead th {\n",
       "        text-align: right;\n",
       "    }\n",
       "</style>\n",
       "<table border=\"1\" class=\"dataframe\">\n",
       "  <thead>\n",
       "    <tr style=\"text-align: right;\">\n",
       "      <th></th>\n",
       "      <th>Tactical Beta Convexity</th>\n",
       "    </tr>\n",
       "  </thead>\n",
       "  <tbody>\n",
       "    <tr>\n",
       "      <th>2024-01-02</th>\n",
       "      <td>-22.240000</td>\n",
       "    </tr>\n",
       "    <tr>\n",
       "      <th>2024-01-03</th>\n",
       "      <td>-111.040000</td>\n",
       "    </tr>\n",
       "    <tr>\n",
       "      <th>2024-01-04</th>\n",
       "      <td>24.480000</td>\n",
       "    </tr>\n",
       "    <tr>\n",
       "      <th>2024-01-05</th>\n",
       "      <td>-17.440000</td>\n",
       "    </tr>\n",
       "    <tr>\n",
       "      <th>2024-01-06</th>\n",
       "      <td>13.520000</td>\n",
       "    </tr>\n",
       "    <tr>\n",
       "      <th>...</th>\n",
       "      <td>...</td>\n",
       "    </tr>\n",
       "    <tr>\n",
       "      <th>2024-03-27</th>\n",
       "      <td>2.827168</td>\n",
       "    </tr>\n",
       "    <tr>\n",
       "      <th>2024-03-28</th>\n",
       "      <td>-44.403168</td>\n",
       "    </tr>\n",
       "    <tr>\n",
       "      <th>2024-03-29</th>\n",
       "      <td>-22.076856</td>\n",
       "    </tr>\n",
       "    <tr>\n",
       "      <th>2024-03-30</th>\n",
       "      <td>108.679664</td>\n",
       "    </tr>\n",
       "    <tr>\n",
       "      <th>2024-03-31</th>\n",
       "      <td>0.582064</td>\n",
       "    </tr>\n",
       "  </tbody>\n",
       "</table>\n",
       "<p>90 rows × 1 columns</p>\n",
       "</div>"
      ],
      "text/plain": [
       "            Tactical Beta Convexity\n",
       "2024-01-02               -22.240000\n",
       "2024-01-03              -111.040000\n",
       "2024-01-04                24.480000\n",
       "2024-01-05               -17.440000\n",
       "2024-01-06                13.520000\n",
       "...                             ...\n",
       "2024-03-27                 2.827168\n",
       "2024-03-28               -44.403168\n",
       "2024-03-29               -22.076856\n",
       "2024-03-30               108.679664\n",
       "2024-03-31                 0.582064\n",
       "\n",
       "[90 rows x 1 columns]"
      ]
     },
     "execution_count": 692,
     "metadata": {},
     "output_type": "execute_result"
    }
   ],
   "source": [
    "convexity"
   ]
  },
  {
   "cell_type": "code",
   "execution_count": 693,
   "metadata": {},
   "outputs": [],
   "source": [
    "vol_rets.index = [dt.strftime('%Y-%m-%d') for dt in pd.to_datetime(vol_rets.index)]"
   ]
  },
  {
   "cell_type": "code",
   "execution_count": 694,
   "metadata": {},
   "outputs": [
    {
     "data": {
      "text/html": [
       "<div>\n",
       "<style scoped>\n",
       "    .dataframe tbody tr th:only-of-type {\n",
       "        vertical-align: middle;\n",
       "    }\n",
       "\n",
       "    .dataframe tbody tr th {\n",
       "        vertical-align: top;\n",
       "    }\n",
       "\n",
       "    .dataframe thead th {\n",
       "        text-align: right;\n",
       "    }\n",
       "</style>\n",
       "<table border=\"1\" class=\"dataframe\">\n",
       "  <thead>\n",
       "    <tr style=\"text-align: right;\">\n",
       "      <th></th>\n",
       "      <th>Tactical Beta Convexity</th>\n",
       "      <th>Short Volatility</th>\n",
       "      <th>Txn Cost</th>\n",
       "    </tr>\n",
       "  </thead>\n",
       "  <tbody>\n",
       "    <tr>\n",
       "      <th>2024-01-02</th>\n",
       "      <td>-22.240000</td>\n",
       "      <td>0.000000</td>\n",
       "      <td>0.0000</td>\n",
       "    </tr>\n",
       "    <tr>\n",
       "      <th>2024-01-03</th>\n",
       "      <td>-111.040000</td>\n",
       "      <td>0.000000</td>\n",
       "      <td>0.0000</td>\n",
       "    </tr>\n",
       "    <tr>\n",
       "      <th>2024-01-04</th>\n",
       "      <td>24.480000</td>\n",
       "      <td>0.000000</td>\n",
       "      <td>0.0000</td>\n",
       "    </tr>\n",
       "    <tr>\n",
       "      <th>2024-01-05</th>\n",
       "      <td>-17.440000</td>\n",
       "      <td>0.000000</td>\n",
       "      <td>0.0000</td>\n",
       "    </tr>\n",
       "    <tr>\n",
       "      <th>2024-01-06</th>\n",
       "      <td>13.520000</td>\n",
       "      <td>0.000000</td>\n",
       "      <td>0.0000</td>\n",
       "    </tr>\n",
       "    <tr>\n",
       "      <th>...</th>\n",
       "      <td>...</td>\n",
       "      <td>...</td>\n",
       "      <td>...</td>\n",
       "    </tr>\n",
       "    <tr>\n",
       "      <th>2024-03-28</th>\n",
       "      <td>-44.403168</td>\n",
       "      <td>5.797441</td>\n",
       "      <td>0.0000</td>\n",
       "    </tr>\n",
       "    <tr>\n",
       "      <th>2024-03-29</th>\n",
       "      <td>-22.076856</td>\n",
       "      <td>77.437027</td>\n",
       "      <td>5.4363</td>\n",
       "    </tr>\n",
       "    <tr>\n",
       "      <th>2024-03-30</th>\n",
       "      <td>108.679664</td>\n",
       "      <td>-49.529705</td>\n",
       "      <td>0.0000</td>\n",
       "    </tr>\n",
       "    <tr>\n",
       "      <th>2024-03-31</th>\n",
       "      <td>0.582064</td>\n",
       "      <td>7.248400</td>\n",
       "      <td>0.0000</td>\n",
       "    </tr>\n",
       "    <tr>\n",
       "      <th>2024-04-01</th>\n",
       "      <td>0.000000</td>\n",
       "      <td>-15.788160</td>\n",
       "      <td>0.0000</td>\n",
       "    </tr>\n",
       "  </tbody>\n",
       "</table>\n",
       "<p>91 rows × 3 columns</p>\n",
       "</div>"
      ],
      "text/plain": [
       "            Tactical Beta Convexity  Short Volatility  Txn Cost\n",
       "2024-01-02               -22.240000          0.000000    0.0000\n",
       "2024-01-03              -111.040000          0.000000    0.0000\n",
       "2024-01-04                24.480000          0.000000    0.0000\n",
       "2024-01-05               -17.440000          0.000000    0.0000\n",
       "2024-01-06                13.520000          0.000000    0.0000\n",
       "...                             ...               ...       ...\n",
       "2024-03-28               -44.403168          5.797441    0.0000\n",
       "2024-03-29               -22.076856         77.437027    5.4363\n",
       "2024-03-30               108.679664        -49.529705    0.0000\n",
       "2024-03-31                 0.582064          7.248400    0.0000\n",
       "2024-04-01                 0.000000        -15.788160    0.0000\n",
       "\n",
       "[91 rows x 3 columns]"
      ]
     },
     "execution_count": 694,
     "metadata": {},
     "output_type": "execute_result"
    }
   ],
   "source": [
    "usd_rets = pd.concat([convexity,vol_rets],axis=1).fillna(0)\n",
    "usd_rets"
   ]
  },
  {
   "cell_type": "code",
   "execution_count": 695,
   "metadata": {},
   "outputs": [],
   "source": [
    "\n",
    "usd_rets['Total (Cost Adjusted)'] = usd_rets['Tactical Beta Convexity']+usd_rets['Short Volatility']-usd_rets['Txn Cost']\n",
    "usd_rets.index.names = [\"Date\"]"
   ]
  },
  {
   "cell_type": "code",
   "execution_count": 696,
   "metadata": {},
   "outputs": [
    {
     "data": {
      "text/plain": [
       "<Axes: xlabel='Date'>"
      ]
     },
     "execution_count": 696,
     "metadata": {},
     "output_type": "execute_result"
    },
    {
     "data": {
      "image/png": "[encoded data removed]",
      "text/plain": [
       "<Figure size 640x480 with 1 Axes>"
      ]
     },
     "metadata": {},
     "output_type": "display_data"
    }
   ],
   "source": [
    "usd_rets.cumsum().plot()"
   ]
  },
  {
   "cell_type": "code",
   "execution_count": 697,
   "metadata": {},
   "outputs": [],
   "source": [
    "val.index = [dt.strftime(\"%Y-%m-%d\") for dt in pd.to_datetime(val.index)]\n",
    "vals = pd.concat([usd_rets,val],axis=1)['val']"
   ]
  },
  {
   "cell_type": "code",
   "execution_count": 698,
   "metadata": {},
   "outputs": [],
   "source": [
    "usd_rets = pd.concat([usd_rets.cumsum(),val],axis=1).dropna()"
   ]
  },
  {
   "cell_type": "code",
   "execution_count": 699,
   "metadata": {},
   "outputs": [],
   "source": [
    "for col in usd_rets.columns:\n",
    "    usd_rets[col]=usd_rets[col]+usd_rets['val']\n",
    "\n"
   ]
  },
  {
   "cell_type": "code",
   "execution_count": 700,
   "metadata": {},
   "outputs": [],
   "source": [
    "usd_rets.index = pd.to_datetime(usd_rets.index)"
   ]
  },
  {
   "cell_type": "code",
   "execution_count": 701,
   "metadata": {},
   "outputs": [],
   "source": [
    "usd_rets = usd_rets[['Total (Cost Adjusted)','Short Volatility','Tactical Beta Convexity','Txn Cost']]"
   ]
  },
  {
   "cell_type": "code",
   "execution_count": 702,
   "metadata": {},
   "outputs": [],
   "source": [
    "eth_idx.index = pd.to_datetime(eth_idx.index)"
   ]
  },
  {
   "cell_type": "code",
   "execution_count": 703,
   "metadata": {},
   "outputs": [],
   "source": [
    "usd_rets = pd.concat([usd_rets,eth_idx],axis=1).fillna(method = 'ffill')"
   ]
  },
  {
   "cell_type": "code",
   "execution_count": 704,
   "metadata": {},
   "outputs": [
    {
     "data": {
      "text/html": [
       "<div>\n",
       "<style scoped>\n",
       "    .dataframe tbody tr th:only-of-type {\n",
       "        vertical-align: middle;\n",
       "    }\n",
       "\n",
       "    .dataframe tbody tr th {\n",
       "        vertical-align: top;\n",
       "    }\n",
       "\n",
       "    .dataframe thead th {\n",
       "        text-align: right;\n",
       "    }\n",
       "</style>\n",
       "<table border=\"1\" class=\"dataframe\">\n",
       "  <thead>\n",
       "    <tr style=\"text-align: right;\">\n",
       "      <th></th>\n",
       "      <th>Total (Cost Adjusted)</th>\n",
       "      <th>Short Volatility</th>\n",
       "      <th>Tactical Beta Convexity</th>\n",
       "      <th>Txn Cost</th>\n",
       "      <th>close</th>\n",
       "    </tr>\n",
       "  </thead>\n",
       "  <tbody>\n",
       "    <tr>\n",
       "      <th>2023-12-31</th>\n",
       "      <td>NaN</td>\n",
       "      <td>NaN</td>\n",
       "      <td>NaN</td>\n",
       "      <td>NaN</td>\n",
       "      <td>2285.40</td>\n",
       "    </tr>\n",
       "    <tr>\n",
       "      <th>2024-01-01</th>\n",
       "      <td>NaN</td>\n",
       "      <td>NaN</td>\n",
       "      <td>NaN</td>\n",
       "      <td>NaN</td>\n",
       "      <td>2391.15</td>\n",
       "    </tr>\n",
       "    <tr>\n",
       "      <th>2024-01-02</th>\n",
       "      <td>2977.760000</td>\n",
       "      <td>3000.000000</td>\n",
       "      <td>2977.760000</td>\n",
       "      <td>3000.000000</td>\n",
       "      <td>2363.35</td>\n",
       "    </tr>\n",
       "    <tr>\n",
       "      <th>2024-01-03</th>\n",
       "      <td>2866.720000</td>\n",
       "      <td>3000.000000</td>\n",
       "      <td>2866.720000</td>\n",
       "      <td>3000.000000</td>\n",
       "      <td>2224.55</td>\n",
       "    </tr>\n",
       "    <tr>\n",
       "      <th>2024-01-04</th>\n",
       "      <td>2891.200000</td>\n",
       "      <td>3000.000000</td>\n",
       "      <td>2891.200000</td>\n",
       "      <td>3000.000000</td>\n",
       "      <td>2255.15</td>\n",
       "    </tr>\n",
       "    <tr>\n",
       "      <th>...</th>\n",
       "      <td>...</td>\n",
       "      <td>...</td>\n",
       "      <td>...</td>\n",
       "      <td>...</td>\n",
       "      <td>...</td>\n",
       "    </tr>\n",
       "    <tr>\n",
       "      <th>2024-03-28</th>\n",
       "      <td>4185.427579</td>\n",
       "      <td>3141.618195</td>\n",
       "      <td>4223.796216</td>\n",
       "      <td>3179.986832</td>\n",
       "      <td>3519.35</td>\n",
       "    </tr>\n",
       "    <tr>\n",
       "      <th>2024-03-29</th>\n",
       "      <td>4235.351450</td>\n",
       "      <td>3219.055223</td>\n",
       "      <td>4201.719360</td>\n",
       "      <td>3185.423132</td>\n",
       "      <td>3492.80</td>\n",
       "    </tr>\n",
       "    <tr>\n",
       "      <th>2024-03-30</th>\n",
       "      <td>4294.501409</td>\n",
       "      <td>3169.525518</td>\n",
       "      <td>4310.399024</td>\n",
       "      <td>3185.423132</td>\n",
       "      <td>3623.50</td>\n",
       "    </tr>\n",
       "    <tr>\n",
       "      <th>2024-03-31</th>\n",
       "      <td>4302.331873</td>\n",
       "      <td>3176.773918</td>\n",
       "      <td>4310.981088</td>\n",
       "      <td>3185.423132</td>\n",
       "      <td>3624.20</td>\n",
       "    </tr>\n",
       "    <tr>\n",
       "      <th>2024-04-01</th>\n",
       "      <td>4286.543713</td>\n",
       "      <td>3160.985757</td>\n",
       "      <td>4310.981088</td>\n",
       "      <td>3185.423132</td>\n",
       "      <td>3624.20</td>\n",
       "    </tr>\n",
       "  </tbody>\n",
       "</table>\n",
       "<p>93 rows × 5 columns</p>\n",
       "</div>"
      ],
      "text/plain": [
       "            Total (Cost Adjusted)  Short Volatility  Tactical Beta Convexity  \\\n",
       "2023-12-31                    NaN               NaN                      NaN   \n",
       "2024-01-01                    NaN               NaN                      NaN   \n",
       "2024-01-02            2977.760000       3000.000000              2977.760000   \n",
       "2024-01-03            2866.720000       3000.000000              2866.720000   \n",
       "2024-01-04            2891.200000       3000.000000              2891.200000   \n",
       "...                           ...               ...                      ...   \n",
       "2024-03-28            4185.427579       3141.618195              4223.796216   \n",
       "2024-03-29            4235.351450       3219.055223              4201.719360   \n",
       "2024-03-30            4294.501409       3169.525518              4310.399024   \n",
       "2024-03-31            4302.331873       3176.773918              4310.981088   \n",
       "2024-04-01            4286.543713       3160.985757              4310.981088   \n",
       "\n",
       "               Txn Cost    close  \n",
       "2023-12-31          NaN  2285.40  \n",
       "2024-01-01          NaN  2391.15  \n",
       "2024-01-02  3000.000000  2363.35  \n",
       "2024-01-03  3000.000000  2224.55  \n",
       "2024-01-04  3000.000000  2255.15  \n",
       "...                 ...      ...  \n",
       "2024-03-28  3179.986832  3519.35  \n",
       "2024-03-29  3185.423132  3492.80  \n",
       "2024-03-30  3185.423132  3623.50  \n",
       "2024-03-31  3185.423132  3624.20  \n",
       "2024-04-01  3185.423132  3624.20  \n",
       "\n",
       "[93 rows x 5 columns]"
      ]
     },
     "execution_count": 704,
     "metadata": {},
     "output_type": "execute_result"
    }
   ],
   "source": [
    "usd_rets"
   ]
  },
  {
   "cell_type": "code",
   "execution_count": 705,
   "metadata": {},
   "outputs": [],
   "source": [
    "usd_rets.columns = ['Total (Cost Adjusted)','Short Volatility','Tactical Beta Convexity','Cost','Index']"
   ]
  },
  {
   "cell_type": "code",
   "execution_count": 706,
   "metadata": {},
   "outputs": [],
   "source": [
    "usd_rets = usd_rets[['Total (Cost Adjusted)','Short Volatility','Tactical Beta Convexity','Index']]"
   ]
  },
  {
   "cell_type": "code",
   "execution_count": 707,
   "metadata": {},
   "outputs": [
    {
     "data": {
      "image/png": "[encoded data removed]",
      "text/plain": [
       "<Figure size 640x480 with 1 Axes>"
      ]
     },
     "metadata": {},
     "output_type": "display_data"
    }
   ],
   "source": [
    "plot = (((1+(usd_rets.pct_change()).fillna(0)).cumprod()-1)*100).plot(title = 'Cumulative Returns (%)',color = ['midnightblue','goldenrod','steelblue','lightgrey'])\n",
    "#(((1+eth_idx.pct_change()).cumprod()-1)*100).plot()\n",
    "plot.set_facecolor('aliceblue')\n",
    "picpath = \"c:\\\\Users\\\\kmavy\\\\Documents\\\\mydocs\\\\Training Arc\\\\Github\\\\QuantMasterFund\\\\Crypto\\\\MasterFundPerformance.png\"\n",
    "plot.get_figure().savefig(picpath)"
   ]
  },
  {
   "cell_type": "code",
   "execution_count": 708,
   "metadata": {},
   "outputs": [],
   "source": [
    "rets = usd_rets[['Total (Cost Adjusted)']].pct_change().fillna(0)"
   ]
  },
  {
   "cell_type": "code",
   "execution_count": 709,
   "metadata": {},
   "outputs": [
    {
     "data": {
      "text/plain": [
       "Total (Cost Adjusted)    2.158045\n",
       "dtype: float64"
      ]
     },
     "execution_count": 709,
     "metadata": {},
     "output_type": "execute_result"
    }
   ],
   "source": [
    "np.sqrt(252)* rets.mean()/rets.std()"
   ]
  },
  {
   "cell_type": "code",
   "execution_count": 710,
   "metadata": {},
   "outputs": [
    {
     "data": {
      "text/plain": [
       "<Axes: title={'center': 'Master Fund Expanding-Window Sharpe Ratio'}>"
      ]
     },
     "execution_count": 710,
     "metadata": {},
     "output_type": "execute_result"
    },
    {
     "data": {
      "image/png": "[encoded data removed]",
      "text/plain": [
       "<Figure size 640x480 with 1 Axes>"
      ]
     },
     "metadata": {},
     "output_type": "display_data"
    }
   ],
   "source": [
    "(np.sqrt(252)* (rets.expanding().mean()-0.053/350)/rets.expanding().std())[30:].plot(title = 'Master Fund Expanding-Window Sharpe Ratio')"
   ]
  },
  {
   "cell_type": "code",
   "execution_count": null,
   "metadata": {},
   "outputs": [],
   "source": []
  }
 ],
 "metadata": {
  "kernelspec": {
   "display_name": "base",
   "language": "python",
   "name": "python3"
  },
  "language_info": {
   "codemirror_mode": {
    "name": "ipython",
    "version": 3
   },
   "file_extension": ".py",
   "mimetype": "text/x-python",
   "name": "python",
   "nbconvert_exporter": "python",
   "pygments_lexer": "ipython3",
   "version": "3.10.9"
  }
 },
 "nbformat": 4,
 "nbformat_minor": 2
}
