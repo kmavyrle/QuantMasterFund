{
 "cells": [
  {
   "cell_type": "code",
   "execution_count": 253,
   "metadata": {},
   "outputs": [
    {
     "name": "stdout",
     "output_type": "stream",
     "text": [
      "The autoreload extension is already loaded. To reload it, use:\n",
      "  %reload_ext autoreload\n"
     ]
    }
   ],
   "source": [
    "import asyncio\n",
    "import websockets\n",
    "import json\n",
    "import pandas as pd\n",
    "#import datetime as dt\n",
    "import nest_asyncio\n",
    "from concurrent.futures import ThreadPoolExecutor\n",
    "nest_asyncio.apply()\n",
    "\n",
    "import csv\n",
    "from scipy import stats\n",
    "import os\n",
    "\n",
    "import datetime\n",
    "from pandas.io.json import json_normalize\n",
    "import numpy as np\n",
    "from scipy import interpolate\n",
    "import statsmodels.api as sm\n",
    "from scipy.stats import norm\n",
    "from scipy.stats import skewnorm\n",
    "import matplotlib.pyplot as plt\n",
    "\n",
    "from market_data import HistData\n",
    "from market_data import Options\n",
    "\n",
    "import warnings\n",
    "warnings.filterwarnings(\"ignore\")\n",
    "\n",
    "%load_ext autoreload\n",
    "%autoreload 2"
   ]
  },
  {
   "cell_type": "code",
   "execution_count": 254,
   "metadata": {},
   "outputs": [],
   "source": [
    "posn_path = os.path.join(os.getcwd(), \"performance_analytics\",\"positions.xlsx\")\n",
    "idx_path = os.path.join(os.getcwd(), \"performance_analytics\",\"eth_index.csv\")\n",
    "val_path = \"c:\\\\Users\\\\kmavy\\\\Documents\\\\mydocs\\\\Training Arc\\\\Github\\\\QuantMasterFund\\\\Crypto\\\\val.xlsx\""
   ]
  },
  {
   "cell_type": "code",
   "execution_count": 255,
   "metadata": {},
   "outputs": [],
   "source": [
    "hdata = HistData('ETH')\n",
    "start_dt = int(pd.to_datetime('20240101').timestamp()*1000)\n",
    "end_dt = int(pd.datetime.today().timestamp()*1000)\n",
    "eth_idx = hdata.get_hist_data(start_dt,end_dt,'ETH-PERPETUAL','1D')[['close']]\n",
    "eth_idx.index = [dt.strftime('%Y-%m-%d') for dt in eth_idx.index]\n",
    "eth_idx.index.names = ['Date']\n",
    "eth_idx.to_csv(idx_path)\n",
    "#eth_idx.to_csv(idx_path)"
   ]
  },
  {
   "cell_type": "code",
   "execution_count": 256,
   "metadata": {},
   "outputs": [],
   "source": [
    "positions = pd.read_excel(posn_path,index_col = 0)\n",
    "idx_px = pd.read_csv(idx_path,index_col = 0)\n",
    "val = pd.read_excel(val_path,index_col = 0)"
   ]
  },
  {
   "cell_type": "code",
   "execution_count": 257,
   "metadata": {},
   "outputs": [],
   "source": [
    "skeleton = pd.DataFrame()\n",
    "indices = pd.date_range(datetime.datetime.fromtimestamp(start_dt/1000),pd.datetime.today())\n",
    "indices = [dt.strftime(\"%Y-%m-%d\") for dt in indices]\n",
    "skeleton.index = indices"
   ]
  },
  {
   "cell_type": "code",
   "execution_count": 258,
   "metadata": {},
   "outputs": [],
   "source": [
    "positions = pd.concat([skeleton,positions],axis = 1).fillna(method = 'ffill')\n",
    "positions.to_excel(posn_path)"
   ]
  },
  {
   "cell_type": "code",
   "execution_count": 259,
   "metadata": {},
   "outputs": [],
   "source": [
    "latest_val = val.iloc[-1][0]\n",
    "#dep = int(input())\n",
    "dep = latest_val\n",
    "latest_val = pd.DataFrame([dep],index = [pd.datetime.today().date()],columns = ['val'])\n",
    "#latest_val"
   ]
  },
  {
   "cell_type": "code",
   "execution_count": 260,
   "metadata": {},
   "outputs": [],
   "source": [
    "start_dt = val.index[0]\n",
    "skeleton = pd.DataFrame(index = pd.date_range(start_dt,pd.datetime.today()),columns = ['val'])\n",
    "val = val.reindex_like(skeleton).fillna(method = 'ffill')\n",
    "val.to_excel(val_path)"
   ]
  },
  {
   "cell_type": "markdown",
   "metadata": {},
   "source": [
    "with open(val_path,'a',newline = '') as csvfile:\n",
    "    writer = csv.writer(csvfile)\n",
    "    for i in range(len(latest_val)):\n",
    "        temp = latest_val.reset_index()\n",
    "        row = temp.iloc[i].values\n",
    "        writer.writerow(row)\n",
    "csvfile.close()\n"
   ]
  },
  {
   "cell_type": "code",
   "execution_count": 261,
   "metadata": {},
   "outputs": [
    {
     "data": {
      "text/html": [
       "<div>\n",
       "<style scoped>\n",
       "    .dataframe tbody tr th:only-of-type {\n",
       "        vertical-align: middle;\n",
       "    }\n",
       "\n",
       "    .dataframe tbody tr th {\n",
       "        vertical-align: top;\n",
       "    }\n",
       "\n",
       "    .dataframe thead th {\n",
       "        text-align: right;\n",
       "    }\n",
       "</style>\n",
       "<table border=\"1\" class=\"dataframe\">\n",
       "  <thead>\n",
       "    <tr style=\"text-align: right;\">\n",
       "      <th></th>\n",
       "      <th>val</th>\n",
       "    </tr>\n",
       "  </thead>\n",
       "  <tbody>\n",
       "    <tr>\n",
       "      <th>2024-01-01</th>\n",
       "      <td>3000</td>\n",
       "    </tr>\n",
       "    <tr>\n",
       "      <th>2024-01-02</th>\n",
       "      <td>3000</td>\n",
       "    </tr>\n",
       "    <tr>\n",
       "      <th>2024-01-03</th>\n",
       "      <td>3000</td>\n",
       "    </tr>\n",
       "    <tr>\n",
       "      <th>2024-01-04</th>\n",
       "      <td>3000</td>\n",
       "    </tr>\n",
       "    <tr>\n",
       "      <th>2024-01-05</th>\n",
       "      <td>3000</td>\n",
       "    </tr>\n",
       "    <tr>\n",
       "      <th>...</th>\n",
       "      <td>...</td>\n",
       "    </tr>\n",
       "    <tr>\n",
       "      <th>2024-04-03</th>\n",
       "      <td>3000</td>\n",
       "    </tr>\n",
       "    <tr>\n",
       "      <th>2024-04-04</th>\n",
       "      <td>3000</td>\n",
       "    </tr>\n",
       "    <tr>\n",
       "      <th>2024-04-05</th>\n",
       "      <td>3000</td>\n",
       "    </tr>\n",
       "    <tr>\n",
       "      <th>2024-04-06</th>\n",
       "      <td>3000</td>\n",
       "    </tr>\n",
       "    <tr>\n",
       "      <th>2024-04-07</th>\n",
       "      <td>3000</td>\n",
       "    </tr>\n",
       "  </tbody>\n",
       "</table>\n",
       "<p>98 rows × 1 columns</p>\n",
       "</div>"
      ],
      "text/plain": [
       "             val\n",
       "2024-01-01  3000\n",
       "2024-01-02  3000\n",
       "2024-01-03  3000\n",
       "2024-01-04  3000\n",
       "2024-01-05  3000\n",
       "...          ...\n",
       "2024-04-03  3000\n",
       "2024-04-04  3000\n",
       "2024-04-05  3000\n",
       "2024-04-06  3000\n",
       "2024-04-07  3000\n",
       "\n",
       "[98 rows x 1 columns]"
      ]
     },
     "execution_count": 261,
     "metadata": {},
     "output_type": "execute_result"
    }
   ],
   "source": [
    "val = pd.read_excel(val_path,index_col = 0)\n",
    "val"
   ]
  },
  {
   "cell_type": "code",
   "execution_count": 262,
   "metadata": {},
   "outputs": [],
   "source": [
    "idx_px.index.names,positions.index.names = ['Date'],['Date']"
   ]
  },
  {
   "cell_type": "code",
   "execution_count": 263,
   "metadata": {},
   "outputs": [],
   "source": [
    "usd_rets = positions.join(idx_px,on='Date',how = 'left')\n",
    "usd_rets['Tactical Beta Convexity'] = usd_rets['close'].diff()*usd_rets['positions']"
   ]
  },
  {
   "cell_type": "code",
   "execution_count": 264,
   "metadata": {},
   "outputs": [
    {
     "data": {
      "text/html": [
       "<div>\n",
       "<style scoped>\n",
       "    .dataframe tbody tr th:only-of-type {\n",
       "        vertical-align: middle;\n",
       "    }\n",
       "\n",
       "    .dataframe tbody tr th {\n",
       "        vertical-align: top;\n",
       "    }\n",
       "\n",
       "    .dataframe thead th {\n",
       "        text-align: right;\n",
       "    }\n",
       "</style>\n",
       "<table border=\"1\" class=\"dataframe\">\n",
       "  <thead>\n",
       "    <tr style=\"text-align: right;\">\n",
       "      <th></th>\n",
       "      <th>positions</th>\n",
       "      <th>close</th>\n",
       "      <th>Tactical Beta Convexity</th>\n",
       "    </tr>\n",
       "    <tr>\n",
       "      <th>Date</th>\n",
       "      <th></th>\n",
       "      <th></th>\n",
       "      <th></th>\n",
       "    </tr>\n",
       "  </thead>\n",
       "  <tbody>\n",
       "    <tr>\n",
       "      <th>2024-01-02</th>\n",
       "      <td>0.80000</td>\n",
       "      <td>2363.35</td>\n",
       "      <td>-22.240000</td>\n",
       "    </tr>\n",
       "    <tr>\n",
       "      <th>2024-01-03</th>\n",
       "      <td>0.80000</td>\n",
       "      <td>2224.55</td>\n",
       "      <td>-111.040000</td>\n",
       "    </tr>\n",
       "    <tr>\n",
       "      <th>2024-01-04</th>\n",
       "      <td>0.80000</td>\n",
       "      <td>2255.15</td>\n",
       "      <td>24.480000</td>\n",
       "    </tr>\n",
       "    <tr>\n",
       "      <th>2024-01-05</th>\n",
       "      <td>0.80000</td>\n",
       "      <td>2233.35</td>\n",
       "      <td>-17.440000</td>\n",
       "    </tr>\n",
       "    <tr>\n",
       "      <th>2024-01-06</th>\n",
       "      <td>0.80000</td>\n",
       "      <td>2250.25</td>\n",
       "      <td>13.520000</td>\n",
       "    </tr>\n",
       "    <tr>\n",
       "      <th>...</th>\n",
       "      <td>...</td>\n",
       "      <td>...</td>\n",
       "      <td>...</td>\n",
       "    </tr>\n",
       "    <tr>\n",
       "      <th>2024-04-02</th>\n",
       "      <td>0.83152</td>\n",
       "      <td>3309.90</td>\n",
       "      <td>-55.462384</td>\n",
       "    </tr>\n",
       "    <tr>\n",
       "      <th>2024-04-03</th>\n",
       "      <td>0.83152</td>\n",
       "      <td>3321.05</td>\n",
       "      <td>9.271448</td>\n",
       "    </tr>\n",
       "    <tr>\n",
       "      <th>2024-04-04</th>\n",
       "      <td>0.83152</td>\n",
       "      <td>3285.95</td>\n",
       "      <td>-29.186352</td>\n",
       "    </tr>\n",
       "    <tr>\n",
       "      <th>2024-04-05</th>\n",
       "      <td>0.83152</td>\n",
       "      <td>3324.80</td>\n",
       "      <td>32.304552</td>\n",
       "    </tr>\n",
       "    <tr>\n",
       "      <th>2024-04-06</th>\n",
       "      <td>0.83152</td>\n",
       "      <td>3393.65</td>\n",
       "      <td>57.250152</td>\n",
       "    </tr>\n",
       "  </tbody>\n",
       "</table>\n",
       "<p>96 rows × 3 columns</p>\n",
       "</div>"
      ],
      "text/plain": [
       "            positions    close  Tactical Beta Convexity\n",
       "Date                                                   \n",
       "2024-01-02    0.80000  2363.35               -22.240000\n",
       "2024-01-03    0.80000  2224.55              -111.040000\n",
       "2024-01-04    0.80000  2255.15                24.480000\n",
       "2024-01-05    0.80000  2233.35               -17.440000\n",
       "2024-01-06    0.80000  2250.25                13.520000\n",
       "...               ...      ...                      ...\n",
       "2024-04-02    0.83152  3309.90               -55.462384\n",
       "2024-04-03    0.83152  3321.05                 9.271448\n",
       "2024-04-04    0.83152  3285.95               -29.186352\n",
       "2024-04-05    0.83152  3324.80                32.304552\n",
       "2024-04-06    0.83152  3393.65                57.250152\n",
       "\n",
       "[96 rows x 3 columns]"
      ]
     },
     "execution_count": 264,
     "metadata": {},
     "output_type": "execute_result"
    }
   ],
   "source": [
    "usd_rets = usd_rets.dropna()\n",
    "usd_rets.dropna()"
   ]
  },
  {
   "cell_type": "code",
   "execution_count": 265,
   "metadata": {},
   "outputs": [],
   "source": [
    "vol_float_pnl_path = \"c:\\\\Users\\\\kmavy\\\\Documents\\\\mydocs\\\\Training Arc\\\\Github\\\\QuantMasterFund\\\\Crypto\\\\Volatility\\\\ShortVolatility\\\\performance_analytics\\\\floating_rets.csv\"\n",
    "vol_rel_pnl_path = \"c:\\\\Users\\\\kmavy\\\\Documents\\\\mydocs\\\\Training Arc\\\\Github\\\\QuantMasterFund\\\\Crypto\\\\Volatility\\\\ShortVolatility\\\\performance_analytics\\\\realized_rets.csv\""
   ]
  },
  {
   "cell_type": "code",
   "execution_count": 266,
   "metadata": {},
   "outputs": [],
   "source": [
    "vol_float_rets = pd.read_csv(vol_float_pnl_path,index_col = 0)\n",
    "vol_rel_rets = pd.read_csv(vol_rel_pnl_path,index_col = 0)\n",
    "vol_rel_rets = vol_rel_rets.groupby(vol_rel_rets.index).sum()\n",
    "vol_rel_rets = vol_rel_rets[['PnL','txn_cost']]\n",
    "#vol_rel_rets = vol_rel_rets['PnL']-vol_rel_rets['txn_cost']"
   ]
  },
  {
   "cell_type": "code",
   "execution_count": 267,
   "metadata": {},
   "outputs": [],
   "source": [
    "\n",
    "#vol_float_rets.index = [dt.strftime('%Y-%m-%d') for dt in pd.to_datetime(vol_float_rets.index,format = \"%d/%m/%Y\")]\n",
    "#vol_rel_rets.index = [dt.strftime('%Y-%m-%d') for dt in pd.to_datetime(vol_rel_rets.index,format = \"%Y-%m-%d\")]"
   ]
  },
  {
   "cell_type": "code",
   "execution_count": 268,
   "metadata": {},
   "outputs": [],
   "source": [
    "vol_rets = pd.DataFrame(pd.concat([vol_float_rets,vol_rel_rets[['PnL']]],axis=1).sum(axis=1),columns = ['Short Volatility'])\n",
    "vol_rets = pd.concat([vol_rets,vol_rel_rets[['txn_cost']]],axis=1)\n",
    "vol_rets.columns  = ['Short Volatility','Txn Cost']\n",
    "vol_rets.fillna(0,inplace = True)"
   ]
  },
  {
   "cell_type": "code",
   "execution_count": 269,
   "metadata": {},
   "outputs": [],
   "source": [
    "curr_px = usd_rets['close'].iloc[-1]\n",
    "vol_rets = vol_rets*curr_px"
   ]
  },
  {
   "cell_type": "code",
   "execution_count": 270,
   "metadata": {},
   "outputs": [],
   "source": [
    "convexity = usd_rets[['Tactical Beta Convexity']]\n",
    "convexity.index = [dt.strftime('%Y-%m-%d') for dt in pd.to_datetime(convexity.index)]"
   ]
  },
  {
   "cell_type": "code",
   "execution_count": 271,
   "metadata": {},
   "outputs": [
    {
     "data": {
      "text/html": [
       "<div>\n",
       "<style scoped>\n",
       "    .dataframe tbody tr th:only-of-type {\n",
       "        vertical-align: middle;\n",
       "    }\n",
       "\n",
       "    .dataframe tbody tr th {\n",
       "        vertical-align: top;\n",
       "    }\n",
       "\n",
       "    .dataframe thead th {\n",
       "        text-align: right;\n",
       "    }\n",
       "</style>\n",
       "<table border=\"1\" class=\"dataframe\">\n",
       "  <thead>\n",
       "    <tr style=\"text-align: right;\">\n",
       "      <th></th>\n",
       "      <th>Short Volatility</th>\n",
       "      <th>Txn Cost</th>\n",
       "    </tr>\n",
       "    <tr>\n",
       "      <th>Date</th>\n",
       "      <th></th>\n",
       "      <th></th>\n",
       "    </tr>\n",
       "  </thead>\n",
       "  <tbody>\n",
       "    <tr>\n",
       "      <th>2024-02-01</th>\n",
       "      <td>0.000000</td>\n",
       "      <td>0.0</td>\n",
       "    </tr>\n",
       "    <tr>\n",
       "      <th>2024-02-02</th>\n",
       "      <td>0.000000</td>\n",
       "      <td>0.0</td>\n",
       "    </tr>\n",
       "    <tr>\n",
       "      <th>2024-02-03</th>\n",
       "      <td>0.000000</td>\n",
       "      <td>0.0</td>\n",
       "    </tr>\n",
       "    <tr>\n",
       "      <th>2024-02-04</th>\n",
       "      <td>0.000000</td>\n",
       "      <td>0.0</td>\n",
       "    </tr>\n",
       "    <tr>\n",
       "      <th>2024-02-05</th>\n",
       "      <td>0.000000</td>\n",
       "      <td>0.0</td>\n",
       "    </tr>\n",
       "    <tr>\n",
       "      <th>...</th>\n",
       "      <td>...</td>\n",
       "      <td>...</td>\n",
       "    </tr>\n",
       "    <tr>\n",
       "      <th>2024-04-03</th>\n",
       "      <td>-26.887441</td>\n",
       "      <td>0.0</td>\n",
       "    </tr>\n",
       "    <tr>\n",
       "      <th>2024-04-04</th>\n",
       "      <td>39.669776</td>\n",
       "      <td>0.0</td>\n",
       "    </tr>\n",
       "    <tr>\n",
       "      <th>2024-04-05</th>\n",
       "      <td>0.000000</td>\n",
       "      <td>0.0</td>\n",
       "    </tr>\n",
       "    <tr>\n",
       "      <th>2024-04-06</th>\n",
       "      <td>49.557047</td>\n",
       "      <td>0.0</td>\n",
       "    </tr>\n",
       "    <tr>\n",
       "      <th>2024-04-07</th>\n",
       "      <td>19.692567</td>\n",
       "      <td>0.0</td>\n",
       "    </tr>\n",
       "  </tbody>\n",
       "</table>\n",
       "<p>67 rows × 2 columns</p>\n",
       "</div>"
      ],
      "text/plain": [
       "            Short Volatility  Txn Cost\n",
       "Date                                  \n",
       "2024-02-01          0.000000       0.0\n",
       "2024-02-02          0.000000       0.0\n",
       "2024-02-03          0.000000       0.0\n",
       "2024-02-04          0.000000       0.0\n",
       "2024-02-05          0.000000       0.0\n",
       "...                      ...       ...\n",
       "2024-04-03        -26.887441       0.0\n",
       "2024-04-04         39.669776       0.0\n",
       "2024-04-05          0.000000       0.0\n",
       "2024-04-06         49.557047       0.0\n",
       "2024-04-07         19.692567       0.0\n",
       "\n",
       "[67 rows x 2 columns]"
      ]
     },
     "execution_count": 271,
     "metadata": {},
     "output_type": "execute_result"
    }
   ],
   "source": [
    "vol_rets"
   ]
  },
  {
   "cell_type": "code",
   "execution_count": 272,
   "metadata": {},
   "outputs": [],
   "source": [
    "vol_rets.index = [dt.strftime('%Y-%m-%d') for dt in pd.to_datetime(vol_rets.index)]"
   ]
  },
  {
   "cell_type": "code",
   "execution_count": 273,
   "metadata": {},
   "outputs": [
    {
     "data": {
      "text/html": [
       "<div>\n",
       "<style scoped>\n",
       "    .dataframe tbody tr th:only-of-type {\n",
       "        vertical-align: middle;\n",
       "    }\n",
       "\n",
       "    .dataframe tbody tr th {\n",
       "        vertical-align: top;\n",
       "    }\n",
       "\n",
       "    .dataframe thead th {\n",
       "        text-align: right;\n",
       "    }\n",
       "</style>\n",
       "<table border=\"1\" class=\"dataframe\">\n",
       "  <thead>\n",
       "    <tr style=\"text-align: right;\">\n",
       "      <th></th>\n",
       "      <th>Short Volatility</th>\n",
       "      <th>Txn Cost</th>\n",
       "    </tr>\n",
       "  </thead>\n",
       "  <tbody>\n",
       "    <tr>\n",
       "      <th>2024-02-01</th>\n",
       "      <td>0.000000</td>\n",
       "      <td>0.0</td>\n",
       "    </tr>\n",
       "    <tr>\n",
       "      <th>2024-02-02</th>\n",
       "      <td>0.000000</td>\n",
       "      <td>0.0</td>\n",
       "    </tr>\n",
       "    <tr>\n",
       "      <th>2024-02-03</th>\n",
       "      <td>0.000000</td>\n",
       "      <td>0.0</td>\n",
       "    </tr>\n",
       "    <tr>\n",
       "      <th>2024-02-04</th>\n",
       "      <td>0.000000</td>\n",
       "      <td>0.0</td>\n",
       "    </tr>\n",
       "    <tr>\n",
       "      <th>2024-02-05</th>\n",
       "      <td>0.000000</td>\n",
       "      <td>0.0</td>\n",
       "    </tr>\n",
       "    <tr>\n",
       "      <th>...</th>\n",
       "      <td>...</td>\n",
       "      <td>...</td>\n",
       "    </tr>\n",
       "    <tr>\n",
       "      <th>2024-04-03</th>\n",
       "      <td>-26.887441</td>\n",
       "      <td>0.0</td>\n",
       "    </tr>\n",
       "    <tr>\n",
       "      <th>2024-04-04</th>\n",
       "      <td>39.669776</td>\n",
       "      <td>0.0</td>\n",
       "    </tr>\n",
       "    <tr>\n",
       "      <th>2024-04-05</th>\n",
       "      <td>0.000000</td>\n",
       "      <td>0.0</td>\n",
       "    </tr>\n",
       "    <tr>\n",
       "      <th>2024-04-06</th>\n",
       "      <td>49.557047</td>\n",
       "      <td>0.0</td>\n",
       "    </tr>\n",
       "    <tr>\n",
       "      <th>2024-04-07</th>\n",
       "      <td>19.692567</td>\n",
       "      <td>0.0</td>\n",
       "    </tr>\n",
       "  </tbody>\n",
       "</table>\n",
       "<p>67 rows × 2 columns</p>\n",
       "</div>"
      ],
      "text/plain": [
       "            Short Volatility  Txn Cost\n",
       "2024-02-01          0.000000       0.0\n",
       "2024-02-02          0.000000       0.0\n",
       "2024-02-03          0.000000       0.0\n",
       "2024-02-04          0.000000       0.0\n",
       "2024-02-05          0.000000       0.0\n",
       "...                      ...       ...\n",
       "2024-04-03        -26.887441       0.0\n",
       "2024-04-04         39.669776       0.0\n",
       "2024-04-05          0.000000       0.0\n",
       "2024-04-06         49.557047       0.0\n",
       "2024-04-07         19.692567       0.0\n",
       "\n",
       "[67 rows x 2 columns]"
      ]
     },
     "execution_count": 273,
     "metadata": {},
     "output_type": "execute_result"
    }
   ],
   "source": [
    "vol_rets"
   ]
  },
  {
   "cell_type": "code",
   "execution_count": 274,
   "metadata": {},
   "outputs": [
    {
     "data": {
      "text/html": [
       "<div>\n",
       "<style scoped>\n",
       "    .dataframe tbody tr th:only-of-type {\n",
       "        vertical-align: middle;\n",
       "    }\n",
       "\n",
       "    .dataframe tbody tr th {\n",
       "        vertical-align: top;\n",
       "    }\n",
       "\n",
       "    .dataframe thead th {\n",
       "        text-align: right;\n",
       "    }\n",
       "</style>\n",
       "<table border=\"1\" class=\"dataframe\">\n",
       "  <thead>\n",
       "    <tr style=\"text-align: right;\">\n",
       "      <th></th>\n",
       "      <th>Tactical Beta Convexity</th>\n",
       "      <th>Short Volatility</th>\n",
       "      <th>Txn Cost</th>\n",
       "    </tr>\n",
       "  </thead>\n",
       "  <tbody>\n",
       "    <tr>\n",
       "      <th>2024-01-02</th>\n",
       "      <td>-22.240000</td>\n",
       "      <td>0.000000</td>\n",
       "      <td>0.0</td>\n",
       "    </tr>\n",
       "    <tr>\n",
       "      <th>2024-01-03</th>\n",
       "      <td>-111.040000</td>\n",
       "      <td>0.000000</td>\n",
       "      <td>0.0</td>\n",
       "    </tr>\n",
       "    <tr>\n",
       "      <th>2024-01-04</th>\n",
       "      <td>24.480000</td>\n",
       "      <td>0.000000</td>\n",
       "      <td>0.0</td>\n",
       "    </tr>\n",
       "    <tr>\n",
       "      <th>2024-01-05</th>\n",
       "      <td>-17.440000</td>\n",
       "      <td>0.000000</td>\n",
       "      <td>0.0</td>\n",
       "    </tr>\n",
       "    <tr>\n",
       "      <th>2024-01-06</th>\n",
       "      <td>13.520000</td>\n",
       "      <td>0.000000</td>\n",
       "      <td>0.0</td>\n",
       "    </tr>\n",
       "    <tr>\n",
       "      <th>...</th>\n",
       "      <td>...</td>\n",
       "      <td>...</td>\n",
       "      <td>...</td>\n",
       "    </tr>\n",
       "    <tr>\n",
       "      <th>2024-04-03</th>\n",
       "      <td>9.271448</td>\n",
       "      <td>-26.887441</td>\n",
       "      <td>0.0</td>\n",
       "    </tr>\n",
       "    <tr>\n",
       "      <th>2024-04-04</th>\n",
       "      <td>-29.186352</td>\n",
       "      <td>39.669776</td>\n",
       "      <td>0.0</td>\n",
       "    </tr>\n",
       "    <tr>\n",
       "      <th>2024-04-05</th>\n",
       "      <td>32.304552</td>\n",
       "      <td>0.000000</td>\n",
       "      <td>0.0</td>\n",
       "    </tr>\n",
       "    <tr>\n",
       "      <th>2024-04-06</th>\n",
       "      <td>57.250152</td>\n",
       "      <td>49.557047</td>\n",
       "      <td>0.0</td>\n",
       "    </tr>\n",
       "    <tr>\n",
       "      <th>2024-04-07</th>\n",
       "      <td>0.000000</td>\n",
       "      <td>19.692567</td>\n",
       "      <td>0.0</td>\n",
       "    </tr>\n",
       "  </tbody>\n",
       "</table>\n",
       "<p>97 rows × 3 columns</p>\n",
       "</div>"
      ],
      "text/plain": [
       "            Tactical Beta Convexity  Short Volatility  Txn Cost\n",
       "2024-01-02               -22.240000          0.000000       0.0\n",
       "2024-01-03              -111.040000          0.000000       0.0\n",
       "2024-01-04                24.480000          0.000000       0.0\n",
       "2024-01-05               -17.440000          0.000000       0.0\n",
       "2024-01-06                13.520000          0.000000       0.0\n",
       "...                             ...               ...       ...\n",
       "2024-04-03                 9.271448        -26.887441       0.0\n",
       "2024-04-04               -29.186352         39.669776       0.0\n",
       "2024-04-05                32.304552          0.000000       0.0\n",
       "2024-04-06                57.250152         49.557047       0.0\n",
       "2024-04-07                 0.000000         19.692567       0.0\n",
       "\n",
       "[97 rows x 3 columns]"
      ]
     },
     "execution_count": 274,
     "metadata": {},
     "output_type": "execute_result"
    }
   ],
   "source": [
    "usd_rets = pd.concat([convexity,vol_rets],axis=1).fillna(0)\n",
    "usd_rets"
   ]
  },
  {
   "cell_type": "code",
   "execution_count": 275,
   "metadata": {},
   "outputs": [],
   "source": [
    "\n",
    "usd_rets['Total (Cost Adjusted)'] = usd_rets['Tactical Beta Convexity']+usd_rets['Short Volatility']-usd_rets['Txn Cost']\n",
    "usd_rets.index.names = [\"Date\"]"
   ]
  },
  {
   "cell_type": "code",
   "execution_count": 276,
   "metadata": {},
   "outputs": [
    {
     "data": {
      "text/plain": [
       "<Axes: xlabel='Date'>"
      ]
     },
     "execution_count": 276,
     "metadata": {},
     "output_type": "execute_result"
    },
    {
     "data": {
      "image/png": "[encoded data removed]",
      "text/plain": [
       "<Figure size 640x480 with 1 Axes>"
      ]
     },
     "metadata": {},
     "output_type": "display_data"
    }
   ],
   "source": [
    "usd_rets.cumsum().plot()"
   ]
  },
  {
   "cell_type": "code",
   "execution_count": 277,
   "metadata": {},
   "outputs": [],
   "source": [
    "val.index = [dt.strftime(\"%Y-%m-%d\") for dt in pd.to_datetime(val.index)]\n",
    "vals = pd.concat([usd_rets,val],axis=1)['val']"
   ]
  },
  {
   "cell_type": "code",
   "execution_count": 278,
   "metadata": {},
   "outputs": [],
   "source": [
    "usd_rets = pd.concat([usd_rets.cumsum(),val],axis=1).dropna()"
   ]
  },
  {
   "cell_type": "code",
   "execution_count": 279,
   "metadata": {},
   "outputs": [],
   "source": [
    "for col in usd_rets.columns:\n",
    "    usd_rets[col]=usd_rets[col]+usd_rets['val']\n",
    "\n"
   ]
  },
  {
   "cell_type": "code",
   "execution_count": 280,
   "metadata": {},
   "outputs": [],
   "source": [
    "usd_rets.index = pd.to_datetime(usd_rets.index)"
   ]
  },
  {
   "cell_type": "code",
   "execution_count": 281,
   "metadata": {},
   "outputs": [],
   "source": [
    "usd_rets = usd_rets[['Total (Cost Adjusted)','Short Volatility','Tactical Beta Convexity','Txn Cost']]"
   ]
  },
  {
   "cell_type": "code",
   "execution_count": 282,
   "metadata": {},
   "outputs": [],
   "source": [
    "eth_idx.index = pd.to_datetime(eth_idx.index)"
   ]
  },
  {
   "cell_type": "code",
   "execution_count": 283,
   "metadata": {},
   "outputs": [],
   "source": [
    "usd_rets = pd.concat([usd_rets,eth_idx],axis=1).fillna(method = 'ffill')"
   ]
  },
  {
   "cell_type": "code",
   "execution_count": 284,
   "metadata": {},
   "outputs": [
    {
     "data": {
      "text/html": [
       "<div>\n",
       "<style scoped>\n",
       "    .dataframe tbody tr th:only-of-type {\n",
       "        vertical-align: middle;\n",
       "    }\n",
       "\n",
       "    .dataframe tbody tr th {\n",
       "        vertical-align: top;\n",
       "    }\n",
       "\n",
       "    .dataframe thead th {\n",
       "        text-align: right;\n",
       "    }\n",
       "</style>\n",
       "<table border=\"1\" class=\"dataframe\">\n",
       "  <thead>\n",
       "    <tr style=\"text-align: right;\">\n",
       "      <th></th>\n",
       "      <th>Total (Cost Adjusted)</th>\n",
       "      <th>Short Volatility</th>\n",
       "      <th>Tactical Beta Convexity</th>\n",
       "      <th>Txn Cost</th>\n",
       "      <th>close</th>\n",
       "    </tr>\n",
       "  </thead>\n",
       "  <tbody>\n",
       "    <tr>\n",
       "      <th>2023-12-31</th>\n",
       "      <td>NaN</td>\n",
       "      <td>NaN</td>\n",
       "      <td>NaN</td>\n",
       "      <td>NaN</td>\n",
       "      <td>2285.40</td>\n",
       "    </tr>\n",
       "    <tr>\n",
       "      <th>2024-01-01</th>\n",
       "      <td>NaN</td>\n",
       "      <td>NaN</td>\n",
       "      <td>NaN</td>\n",
       "      <td>NaN</td>\n",
       "      <td>2391.15</td>\n",
       "    </tr>\n",
       "    <tr>\n",
       "      <th>2024-01-02</th>\n",
       "      <td>2977.760000</td>\n",
       "      <td>3000.000000</td>\n",
       "      <td>2977.760000</td>\n",
       "      <td>3000.000000</td>\n",
       "      <td>2363.35</td>\n",
       "    </tr>\n",
       "    <tr>\n",
       "      <th>2024-01-03</th>\n",
       "      <td>2866.720000</td>\n",
       "      <td>3000.000000</td>\n",
       "      <td>2866.720000</td>\n",
       "      <td>3000.000000</td>\n",
       "      <td>2224.55</td>\n",
       "    </tr>\n",
       "    <tr>\n",
       "      <th>2024-01-04</th>\n",
       "      <td>2891.200000</td>\n",
       "      <td>3000.000000</td>\n",
       "      <td>2891.200000</td>\n",
       "      <td>3000.000000</td>\n",
       "      <td>2255.15</td>\n",
       "    </tr>\n",
       "    <tr>\n",
       "      <th>...</th>\n",
       "      <td>...</td>\n",
       "      <td>...</td>\n",
       "      <td>...</td>\n",
       "      <td>...</td>\n",
       "      <td>...</td>\n",
       "    </tr>\n",
       "    <tr>\n",
       "      <th>2024-04-03</th>\n",
       "      <td>4048.000754</td>\n",
       "      <td>3162.722572</td>\n",
       "      <td>4058.905800</td>\n",
       "      <td>3173.627618</td>\n",
       "      <td>3321.05</td>\n",
       "    </tr>\n",
       "    <tr>\n",
       "      <th>2024-04-04</th>\n",
       "      <td>4058.484178</td>\n",
       "      <td>3202.392348</td>\n",
       "      <td>4029.719448</td>\n",
       "      <td>3173.627618</td>\n",
       "      <td>3285.95</td>\n",
       "    </tr>\n",
       "    <tr>\n",
       "      <th>2024-04-05</th>\n",
       "      <td>4090.788730</td>\n",
       "      <td>3202.392348</td>\n",
       "      <td>4062.024000</td>\n",
       "      <td>3173.627618</td>\n",
       "      <td>3324.80</td>\n",
       "    </tr>\n",
       "    <tr>\n",
       "      <th>2024-04-06</th>\n",
       "      <td>4197.595929</td>\n",
       "      <td>3251.949395</td>\n",
       "      <td>4119.274152</td>\n",
       "      <td>3173.627618</td>\n",
       "      <td>3393.65</td>\n",
       "    </tr>\n",
       "    <tr>\n",
       "      <th>2024-04-07</th>\n",
       "      <td>4217.288496</td>\n",
       "      <td>3271.641962</td>\n",
       "      <td>4119.274152</td>\n",
       "      <td>3173.627618</td>\n",
       "      <td>3393.65</td>\n",
       "    </tr>\n",
       "  </tbody>\n",
       "</table>\n",
       "<p>99 rows × 5 columns</p>\n",
       "</div>"
      ],
      "text/plain": [
       "            Total (Cost Adjusted)  Short Volatility  Tactical Beta Convexity  \\\n",
       "2023-12-31                    NaN               NaN                      NaN   \n",
       "2024-01-01                    NaN               NaN                      NaN   \n",
       "2024-01-02            2977.760000       3000.000000              2977.760000   \n",
       "2024-01-03            2866.720000       3000.000000              2866.720000   \n",
       "2024-01-04            2891.200000       3000.000000              2891.200000   \n",
       "...                           ...               ...                      ...   \n",
       "2024-04-03            4048.000754       3162.722572              4058.905800   \n",
       "2024-04-04            4058.484178       3202.392348              4029.719448   \n",
       "2024-04-05            4090.788730       3202.392348              4062.024000   \n",
       "2024-04-06            4197.595929       3251.949395              4119.274152   \n",
       "2024-04-07            4217.288496       3271.641962              4119.274152   \n",
       "\n",
       "               Txn Cost    close  \n",
       "2023-12-31          NaN  2285.40  \n",
       "2024-01-01          NaN  2391.15  \n",
       "2024-01-02  3000.000000  2363.35  \n",
       "2024-01-03  3000.000000  2224.55  \n",
       "2024-01-04  3000.000000  2255.15  \n",
       "...                 ...      ...  \n",
       "2024-04-03  3173.627618  3321.05  \n",
       "2024-04-04  3173.627618  3285.95  \n",
       "2024-04-05  3173.627618  3324.80  \n",
       "2024-04-06  3173.627618  3393.65  \n",
       "2024-04-07  3173.627618  3393.65  \n",
       "\n",
       "[99 rows x 5 columns]"
      ]
     },
     "execution_count": 284,
     "metadata": {},
     "output_type": "execute_result"
    }
   ],
   "source": [
    "usd_rets"
   ]
  },
  {
   "cell_type": "code",
   "execution_count": 285,
   "metadata": {},
   "outputs": [],
   "source": [
    "usd_rets.columns = ['Total (Cost Adjusted)','Short Volatility','Tactical Beta Convexity','Cost','Index']"
   ]
  },
  {
   "cell_type": "code",
   "execution_count": 286,
   "metadata": {},
   "outputs": [],
   "source": [
    "usd_rets = usd_rets[['Total (Cost Adjusted)','Short Volatility','Tactical Beta Convexity','Index']]"
   ]
  },
  {
   "cell_type": "code",
   "execution_count": 287,
   "metadata": {},
   "outputs": [
    {
     "data": {
      "image/png": "[encoded data removed]",
      "text/plain": [
       "<Figure size 640x480 with 1 Axes>"
      ]
     },
     "metadata": {},
     "output_type": "display_data"
    }
   ],
   "source": [
    "plot = (((1+(usd_rets.pct_change()).fillna(0)).cumprod()-1)*100).plot(title = 'Cumulative Returns (%)',color = ['midnightblue','goldenrod','steelblue','lightgrey'])\n",
    "#(((1+eth_idx.pct_change()).cumprod()-1)*100).plot()\n",
    "plot.set_facecolor('aliceblue')\n",
    "picpath = \"c:\\\\Users\\\\kmavy\\\\Documents\\\\mydocs\\\\Training Arc\\\\Github\\\\QuantMasterFund\\\\Crypto\\\\MasterFundPerformance.png\"\n",
    "plot.get_figure().savefig(picpath)"
   ]
  },
  {
   "cell_type": "code",
   "execution_count": 288,
   "metadata": {},
   "outputs": [],
   "source": [
    "rets = usd_rets[['Total (Cost Adjusted)']].pct_change().fillna(0)"
   ]
  },
  {
   "cell_type": "code",
   "execution_count": 289,
   "metadata": {},
   "outputs": [
    {
     "data": {
      "text/plain": [
       "Total (Cost Adjusted)    2.031393\n",
       "dtype: float64"
      ]
     },
     "execution_count": 289,
     "metadata": {},
     "output_type": "execute_result"
    }
   ],
   "source": [
    "np.sqrt(252)* rets.mean()/rets.std()"
   ]
  },
  {
   "cell_type": "code",
   "execution_count": 290,
   "metadata": {},
   "outputs": [
    {
     "data": {
      "text/plain": [
       "<Axes: title={'center': 'Master Fund Expanding-Window Sharpe Ratio'}>"
      ]
     },
     "execution_count": 290,
     "metadata": {},
     "output_type": "execute_result"
    },
    {
     "data": {
      "image/png": "[encoded data removed]",
      "text/plain": [
       "<Figure size 640x480 with 1 Axes>"
      ]
     },
     "metadata": {},
     "output_type": "display_data"
    }
   ],
   "source": [
    "(np.sqrt(252)* (rets.expanding(60).mean()-0.053/350)/rets.expanding().std()).fillna(method = 'bfill')[30:].plot(title = 'Master Fund Expanding-Window Sharpe Ratio')"
   ]
  }
 ],
 "metadata": {
  "kernelspec": {
   "display_name": "base",
   "language": "python",
   "name": "python3"
  },
  "language_info": {
   "codemirror_mode": {
    "name": "ipython",
    "version": 3
   },
   "file_extension": ".py",
   "mimetype": "text/x-python",
   "name": "python",
   "nbconvert_exporter": "python",
   "pygments_lexer": "ipython3",
   "version": "3.10.9"
  }
 },
 "nbformat": 4,
 "nbformat_minor": 2
}
