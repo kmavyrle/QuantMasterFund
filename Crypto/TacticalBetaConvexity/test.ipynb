{
 "cells": [
  {
   "cell_type": "code",
   "execution_count": 267,
   "metadata": {},
   "outputs": [
    {
     "name": "stdout",
     "output_type": "stream",
     "text": [
      "The autoreload extension is already loaded. To reload it, use:\n",
      "  %reload_ext autoreload\n"
     ]
    }
   ],
   "source": [
    "import asyncio\n",
    "import websockets\n",
    "import json\n",
    "import pandas as pd\n",
    "import datetime as dt\n",
    "import nest_asyncio\n",
    "from concurrent.futures import ThreadPoolExecutor\n",
    "nest_asyncio.apply()\n",
    "\n",
    "import csv\n",
    "from scipy import stats\n",
    "import os\n",
    "\n",
    "import datetime\n",
    "from pandas.io.json import json_normalize\n",
    "import numpy as np\n",
    "from scipy import interpolate\n",
    "import statsmodels.api as sm\n",
    "from scipy.stats import norm\n",
    "from scipy.stats import skewnorm\n",
    "import matplotlib.pyplot as plt\n",
    "\n",
    "from market_data import HistData\n",
    "from market_data import Options\n",
    "\n",
    "import warnings\n",
    "warnings.filterwarnings(\"ignore\")\n",
    "\n",
    "%load_ext autoreload\n",
    "%autoreload 2"
   ]
  },
  {
   "cell_type": "code",
   "execution_count": 268,
   "metadata": {},
   "outputs": [],
   "source": [
    "posn_path = os.path.join(os.getcwd(), \"performance_analytics\",\"positions.xlsx\")\n",
    "idx_path = os.path.join(os.getcwd(), \"performance_analytics\",\"eth_index.csv\")\n",
    "val_path = \"c:\\\\Users\\\\kmavy\\\\Documents\\\\mydocs\\\\Training Arc\\\\Github\\\\QuantMasterFund\\\\Crypto\\\\val.csv\""
   ]
  },
  {
   "cell_type": "code",
   "execution_count": 269,
   "metadata": {},
   "outputs": [],
   "source": [
    "hdata = HistData('ETH')\n",
    "start_dt = int(pd.to_datetime('20240101').timestamp()*1000)\n",
    "end_dt = int(pd.datetime.today().timestamp()*1000)\n",
    "eth_idx = hdata.get_hist_data(start_dt,end_dt,'ETH-PERPETUAL','1D')[['close']]\n",
    "eth_idx.index = [dt.strftime('%Y-%m-%d') for dt in eth_idx.index]\n",
    "eth_idx.index.names = ['Date']\n",
    "eth_idx.to_csv(idx_path)"
   ]
  },
  {
   "cell_type": "code",
   "execution_count": 270,
   "metadata": {},
   "outputs": [],
   "source": [
    "positions = pd.read_excel(posn_path,index_col = 0)\n",
    "idx_px = pd.read_csv(idx_path,index_col = 0)\n",
    "val = pd.read_csv(val_path,index_col = 0)"
   ]
  },
  {
   "cell_type": "code",
   "execution_count": 271,
   "metadata": {},
   "outputs": [],
   "source": [
    "idx_px.index,positions.index = pd.to_datetime(idx_px.index),pd.to_datetime(positions.index,infer_datetime_format=True)\n",
    "val.index = pd.to_datetime(val.index)"
   ]
  },
  {
   "cell_type": "code",
   "execution_count": 161,
   "metadata": {},
   "outputs": [],
   "source": [
    "dep = int(input())"
   ]
  },
  {
   "cell_type": "code",
   "execution_count": 272,
   "metadata": {},
   "outputs": [],
   "source": [
    "latest_val = pd.DataFrame([dep],index = [pd.datetime.today().date()],columns = ['val'])"
   ]
  },
  {
   "cell_type": "code",
   "execution_count": 247,
   "metadata": {},
   "outputs": [],
   "source": [
    "with open(val_path,'a',newline = '') as csvfile:\n",
    "    writer = csv.writer(csvfile)\n",
    "    for i in range(len(latest_val)):\n",
    "        temp = latest_val.reset_index()\n",
    "        row = temp.iloc[i].values\n",
    "        writer.writerow(row)\n",
    "csvfile.close()\n"
   ]
  },
  {
   "cell_type": "code",
   "execution_count": 273,
   "metadata": {},
   "outputs": [
    {
     "data": {
      "text/html": [
       "<div>\n",
       "<style scoped>\n",
       "    .dataframe tbody tr th:only-of-type {\n",
       "        vertical-align: middle;\n",
       "    }\n",
       "\n",
       "    .dataframe tbody tr th {\n",
       "        vertical-align: top;\n",
       "    }\n",
       "\n",
       "    .dataframe thead th {\n",
       "        text-align: right;\n",
       "    }\n",
       "</style>\n",
       "<table border=\"1\" class=\"dataframe\">\n",
       "  <thead>\n",
       "    <tr style=\"text-align: right;\">\n",
       "      <th></th>\n",
       "      <th>val</th>\n",
       "    </tr>\n",
       "    <tr>\n",
       "      <th>Date</th>\n",
       "      <th></th>\n",
       "    </tr>\n",
       "  </thead>\n",
       "  <tbody>\n",
       "    <tr>\n",
       "      <th>2024-01-01</th>\n",
       "      <td>1850</td>\n",
       "    </tr>\n",
       "    <tr>\n",
       "      <th>2024-01-02</th>\n",
       "      <td>1850</td>\n",
       "    </tr>\n",
       "    <tr>\n",
       "      <th>2024-01-03</th>\n",
       "      <td>1850</td>\n",
       "    </tr>\n",
       "    <tr>\n",
       "      <th>2024-01-04</th>\n",
       "      <td>1850</td>\n",
       "    </tr>\n",
       "    <tr>\n",
       "      <th>2024-01-05</th>\n",
       "      <td>1850</td>\n",
       "    </tr>\n",
       "    <tr>\n",
       "      <th>...</th>\n",
       "      <td>...</td>\n",
       "    </tr>\n",
       "    <tr>\n",
       "      <th>2024-02-29</th>\n",
       "      <td>1850</td>\n",
       "    </tr>\n",
       "    <tr>\n",
       "      <th>2024-03-01</th>\n",
       "      <td>1850</td>\n",
       "    </tr>\n",
       "    <tr>\n",
       "      <th>2024-03-02</th>\n",
       "      <td>1850</td>\n",
       "    </tr>\n",
       "    <tr>\n",
       "      <th>2024-03-03</th>\n",
       "      <td>1850</td>\n",
       "    </tr>\n",
       "    <tr>\n",
       "      <th>2024-03-04</th>\n",
       "      <td>1850</td>\n",
       "    </tr>\n",
       "  </tbody>\n",
       "</table>\n",
       "<p>64 rows × 1 columns</p>\n",
       "</div>"
      ],
      "text/plain": [
       "             val\n",
       "Date            \n",
       "2024-01-01  1850\n",
       "2024-01-02  1850\n",
       "2024-01-03  1850\n",
       "2024-01-04  1850\n",
       "2024-01-05  1850\n",
       "...          ...\n",
       "2024-02-29  1850\n",
       "2024-03-01  1850\n",
       "2024-03-02  1850\n",
       "2024-03-03  1850\n",
       "2024-03-04  1850\n",
       "\n",
       "[64 rows x 1 columns]"
      ]
     },
     "execution_count": 273,
     "metadata": {},
     "output_type": "execute_result"
    }
   ],
   "source": [
    "val = pd.read_csv(val_path,index_col = 0)\n",
    "val"
   ]
  },
  {
   "cell_type": "code",
   "execution_count": 274,
   "metadata": {},
   "outputs": [],
   "source": [
    "#idx_px.index = [dt.strftime('%Y/%d/%') for dt in pd.to_datetime(idx_px.index)]\n",
    "#positions.index = [dt.strftime('%Y-%d-%d') for dt in pd.to_datetime(positions.index)]\n",
    "\n",
    "idx_px.index.names,positions.index.names = ['Date'],['Date']"
   ]
  },
  {
   "cell_type": "code",
   "execution_count": 275,
   "metadata": {},
   "outputs": [],
   "source": [
    "usd_rets = positions.join(idx_px,on='Date',how = 'left')\n",
    "usd_rets['Tactical Beta Convexity'] = usd_rets['close'].diff()*usd_rets['positions']"
   ]
  },
  {
   "cell_type": "code",
   "execution_count": 276,
   "metadata": {},
   "outputs": [],
   "source": [
    "vol_float_pnl_path = \"c:\\\\Users\\\\kmavy\\\\Documents\\\\mydocs\\\\Training Arc\\\\Github\\\\QuantMasterFund\\\\Crypto\\\\Volatility\\\\ShortVolatility\\\\performance_analytics\\\\floating_rets.csv\"\n",
    "vol_rel_pnl_path = \"c:\\\\Users\\\\kmavy\\\\Documents\\\\mydocs\\\\Training Arc\\\\Github\\\\QuantMasterFund\\\\Crypto\\\\Volatility\\\\ShortVolatility\\\\performance_analytics\\\\realized_rets.csv\""
   ]
  },
  {
   "cell_type": "code",
   "execution_count": 277,
   "metadata": {},
   "outputs": [],
   "source": [
    "vol_float_rets = pd.read_csv(vol_float_pnl_path,index_col = 0)\n",
    "vol_rel_rets = pd.read_csv(vol_rel_pnl_path,index_col = 0)\n",
    "vol_rel_rets = vol_rel_rets.groupby(vol_rel_rets.index).sum()"
   ]
  },
  {
   "cell_type": "code",
   "execution_count": 278,
   "metadata": {},
   "outputs": [],
   "source": [
    "\n",
    "#vol_float_rets.index = [dt.strftime('%Y-%m-%d') for dt in pd.to_datetime(vol_float_rets.index,format = \"%d/%m/%Y\")]\n",
    "#vol_rel_rets.index = [dt.strftime('%Y-%m-%d') for dt in pd.to_datetime(vol_rel_rets.index,format = \"%Y-%m-%d\")]"
   ]
  },
  {
   "cell_type": "code",
   "execution_count": 279,
   "metadata": {},
   "outputs": [],
   "source": [
    "vol_rets = pd.DataFrame(pd.concat([vol_float_rets,vol_rel_rets],axis=1).sum(axis=1),columns = ['Short Volatility'])"
   ]
  },
  {
   "cell_type": "code",
   "execution_count": 280,
   "metadata": {},
   "outputs": [],
   "source": [
    "curr_px = usd_rets['close'].iloc[-1]\n",
    "vol_rets = vol_rets*curr_px"
   ]
  },
  {
   "cell_type": "code",
   "execution_count": 281,
   "metadata": {},
   "outputs": [],
   "source": [
    "convexity = usd_rets[['Tactical Beta Convexity']]\n",
    "convexity.index = [dt.strftime('%Y-%m-%d') for dt in pd.to_datetime(convexity.index)]"
   ]
  },
  {
   "cell_type": "code",
   "execution_count": 282,
   "metadata": {},
   "outputs": [],
   "source": [
    "vol_rets.index = [dt.strftime('%Y-%m-%d') for dt in pd.to_datetime(vol_rets.index)]"
   ]
  },
  {
   "cell_type": "code",
   "execution_count": 283,
   "metadata": {},
   "outputs": [],
   "source": [
    "usd_rets = pd.concat([convexity,vol_rets],axis=1).fillna(0)"
   ]
  },
  {
   "cell_type": "code",
   "execution_count": 284,
   "metadata": {},
   "outputs": [],
   "source": [
    "\n",
    "usd_rets['Total'] = usd_rets['Tactical Beta Convexity']+usd_rets['Short Volatility']\n",
    "usd_rets.index.names = [\"Date\"]"
   ]
  },
  {
   "cell_type": "code",
   "execution_count": 285,
   "metadata": {},
   "outputs": [],
   "source": [
    "val.index = [dt.strftime(\"%Y-%m-%d\") for dt in pd.to_datetime(val.index)]"
   ]
  },
  {
   "cell_type": "code",
   "execution_count": 286,
   "metadata": {},
   "outputs": [],
   "source": [
    "vals = pd.concat([usd_rets,val],axis=1)['val']"
   ]
  },
  {
   "cell_type": "code",
   "execution_count": 287,
   "metadata": {},
   "outputs": [],
   "source": [
    "for col in usd_rets.columns:\n",
    "    usd_rets[col]=usd_rets[col]/vals"
   ]
  },
  {
   "cell_type": "code",
   "execution_count": 288,
   "metadata": {},
   "outputs": [],
   "source": [
    "\n",
    "usd_rets.index = pd.to_datetime(usd_rets.index)"
   ]
  },
  {
   "cell_type": "code",
   "execution_count": 289,
   "metadata": {},
   "outputs": [],
   "source": [
    "usd_rets = usd_rets[['Total','Short Volatility','Tactical Beta Convexity']]"
   ]
  },
  {
   "cell_type": "code",
   "execution_count": 290,
   "metadata": {},
   "outputs": [
    {
     "data": {
      "text/html": [
       "<div>\n",
       "<style scoped>\n",
       "    .dataframe tbody tr th:only-of-type {\n",
       "        vertical-align: middle;\n",
       "    }\n",
       "\n",
       "    .dataframe tbody tr th {\n",
       "        vertical-align: top;\n",
       "    }\n",
       "\n",
       "    .dataframe thead th {\n",
       "        text-align: right;\n",
       "    }\n",
       "</style>\n",
       "<table border=\"1\" class=\"dataframe\">\n",
       "  <thead>\n",
       "    <tr style=\"text-align: right;\">\n",
       "      <th></th>\n",
       "      <th>Total</th>\n",
       "      <th>Short Volatility</th>\n",
       "      <th>Tactical Beta Convexity</th>\n",
       "    </tr>\n",
       "    <tr>\n",
       "      <th>Date</th>\n",
       "      <th></th>\n",
       "      <th></th>\n",
       "      <th></th>\n",
       "    </tr>\n",
       "  </thead>\n",
       "  <tbody>\n",
       "    <tr>\n",
       "      <th>2024-01-01</th>\n",
       "      <td>0.000000</td>\n",
       "      <td>0.000000</td>\n",
       "      <td>0.000000</td>\n",
       "    </tr>\n",
       "    <tr>\n",
       "      <th>2024-01-02</th>\n",
       "      <td>-0.010569</td>\n",
       "      <td>0.000000</td>\n",
       "      <td>-0.010569</td>\n",
       "    </tr>\n",
       "    <tr>\n",
       "      <th>2024-01-03</th>\n",
       "      <td>-0.052767</td>\n",
       "      <td>0.000000</td>\n",
       "      <td>-0.052767</td>\n",
       "    </tr>\n",
       "    <tr>\n",
       "      <th>2024-01-04</th>\n",
       "      <td>0.011633</td>\n",
       "      <td>0.000000</td>\n",
       "      <td>0.011633</td>\n",
       "    </tr>\n",
       "    <tr>\n",
       "      <th>2024-01-05</th>\n",
       "      <td>-0.008288</td>\n",
       "      <td>0.000000</td>\n",
       "      <td>-0.008288</td>\n",
       "    </tr>\n",
       "    <tr>\n",
       "      <th>...</th>\n",
       "      <td>...</td>\n",
       "      <td>...</td>\n",
       "      <td>...</td>\n",
       "    </tr>\n",
       "    <tr>\n",
       "      <th>2024-02-29</th>\n",
       "      <td>-0.148438</td>\n",
       "      <td>-0.103744</td>\n",
       "      <td>-0.044694</td>\n",
       "    </tr>\n",
       "    <tr>\n",
       "      <th>2024-03-01</th>\n",
       "      <td>0.116748</td>\n",
       "      <td>0.086464</td>\n",
       "      <td>0.030283</td>\n",
       "    </tr>\n",
       "    <tr>\n",
       "      <th>2024-03-02</th>\n",
       "      <td>0.000160</td>\n",
       "      <td>0.016700</td>\n",
       "      <td>-0.016540</td>\n",
       "    </tr>\n",
       "    <tr>\n",
       "      <th>2024-03-03</th>\n",
       "      <td>0.041424</td>\n",
       "      <td>0.004817</td>\n",
       "      <td>0.036607</td>\n",
       "    </tr>\n",
       "    <tr>\n",
       "      <th>2024-03-04</th>\n",
       "      <td>-0.016152</td>\n",
       "      <td>-0.044264</td>\n",
       "      <td>0.028111</td>\n",
       "    </tr>\n",
       "  </tbody>\n",
       "</table>\n",
       "<p>64 rows × 3 columns</p>\n",
       "</div>"
      ],
      "text/plain": [
       "               Total  Short Volatility  Tactical Beta Convexity\n",
       "Date                                                           \n",
       "2024-01-01  0.000000          0.000000                 0.000000\n",
       "2024-01-02 -0.010569          0.000000                -0.010569\n",
       "2024-01-03 -0.052767          0.000000                -0.052767\n",
       "2024-01-04  0.011633          0.000000                 0.011633\n",
       "2024-01-05 -0.008288          0.000000                -0.008288\n",
       "...              ...               ...                      ...\n",
       "2024-02-29 -0.148438         -0.103744                -0.044694\n",
       "2024-03-01  0.116748          0.086464                 0.030283\n",
       "2024-03-02  0.000160          0.016700                -0.016540\n",
       "2024-03-03  0.041424          0.004817                 0.036607\n",
       "2024-03-04 -0.016152         -0.044264                 0.028111\n",
       "\n",
       "[64 rows x 3 columns]"
      ]
     },
     "execution_count": 290,
     "metadata": {},
     "output_type": "execute_result"
    }
   ],
   "source": [
    "usd_rets"
   ]
  },
  {
   "cell_type": "code",
   "execution_count": 291,
   "metadata": {},
   "outputs": [
    {
     "data": {
      "image/png": "[encoded data removed]",
      "text/plain": [
       "<Figure size 640x480 with 1 Axes>"
      ]
     },
     "metadata": {},
     "output_type": "display_data"
    }
   ],
   "source": [
    "plot = (((1+(usd_rets)).cumprod()-1)*100).plot(title = 'Cumulative Returns (%)',color = ['midnightblue','goldenrod','steelblue'])\n",
    "plot.set_facecolor('aliceblue')\n",
    "picpath = \"c:\\\\Users\\\\kmavy\\\\Documents\\\\mydocs\\\\Training Arc\\\\Github\\\\QuantMasterFund\\\\Crypto\\\\MasterFundPerformance.png\"\n",
    "plot.get_figure().savefig(picpath)"
   ]
  },
  {
   "cell_type": "code",
   "execution_count": null,
   "metadata": {},
   "outputs": [],
   "source": []
  }
 ],
 "metadata": {
  "kernelspec": {
   "display_name": "base",
   "language": "python",
   "name": "python3"
  },
  "language_info": {
   "codemirror_mode": {
    "name": "ipython",
    "version": 3
   },
   "file_extension": ".py",
   "mimetype": "text/x-python",
   "name": "python",
   "nbconvert_exporter": "python",
   "pygments_lexer": "ipython3",
   "version": "3.10.9"
  }
 },
 "nbformat": 4,
 "nbformat_minor": 2
}
